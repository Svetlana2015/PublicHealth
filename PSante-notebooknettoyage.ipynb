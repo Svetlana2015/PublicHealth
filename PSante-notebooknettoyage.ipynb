{
 "cells": [
  {
   "cell_type": "code",
   "execution_count": 1,
   "metadata": {
    "id": "N7DHv68BCwF7"
   },
   "outputs": [],
   "source": [
    "#from google.colab import files\n",
    "#files.upload()"
   ]
  },
  {
   "cell_type": "code",
   "execution_count": 2,
   "metadata": {
    "colab": {
     "base_uri": "https://localhost:8080/"
    },
    "id": "8QyEgqS_FFZf",
    "outputId": "65176039-7740-4c55-ace3-f7a7a259f975",
    "scrolled": true
   },
   "outputs": [],
   "source": [
    "# from google.colab import drive\n",
    "# drive.mount('/content/drive', force_remount=True)"
   ]
  },
  {
   "cell_type": "code",
   "execution_count": 3,
   "metadata": {
    "id": "xQF4LSOuT6e8"
   },
   "outputs": [],
   "source": [
    "import pandas as pd\n",
    "import numpy as np\n",
    "\n",
    "from sklearn import datasets    # Importer le module de jeu de données en ligne\n",
    "from sklearn import neighbors\n",
    "from sklearn.neighbors import KNeighborsClassifier     # Importer le module d'algorithme KNN\n",
    "from sklearn.cluster import KMeans                     # Importer le module d'algorithme KMeans\n",
    "from sklearn.model_selection import train_test_split\n",
    "from sklearn import preprocessing\n",
    "from sklearn.preprocessing import StandardScaler\n",
    "from sklearn import model_selection\n",
    "\n",
    "\n",
    "import matplotlib.pyplot as plt\n",
    "%matplotlib inline\n",
    "import seaborn as sns"
   ]
  },
  {
   "cell_type": "code",
   "execution_count": 4,
   "metadata": {
    "colab": {
     "base_uri": "https://localhost:8080/",
     "height": 507
    },
    "id": "9qgeNMWXDX7_",
    "outputId": "ed8df795-3928-4e08-c5ed-877e9ac72a6c"
   },
   "outputs": [
    {
     "data": {
      "text/html": [
       "<div>\n",
       "<style scoped>\n",
       "    .dataframe tbody tr th:only-of-type {\n",
       "        vertical-align: middle;\n",
       "    }\n",
       "\n",
       "    .dataframe tbody tr th {\n",
       "        vertical-align: top;\n",
       "    }\n",
       "\n",
       "    .dataframe thead th {\n",
       "        text-align: right;\n",
       "    }\n",
       "</style>\n",
       "<table border=\"1\" class=\"dataframe\">\n",
       "  <thead>\n",
       "    <tr style=\"text-align: right;\">\n",
       "      <th></th>\n",
       "      <th>code</th>\n",
       "      <th>url</th>\n",
       "      <th>creator</th>\n",
       "      <th>created_t</th>\n",
       "      <th>created_datetime</th>\n",
       "      <th>last_modified_t</th>\n",
       "      <th>last_modified_datetime</th>\n",
       "      <th>product_name</th>\n",
       "      <th>generic_name</th>\n",
       "      <th>quantity</th>\n",
       "      <th>...</th>\n",
       "      <th>ph_100g</th>\n",
       "      <th>fruits-vegetables-nuts_100g</th>\n",
       "      <th>collagen-meat-protein-ratio_100g</th>\n",
       "      <th>cocoa_100g</th>\n",
       "      <th>chlorophyl_100g</th>\n",
       "      <th>carbon-footprint_100g</th>\n",
       "      <th>nutrition-score-fr_100g</th>\n",
       "      <th>nutrition-score-uk_100g</th>\n",
       "      <th>glycemic-index_100g</th>\n",
       "      <th>water-hardness_100g</th>\n",
       "    </tr>\n",
       "  </thead>\n",
       "  <tbody>\n",
       "    <tr>\n",
       "      <th>0</th>\n",
       "      <td>0000000003087</td>\n",
       "      <td>http://world-fr.openfoodfacts.org/produit/0000...</td>\n",
       "      <td>openfoodfacts-contributors</td>\n",
       "      <td>1474103866</td>\n",
       "      <td>2016-09-17T09:17:46Z</td>\n",
       "      <td>1474103893</td>\n",
       "      <td>2016-09-17T09:18:13Z</td>\n",
       "      <td>Farine de blé noir</td>\n",
       "      <td>NaN</td>\n",
       "      <td>1kg</td>\n",
       "      <td>...</td>\n",
       "      <td>NaN</td>\n",
       "      <td>NaN</td>\n",
       "      <td>NaN</td>\n",
       "      <td>NaN</td>\n",
       "      <td>NaN</td>\n",
       "      <td>NaN</td>\n",
       "      <td>NaN</td>\n",
       "      <td>NaN</td>\n",
       "      <td>NaN</td>\n",
       "      <td>NaN</td>\n",
       "    </tr>\n",
       "    <tr>\n",
       "      <th>1</th>\n",
       "      <td>0000000004530</td>\n",
       "      <td>http://world-fr.openfoodfacts.org/produit/0000...</td>\n",
       "      <td>usda-ndb-import</td>\n",
       "      <td>1489069957</td>\n",
       "      <td>2017-03-09T14:32:37Z</td>\n",
       "      <td>1489069957</td>\n",
       "      <td>2017-03-09T14:32:37Z</td>\n",
       "      <td>Banana Chips Sweetened (Whole)</td>\n",
       "      <td>NaN</td>\n",
       "      <td>NaN</td>\n",
       "      <td>...</td>\n",
       "      <td>NaN</td>\n",
       "      <td>NaN</td>\n",
       "      <td>NaN</td>\n",
       "      <td>NaN</td>\n",
       "      <td>NaN</td>\n",
       "      <td>NaN</td>\n",
       "      <td>14.0</td>\n",
       "      <td>14.0</td>\n",
       "      <td>NaN</td>\n",
       "      <td>NaN</td>\n",
       "    </tr>\n",
       "    <tr>\n",
       "      <th>2</th>\n",
       "      <td>0000000004559</td>\n",
       "      <td>http://world-fr.openfoodfacts.org/produit/0000...</td>\n",
       "      <td>usda-ndb-import</td>\n",
       "      <td>1489069957</td>\n",
       "      <td>2017-03-09T14:32:37Z</td>\n",
       "      <td>1489069957</td>\n",
       "      <td>2017-03-09T14:32:37Z</td>\n",
       "      <td>Peanuts</td>\n",
       "      <td>NaN</td>\n",
       "      <td>NaN</td>\n",
       "      <td>...</td>\n",
       "      <td>NaN</td>\n",
       "      <td>NaN</td>\n",
       "      <td>NaN</td>\n",
       "      <td>NaN</td>\n",
       "      <td>NaN</td>\n",
       "      <td>NaN</td>\n",
       "      <td>0.0</td>\n",
       "      <td>0.0</td>\n",
       "      <td>NaN</td>\n",
       "      <td>NaN</td>\n",
       "    </tr>\n",
       "    <tr>\n",
       "      <th>3</th>\n",
       "      <td>0000000016087</td>\n",
       "      <td>http://world-fr.openfoodfacts.org/produit/0000...</td>\n",
       "      <td>usda-ndb-import</td>\n",
       "      <td>1489055731</td>\n",
       "      <td>2017-03-09T10:35:31Z</td>\n",
       "      <td>1489055731</td>\n",
       "      <td>2017-03-09T10:35:31Z</td>\n",
       "      <td>Organic Salted Nut Mix</td>\n",
       "      <td>NaN</td>\n",
       "      <td>NaN</td>\n",
       "      <td>...</td>\n",
       "      <td>NaN</td>\n",
       "      <td>NaN</td>\n",
       "      <td>NaN</td>\n",
       "      <td>NaN</td>\n",
       "      <td>NaN</td>\n",
       "      <td>NaN</td>\n",
       "      <td>12.0</td>\n",
       "      <td>12.0</td>\n",
       "      <td>NaN</td>\n",
       "      <td>NaN</td>\n",
       "    </tr>\n",
       "    <tr>\n",
       "      <th>4</th>\n",
       "      <td>0000000016094</td>\n",
       "      <td>http://world-fr.openfoodfacts.org/produit/0000...</td>\n",
       "      <td>usda-ndb-import</td>\n",
       "      <td>1489055653</td>\n",
       "      <td>2017-03-09T10:34:13Z</td>\n",
       "      <td>1489055653</td>\n",
       "      <td>2017-03-09T10:34:13Z</td>\n",
       "      <td>Organic Polenta</td>\n",
       "      <td>NaN</td>\n",
       "      <td>NaN</td>\n",
       "      <td>...</td>\n",
       "      <td>NaN</td>\n",
       "      <td>NaN</td>\n",
       "      <td>NaN</td>\n",
       "      <td>NaN</td>\n",
       "      <td>NaN</td>\n",
       "      <td>NaN</td>\n",
       "      <td>NaN</td>\n",
       "      <td>NaN</td>\n",
       "      <td>NaN</td>\n",
       "      <td>NaN</td>\n",
       "    </tr>\n",
       "  </tbody>\n",
       "</table>\n",
       "<p>5 rows × 162 columns</p>\n",
       "</div>"
      ],
      "text/plain": [
       "            code                                                url  \\\n",
       "0  0000000003087  http://world-fr.openfoodfacts.org/produit/0000...   \n",
       "1  0000000004530  http://world-fr.openfoodfacts.org/produit/0000...   \n",
       "2  0000000004559  http://world-fr.openfoodfacts.org/produit/0000...   \n",
       "3  0000000016087  http://world-fr.openfoodfacts.org/produit/0000...   \n",
       "4  0000000016094  http://world-fr.openfoodfacts.org/produit/0000...   \n",
       "\n",
       "                      creator   created_t      created_datetime  \\\n",
       "0  openfoodfacts-contributors  1474103866  2016-09-17T09:17:46Z   \n",
       "1             usda-ndb-import  1489069957  2017-03-09T14:32:37Z   \n",
       "2             usda-ndb-import  1489069957  2017-03-09T14:32:37Z   \n",
       "3             usda-ndb-import  1489055731  2017-03-09T10:35:31Z   \n",
       "4             usda-ndb-import  1489055653  2017-03-09T10:34:13Z   \n",
       "\n",
       "  last_modified_t last_modified_datetime                    product_name  \\\n",
       "0      1474103893   2016-09-17T09:18:13Z              Farine de blé noir   \n",
       "1      1489069957   2017-03-09T14:32:37Z  Banana Chips Sweetened (Whole)   \n",
       "2      1489069957   2017-03-09T14:32:37Z                         Peanuts   \n",
       "3      1489055731   2017-03-09T10:35:31Z          Organic Salted Nut Mix   \n",
       "4      1489055653   2017-03-09T10:34:13Z                 Organic Polenta   \n",
       "\n",
       "  generic_name quantity  ... ph_100g fruits-vegetables-nuts_100g  \\\n",
       "0          NaN      1kg  ...     NaN                         NaN   \n",
       "1          NaN      NaN  ...     NaN                         NaN   \n",
       "2          NaN      NaN  ...     NaN                         NaN   \n",
       "3          NaN      NaN  ...     NaN                         NaN   \n",
       "4          NaN      NaN  ...     NaN                         NaN   \n",
       "\n",
       "  collagen-meat-protein-ratio_100g cocoa_100g chlorophyl_100g  \\\n",
       "0                              NaN        NaN             NaN   \n",
       "1                              NaN        NaN             NaN   \n",
       "2                              NaN        NaN             NaN   \n",
       "3                              NaN        NaN             NaN   \n",
       "4                              NaN        NaN             NaN   \n",
       "\n",
       "  carbon-footprint_100g nutrition-score-fr_100g nutrition-score-uk_100g  \\\n",
       "0                   NaN                     NaN                     NaN   \n",
       "1                   NaN                    14.0                    14.0   \n",
       "2                   NaN                     0.0                     0.0   \n",
       "3                   NaN                    12.0                    12.0   \n",
       "4                   NaN                     NaN                     NaN   \n",
       "\n",
       "  glycemic-index_100g water-hardness_100g  \n",
       "0                 NaN                 NaN  \n",
       "1                 NaN                 NaN  \n",
       "2                 NaN                 NaN  \n",
       "3                 NaN                 NaN  \n",
       "4                 NaN                 NaN  \n",
       "\n",
       "[5 rows x 162 columns]"
      ]
     },
     "execution_count": 4,
     "metadata": {},
     "output_type": "execute_result"
    }
   ],
   "source": [
    "# df_big = pd.read_csv(\"/content/drive/MyDrive/openfoodfacts.csv\", sep='\\t', low_memory=False)\n",
    "# df_big.head()   \n",
    "\n",
    "df_big= pd.read_csv(\"Desktop\\\\OpenClassRoom\\\\Базы_данных\\\\openfoodfacts\\\\openfoodfacts.csv\", sep='\\t', low_memory=False)\n",
    "df_big.head()\n"
   ]
  },
  {
   "cell_type": "code",
   "execution_count": 5,
   "metadata": {
    "colab": {
     "base_uri": "https://localhost:8080/"
    },
    "id": "NS0KASaiGOSf",
    "outputId": "89d1a923-76a6-4bc5-c467-c8a5f7c71bcb"
   },
   "outputs": [
    {
     "data": {
      "text/plain": [
       "(320772, 162)"
      ]
     },
     "execution_count": 5,
     "metadata": {},
     "output_type": "execute_result"
    }
   ],
   "source": [
    "df_big.shape"
   ]
  },
  {
   "cell_type": "code",
   "execution_count": 6,
   "metadata": {
    "colab": {
     "base_uri": "https://localhost:8080/"
    },
    "id": "FIJFHyhpGS8J",
    "outputId": "0df0b9f3-322c-48dd-a3b3-ab2946fc11e4"
   },
   "outputs": [
    {
     "name": "stdout",
     "output_type": "stream",
     "text": [
      "<class 'pandas.core.frame.DataFrame'>\n",
      "RangeIndex: 320772 entries, 0 to 320771\n",
      "Columns: 162 entries, code to water-hardness_100g\n",
      "dtypes: float64(106), object(56)\n",
      "memory usage: 396.5+ MB\n"
     ]
    }
   ],
   "source": [
    "df_big.info()"
   ]
  },
  {
   "cell_type": "code",
   "execution_count": 7,
   "metadata": {
    "id": "-fXd9P1XD_8O"
   },
   "outputs": [],
   "source": [
    "# Sélection de variables pour une application\n",
    "\n",
    "df=df_big[['code','product_name', 'countries', 'additives_n', 'ingredients_from_palm_oil_n', 'nutrition_grade_fr', \n",
    "        'nutrition-score-fr_100g', 'proteins_100g', 'sugars_100g', 'fat_100g', 'saturated-fat_100g', 'polyunsaturated-fat_100g',\n",
    "        'vitamin-a_100g', 'vitamin-c_100g', 'vitamin-pp_100g', 'vitamin-b6_100g', 'vitamin-b1_100g','vitamin-b2_100g', \n",
    "        'vitamin-b9_100g', 'calcium_100g', 'potassium_100g', 'magnesium_100g', 'phosphorus_100g',  \n",
    "        'cholesterol_100g', 'fiber_100g']]\n",
    "df=df.dropna(axis=0, how='all')"
   ]
  },
  {
   "cell_type": "code",
   "execution_count": 8,
   "metadata": {
    "colab": {
     "base_uri": "https://localhost:8080/"
    },
    "id": "o5lFzUiHGg1a",
    "outputId": "73fea715-e70c-4242-8f84-75c471e63016"
   },
   "outputs": [
    {
     "name": "stdout",
     "output_type": "stream",
     "text": [
      "<class 'pandas.core.frame.DataFrame'>\n",
      "Int64Index: 320772 entries, 0 to 320771\n",
      "Data columns (total 25 columns):\n",
      " #   Column                       Non-Null Count   Dtype  \n",
      "---  ------                       --------------   -----  \n",
      " 0   code                         320749 non-null  object \n",
      " 1   product_name                 303010 non-null  object \n",
      " 2   countries                    320492 non-null  object \n",
      " 3   additives_n                  248939 non-null  float64\n",
      " 4   ingredients_from_palm_oil_n  248939 non-null  float64\n",
      " 5   nutrition_grade_fr           221210 non-null  object \n",
      " 6   nutrition-score-fr_100g      221210 non-null  float64\n",
      " 7   proteins_100g                259922 non-null  float64\n",
      " 8   sugars_100g                  244971 non-null  float64\n",
      " 9   fat_100g                     243891 non-null  float64\n",
      " 10  saturated-fat_100g           229554 non-null  float64\n",
      " 11  polyunsaturated-fat_100g     22859 non-null   float64\n",
      " 12  vitamin-a_100g               137554 non-null  float64\n",
      " 13  vitamin-c_100g               140867 non-null  float64\n",
      " 14  vitamin-pp_100g              11729 non-null   float64\n",
      " 15  vitamin-b6_100g              6784 non-null    float64\n",
      " 16  vitamin-b1_100g              11154 non-null   float64\n",
      " 17  vitamin-b2_100g              10815 non-null   float64\n",
      " 18  vitamin-b9_100g              5240 non-null    float64\n",
      " 19  calcium_100g                 141050 non-null  float64\n",
      " 20  potassium_100g               24748 non-null   float64\n",
      " 21  magnesium_100g               6253 non-null    float64\n",
      " 22  phosphorus_100g              5845 non-null    float64\n",
      " 23  cholesterol_100g             144090 non-null  float64\n",
      " 24  fiber_100g                   200886 non-null  float64\n",
      "dtypes: float64(21), object(4)\n",
      "memory usage: 63.6+ MB\n"
     ]
    }
   ],
   "source": [
    "df.info()"
   ]
  },
  {
   "cell_type": "code",
   "execution_count": 9,
   "metadata": {
    "colab": {
     "base_uri": "https://localhost:8080/"
    },
    "id": "xciApm2vGkAT",
    "outputId": "6e615323-a3b3-43fc-da96-8bec6d2c2dd7"
   },
   "outputs": [
    {
     "data": {
      "text/plain": [
       "False    320770\n",
       "True          2\n",
       "dtype: int64"
      ]
     },
     "execution_count": 9,
     "metadata": {},
     "output_type": "execute_result"
    }
   ],
   "source": [
    "# Recherche de doublons\n",
    "\n",
    "df.duplicated().value_counts()"
   ]
  },
  {
   "cell_type": "code",
   "execution_count": 10,
   "metadata": {
    "id": "ASXkkkZMGord"
   },
   "outputs": [],
   "source": [
    "\n",
    "# Suppression des doublons\n",
    "\n",
    "df=df.drop_duplicates(keep=False)"
   ]
  },
  {
   "cell_type": "code",
   "execution_count": 11,
   "metadata": {
    "colab": {
     "base_uri": "https://localhost:8080/",
     "height": 1000
    },
    "id": "-vI13m5IGrVu",
    "outputId": "849b5ee9-e9b7-4d2b-cf63-14536f2fb67e"
   },
   "outputs": [
    {
     "data": {
      "text/html": [
       "<div>\n",
       "<style scoped>\n",
       "    .dataframe tbody tr th:only-of-type {\n",
       "        vertical-align: middle;\n",
       "    }\n",
       "\n",
       "    .dataframe tbody tr th {\n",
       "        vertical-align: top;\n",
       "    }\n",
       "\n",
       "    .dataframe thead th {\n",
       "        text-align: right;\n",
       "    }\n",
       "</style>\n",
       "<table border=\"1\" class=\"dataframe\">\n",
       "  <thead>\n",
       "    <tr style=\"text-align: right;\">\n",
       "      <th></th>\n",
       "      <th>code</th>\n",
       "      <th>product_name</th>\n",
       "      <th>countries</th>\n",
       "      <th>additives_n</th>\n",
       "      <th>ingredients_from_palm_oil_n</th>\n",
       "      <th>nutrition_grade_fr</th>\n",
       "      <th>nutrition-score-fr_100g</th>\n",
       "      <th>proteins_100g</th>\n",
       "      <th>sugars_100g</th>\n",
       "      <th>fat_100g</th>\n",
       "      <th>...</th>\n",
       "      <th>vitamin-b6_100g</th>\n",
       "      <th>vitamin-b1_100g</th>\n",
       "      <th>vitamin-b2_100g</th>\n",
       "      <th>vitamin-b9_100g</th>\n",
       "      <th>calcium_100g</th>\n",
       "      <th>potassium_100g</th>\n",
       "      <th>magnesium_100g</th>\n",
       "      <th>phosphorus_100g</th>\n",
       "      <th>cholesterol_100g</th>\n",
       "      <th>fiber_100g</th>\n",
       "    </tr>\n",
       "  </thead>\n",
       "  <tbody>\n",
       "    <tr>\n",
       "      <th>189068</th>\n",
       "      <td>NaN</td>\n",
       "      <td>Belgique,France</td>\n",
       "      <td>en:to-be-completed,en:nutrition-facts-complete...</td>\n",
       "      <td>NaN</td>\n",
       "      <td>NaN</td>\n",
       "      <td>NaN</td>\n",
       "      <td>NaN</td>\n",
       "      <td>NaN</td>\n",
       "      <td>NaN</td>\n",
       "      <td>NaN</td>\n",
       "      <td>...</td>\n",
       "      <td>NaN</td>\n",
       "      <td>NaN</td>\n",
       "      <td>NaN</td>\n",
       "      <td>NaN</td>\n",
       "      <td>NaN</td>\n",
       "      <td>NaN</td>\n",
       "      <td>NaN</td>\n",
       "      <td>NaN</td>\n",
       "      <td>NaN</td>\n",
       "      <td>NaN</td>\n",
       "    </tr>\n",
       "    <tr>\n",
       "      <th>189103</th>\n",
       "      <td>NaN</td>\n",
       "      <td>France</td>\n",
       "      <td>en:to-be-checked,en:complete,en:nutrition-fact...</td>\n",
       "      <td>NaN</td>\n",
       "      <td>NaN</td>\n",
       "      <td>NaN</td>\n",
       "      <td>NaN</td>\n",
       "      <td>0.137</td>\n",
       "      <td>NaN</td>\n",
       "      <td>NaN</td>\n",
       "      <td>...</td>\n",
       "      <td>NaN</td>\n",
       "      <td>NaN</td>\n",
       "      <td>NaN</td>\n",
       "      <td>NaN</td>\n",
       "      <td>NaN</td>\n",
       "      <td>NaN</td>\n",
       "      <td>NaN</td>\n",
       "      <td>NaN</td>\n",
       "      <td>NaN</td>\n",
       "      <td>NaN</td>\n",
       "    </tr>\n",
       "    <tr>\n",
       "      <th>189109</th>\n",
       "      <td>NaN</td>\n",
       "      <td>Belgique,France,Suisse</td>\n",
       "      <td>en:to-be-checked,en:complete,en:nutrition-fact...</td>\n",
       "      <td>NaN</td>\n",
       "      <td>NaN</td>\n",
       "      <td>NaN</td>\n",
       "      <td>NaN</td>\n",
       "      <td>NaN</td>\n",
       "      <td>NaN</td>\n",
       "      <td>NaN</td>\n",
       "      <td>...</td>\n",
       "      <td>NaN</td>\n",
       "      <td>NaN</td>\n",
       "      <td>NaN</td>\n",
       "      <td>NaN</td>\n",
       "      <td>NaN</td>\n",
       "      <td>NaN</td>\n",
       "      <td>NaN</td>\n",
       "      <td>NaN</td>\n",
       "      <td>NaN</td>\n",
       "      <td>NaN</td>\n",
       "    </tr>\n",
       "    <tr>\n",
       "      <th>189119</th>\n",
       "      <td>NaN</td>\n",
       "      <td>France</td>\n",
       "      <td>en:to-be-checked,en:complete,en:nutrition-fact...</td>\n",
       "      <td>NaN</td>\n",
       "      <td>NaN</td>\n",
       "      <td>NaN</td>\n",
       "      <td>NaN</td>\n",
       "      <td>0.122</td>\n",
       "      <td>NaN</td>\n",
       "      <td>NaN</td>\n",
       "      <td>...</td>\n",
       "      <td>NaN</td>\n",
       "      <td>NaN</td>\n",
       "      <td>NaN</td>\n",
       "      <td>NaN</td>\n",
       "      <td>NaN</td>\n",
       "      <td>NaN</td>\n",
       "      <td>NaN</td>\n",
       "      <td>NaN</td>\n",
       "      <td>NaN</td>\n",
       "      <td>NaN</td>\n",
       "    </tr>\n",
       "    <tr>\n",
       "      <th>189152</th>\n",
       "      <td>NaN</td>\n",
       "      <td>France</td>\n",
       "      <td>en:to-be-checked,en:complete,en:nutrition-fact...</td>\n",
       "      <td>NaN</td>\n",
       "      <td>NaN</td>\n",
       "      <td>NaN</td>\n",
       "      <td>NaN</td>\n",
       "      <td>0.158</td>\n",
       "      <td>NaN</td>\n",
       "      <td>NaN</td>\n",
       "      <td>...</td>\n",
       "      <td>NaN</td>\n",
       "      <td>NaN</td>\n",
       "      <td>NaN</td>\n",
       "      <td>NaN</td>\n",
       "      <td>NaN</td>\n",
       "      <td>NaN</td>\n",
       "      <td>NaN</td>\n",
       "      <td>NaN</td>\n",
       "      <td>NaN</td>\n",
       "      <td>NaN</td>\n",
       "    </tr>\n",
       "    <tr>\n",
       "      <th>189160</th>\n",
       "      <td>NaN</td>\n",
       "      <td>France</td>\n",
       "      <td>en:to-be-checked,en:complete,en:nutrition-fact...</td>\n",
       "      <td>NaN</td>\n",
       "      <td>NaN</td>\n",
       "      <td>NaN</td>\n",
       "      <td>NaN</td>\n",
       "      <td>0.156</td>\n",
       "      <td>NaN</td>\n",
       "      <td>NaN</td>\n",
       "      <td>...</td>\n",
       "      <td>NaN</td>\n",
       "      <td>NaN</td>\n",
       "      <td>NaN</td>\n",
       "      <td>NaN</td>\n",
       "      <td>NaN</td>\n",
       "      <td>NaN</td>\n",
       "      <td>NaN</td>\n",
       "      <td>NaN</td>\n",
       "      <td>NaN</td>\n",
       "      <td>NaN</td>\n",
       "    </tr>\n",
       "    <tr>\n",
       "      <th>189168</th>\n",
       "      <td>NaN</td>\n",
       "      <td>France</td>\n",
       "      <td>en:to-be-checked,en:complete,en:nutrition-fact...</td>\n",
       "      <td>NaN</td>\n",
       "      <td>NaN</td>\n",
       "      <td>NaN</td>\n",
       "      <td>NaN</td>\n",
       "      <td>0.120</td>\n",
       "      <td>NaN</td>\n",
       "      <td>NaN</td>\n",
       "      <td>...</td>\n",
       "      <td>NaN</td>\n",
       "      <td>NaN</td>\n",
       "      <td>NaN</td>\n",
       "      <td>NaN</td>\n",
       "      <td>NaN</td>\n",
       "      <td>NaN</td>\n",
       "      <td>NaN</td>\n",
       "      <td>NaN</td>\n",
       "      <td>NaN</td>\n",
       "      <td>NaN</td>\n",
       "    </tr>\n",
       "    <tr>\n",
       "      <th>189248</th>\n",
       "      <td>NaN</td>\n",
       "      <td>France</td>\n",
       "      <td>en:to-be-checked,en:complete,en:nutrition-fact...</td>\n",
       "      <td>NaN</td>\n",
       "      <td>NaN</td>\n",
       "      <td>NaN</td>\n",
       "      <td>NaN</td>\n",
       "      <td>0.120</td>\n",
       "      <td>NaN</td>\n",
       "      <td>NaN</td>\n",
       "      <td>...</td>\n",
       "      <td>NaN</td>\n",
       "      <td>NaN</td>\n",
       "      <td>NaN</td>\n",
       "      <td>NaN</td>\n",
       "      <td>NaN</td>\n",
       "      <td>NaN</td>\n",
       "      <td>NaN</td>\n",
       "      <td>NaN</td>\n",
       "      <td>NaN</td>\n",
       "      <td>NaN</td>\n",
       "    </tr>\n",
       "    <tr>\n",
       "      <th>189250</th>\n",
       "      <td>NaN</td>\n",
       "      <td>France</td>\n",
       "      <td>en:to-be-checked,en:complete,en:nutrition-fact...</td>\n",
       "      <td>NaN</td>\n",
       "      <td>NaN</td>\n",
       "      <td>NaN</td>\n",
       "      <td>NaN</td>\n",
       "      <td>NaN</td>\n",
       "      <td>NaN</td>\n",
       "      <td>NaN</td>\n",
       "      <td>...</td>\n",
       "      <td>NaN</td>\n",
       "      <td>NaN</td>\n",
       "      <td>NaN</td>\n",
       "      <td>NaN</td>\n",
       "      <td>NaN</td>\n",
       "      <td>NaN</td>\n",
       "      <td>NaN</td>\n",
       "      <td>NaN</td>\n",
       "      <td>NaN</td>\n",
       "      <td>NaN</td>\n",
       "    </tr>\n",
       "    <tr>\n",
       "      <th>189260</th>\n",
       "      <td>NaN</td>\n",
       "      <td>France</td>\n",
       "      <td>en:to-be-checked,en:complete,en:nutrition-fact...</td>\n",
       "      <td>NaN</td>\n",
       "      <td>NaN</td>\n",
       "      <td>NaN</td>\n",
       "      <td>NaN</td>\n",
       "      <td>0.132</td>\n",
       "      <td>NaN</td>\n",
       "      <td>NaN</td>\n",
       "      <td>...</td>\n",
       "      <td>NaN</td>\n",
       "      <td>NaN</td>\n",
       "      <td>NaN</td>\n",
       "      <td>NaN</td>\n",
       "      <td>NaN</td>\n",
       "      <td>NaN</td>\n",
       "      <td>NaN</td>\n",
       "      <td>NaN</td>\n",
       "      <td>NaN</td>\n",
       "      <td>NaN</td>\n",
       "    </tr>\n",
       "    <tr>\n",
       "      <th>189262</th>\n",
       "      <td>NaN</td>\n",
       "      <td>France</td>\n",
       "      <td>en:to-be-checked,en:complete,en:nutrition-fact...</td>\n",
       "      <td>NaN</td>\n",
       "      <td>NaN</td>\n",
       "      <td>NaN</td>\n",
       "      <td>NaN</td>\n",
       "      <td>0.133</td>\n",
       "      <td>NaN</td>\n",
       "      <td>NaN</td>\n",
       "      <td>...</td>\n",
       "      <td>NaN</td>\n",
       "      <td>NaN</td>\n",
       "      <td>NaN</td>\n",
       "      <td>NaN</td>\n",
       "      <td>NaN</td>\n",
       "      <td>NaN</td>\n",
       "      <td>NaN</td>\n",
       "      <td>NaN</td>\n",
       "      <td>NaN</td>\n",
       "      <td>NaN</td>\n",
       "    </tr>\n",
       "    <tr>\n",
       "      <th>189269</th>\n",
       "      <td>NaN</td>\n",
       "      <td>France</td>\n",
       "      <td>en:to-be-checked,en:complete,en:nutrition-fact...</td>\n",
       "      <td>NaN</td>\n",
       "      <td>NaN</td>\n",
       "      <td>NaN</td>\n",
       "      <td>NaN</td>\n",
       "      <td>0.135</td>\n",
       "      <td>NaN</td>\n",
       "      <td>NaN</td>\n",
       "      <td>...</td>\n",
       "      <td>NaN</td>\n",
       "      <td>NaN</td>\n",
       "      <td>NaN</td>\n",
       "      <td>NaN</td>\n",
       "      <td>NaN</td>\n",
       "      <td>NaN</td>\n",
       "      <td>NaN</td>\n",
       "      <td>NaN</td>\n",
       "      <td>NaN</td>\n",
       "      <td>NaN</td>\n",
       "    </tr>\n",
       "    <tr>\n",
       "      <th>189272</th>\n",
       "      <td>NaN</td>\n",
       "      <td>France</td>\n",
       "      <td>en:to-be-checked,en:complete,en:nutrition-fact...</td>\n",
       "      <td>NaN</td>\n",
       "      <td>NaN</td>\n",
       "      <td>NaN</td>\n",
       "      <td>NaN</td>\n",
       "      <td>0.134</td>\n",
       "      <td>NaN</td>\n",
       "      <td>NaN</td>\n",
       "      <td>...</td>\n",
       "      <td>NaN</td>\n",
       "      <td>NaN</td>\n",
       "      <td>NaN</td>\n",
       "      <td>NaN</td>\n",
       "      <td>NaN</td>\n",
       "      <td>NaN</td>\n",
       "      <td>NaN</td>\n",
       "      <td>NaN</td>\n",
       "      <td>NaN</td>\n",
       "      <td>NaN</td>\n",
       "    </tr>\n",
       "    <tr>\n",
       "      <th>189345</th>\n",
       "      <td>NaN</td>\n",
       "      <td>France</td>\n",
       "      <td>en:to-be-checked,en:complete,en:nutrition-fact...</td>\n",
       "      <td>NaN</td>\n",
       "      <td>NaN</td>\n",
       "      <td>NaN</td>\n",
       "      <td>NaN</td>\n",
       "      <td>0.120</td>\n",
       "      <td>NaN</td>\n",
       "      <td>NaN</td>\n",
       "      <td>...</td>\n",
       "      <td>NaN</td>\n",
       "      <td>NaN</td>\n",
       "      <td>NaN</td>\n",
       "      <td>NaN</td>\n",
       "      <td>NaN</td>\n",
       "      <td>NaN</td>\n",
       "      <td>NaN</td>\n",
       "      <td>NaN</td>\n",
       "      <td>NaN</td>\n",
       "      <td>NaN</td>\n",
       "    </tr>\n",
       "    <tr>\n",
       "      <th>189362</th>\n",
       "      <td>NaN</td>\n",
       "      <td>France</td>\n",
       "      <td>en:to-be-checked,en:complete,en:nutrition-fact...</td>\n",
       "      <td>NaN</td>\n",
       "      <td>NaN</td>\n",
       "      <td>NaN</td>\n",
       "      <td>NaN</td>\n",
       "      <td>0.180</td>\n",
       "      <td>NaN</td>\n",
       "      <td>NaN</td>\n",
       "      <td>...</td>\n",
       "      <td>NaN</td>\n",
       "      <td>NaN</td>\n",
       "      <td>NaN</td>\n",
       "      <td>NaN</td>\n",
       "      <td>NaN</td>\n",
       "      <td>NaN</td>\n",
       "      <td>NaN</td>\n",
       "      <td>NaN</td>\n",
       "      <td>NaN</td>\n",
       "      <td>NaN</td>\n",
       "    </tr>\n",
       "    <tr>\n",
       "      <th>189364</th>\n",
       "      <td>NaN</td>\n",
       "      <td>France</td>\n",
       "      <td>en:to-be-completed,en:nutrition-facts-complete...</td>\n",
       "      <td>NaN</td>\n",
       "      <td>NaN</td>\n",
       "      <td>NaN</td>\n",
       "      <td>NaN</td>\n",
       "      <td>0.180</td>\n",
       "      <td>NaN</td>\n",
       "      <td>NaN</td>\n",
       "      <td>...</td>\n",
       "      <td>NaN</td>\n",
       "      <td>NaN</td>\n",
       "      <td>NaN</td>\n",
       "      <td>NaN</td>\n",
       "      <td>NaN</td>\n",
       "      <td>NaN</td>\n",
       "      <td>NaN</td>\n",
       "      <td>NaN</td>\n",
       "      <td>NaN</td>\n",
       "      <td>NaN</td>\n",
       "    </tr>\n",
       "    <tr>\n",
       "      <th>189379</th>\n",
       "      <td>NaN</td>\n",
       "      <td>France</td>\n",
       "      <td>en:to-be-checked,en:complete,en:nutrition-fact...</td>\n",
       "      <td>NaN</td>\n",
       "      <td>NaN</td>\n",
       "      <td>NaN</td>\n",
       "      <td>NaN</td>\n",
       "      <td>0.149</td>\n",
       "      <td>NaN</td>\n",
       "      <td>NaN</td>\n",
       "      <td>...</td>\n",
       "      <td>NaN</td>\n",
       "      <td>NaN</td>\n",
       "      <td>NaN</td>\n",
       "      <td>NaN</td>\n",
       "      <td>NaN</td>\n",
       "      <td>NaN</td>\n",
       "      <td>NaN</td>\n",
       "      <td>NaN</td>\n",
       "      <td>NaN</td>\n",
       "      <td>NaN</td>\n",
       "    </tr>\n",
       "    <tr>\n",
       "      <th>189404</th>\n",
       "      <td>NaN</td>\n",
       "      <td>France,Suisse</td>\n",
       "      <td>en:to-be-checked,en:complete,en:nutrition-fact...</td>\n",
       "      <td>NaN</td>\n",
       "      <td>NaN</td>\n",
       "      <td>NaN</td>\n",
       "      <td>NaN</td>\n",
       "      <td>NaN</td>\n",
       "      <td>NaN</td>\n",
       "      <td>NaN</td>\n",
       "      <td>...</td>\n",
       "      <td>NaN</td>\n",
       "      <td>NaN</td>\n",
       "      <td>NaN</td>\n",
       "      <td>NaN</td>\n",
       "      <td>NaN</td>\n",
       "      <td>NaN</td>\n",
       "      <td>NaN</td>\n",
       "      <td>NaN</td>\n",
       "      <td>NaN</td>\n",
       "      <td>NaN</td>\n",
       "    </tr>\n",
       "    <tr>\n",
       "      <th>189406</th>\n",
       "      <td>NaN</td>\n",
       "      <td>France</td>\n",
       "      <td>en:to-be-checked,en:complete,en:nutrition-fact...</td>\n",
       "      <td>NaN</td>\n",
       "      <td>NaN</td>\n",
       "      <td>NaN</td>\n",
       "      <td>NaN</td>\n",
       "      <td>NaN</td>\n",
       "      <td>NaN</td>\n",
       "      <td>NaN</td>\n",
       "      <td>...</td>\n",
       "      <td>NaN</td>\n",
       "      <td>NaN</td>\n",
       "      <td>NaN</td>\n",
       "      <td>NaN</td>\n",
       "      <td>NaN</td>\n",
       "      <td>NaN</td>\n",
       "      <td>NaN</td>\n",
       "      <td>NaN</td>\n",
       "      <td>NaN</td>\n",
       "      <td>NaN</td>\n",
       "    </tr>\n",
       "  </tbody>\n",
       "</table>\n",
       "<p>19 rows × 25 columns</p>\n",
       "</div>"
      ],
      "text/plain": [
       "       code            product_name  \\\n",
       "189068  NaN         Belgique,France   \n",
       "189103  NaN                  France   \n",
       "189109  NaN  Belgique,France,Suisse   \n",
       "189119  NaN                  France   \n",
       "189152  NaN                  France   \n",
       "189160  NaN                  France   \n",
       "189168  NaN                  France   \n",
       "189248  NaN                  France   \n",
       "189250  NaN                  France   \n",
       "189260  NaN                  France   \n",
       "189262  NaN                  France   \n",
       "189269  NaN                  France   \n",
       "189272  NaN                  France   \n",
       "189345  NaN                  France   \n",
       "189362  NaN                  France   \n",
       "189364  NaN                  France   \n",
       "189379  NaN                  France   \n",
       "189404  NaN           France,Suisse   \n",
       "189406  NaN                  France   \n",
       "\n",
       "                                                countries  additives_n  \\\n",
       "189068  en:to-be-completed,en:nutrition-facts-complete...          NaN   \n",
       "189103  en:to-be-checked,en:complete,en:nutrition-fact...          NaN   \n",
       "189109  en:to-be-checked,en:complete,en:nutrition-fact...          NaN   \n",
       "189119  en:to-be-checked,en:complete,en:nutrition-fact...          NaN   \n",
       "189152  en:to-be-checked,en:complete,en:nutrition-fact...          NaN   \n",
       "189160  en:to-be-checked,en:complete,en:nutrition-fact...          NaN   \n",
       "189168  en:to-be-checked,en:complete,en:nutrition-fact...          NaN   \n",
       "189248  en:to-be-checked,en:complete,en:nutrition-fact...          NaN   \n",
       "189250  en:to-be-checked,en:complete,en:nutrition-fact...          NaN   \n",
       "189260  en:to-be-checked,en:complete,en:nutrition-fact...          NaN   \n",
       "189262  en:to-be-checked,en:complete,en:nutrition-fact...          NaN   \n",
       "189269  en:to-be-checked,en:complete,en:nutrition-fact...          NaN   \n",
       "189272  en:to-be-checked,en:complete,en:nutrition-fact...          NaN   \n",
       "189345  en:to-be-checked,en:complete,en:nutrition-fact...          NaN   \n",
       "189362  en:to-be-checked,en:complete,en:nutrition-fact...          NaN   \n",
       "189364  en:to-be-completed,en:nutrition-facts-complete...          NaN   \n",
       "189379  en:to-be-checked,en:complete,en:nutrition-fact...          NaN   \n",
       "189404  en:to-be-checked,en:complete,en:nutrition-fact...          NaN   \n",
       "189406  en:to-be-checked,en:complete,en:nutrition-fact...          NaN   \n",
       "\n",
       "        ingredients_from_palm_oil_n nutrition_grade_fr  \\\n",
       "189068                          NaN                NaN   \n",
       "189103                          NaN                NaN   \n",
       "189109                          NaN                NaN   \n",
       "189119                          NaN                NaN   \n",
       "189152                          NaN                NaN   \n",
       "189160                          NaN                NaN   \n",
       "189168                          NaN                NaN   \n",
       "189248                          NaN                NaN   \n",
       "189250                          NaN                NaN   \n",
       "189260                          NaN                NaN   \n",
       "189262                          NaN                NaN   \n",
       "189269                          NaN                NaN   \n",
       "189272                          NaN                NaN   \n",
       "189345                          NaN                NaN   \n",
       "189362                          NaN                NaN   \n",
       "189364                          NaN                NaN   \n",
       "189379                          NaN                NaN   \n",
       "189404                          NaN                NaN   \n",
       "189406                          NaN                NaN   \n",
       "\n",
       "        nutrition-score-fr_100g  proteins_100g  sugars_100g  fat_100g  ...  \\\n",
       "189068                      NaN            NaN          NaN       NaN  ...   \n",
       "189103                      NaN          0.137          NaN       NaN  ...   \n",
       "189109                      NaN            NaN          NaN       NaN  ...   \n",
       "189119                      NaN          0.122          NaN       NaN  ...   \n",
       "189152                      NaN          0.158          NaN       NaN  ...   \n",
       "189160                      NaN          0.156          NaN       NaN  ...   \n",
       "189168                      NaN          0.120          NaN       NaN  ...   \n",
       "189248                      NaN          0.120          NaN       NaN  ...   \n",
       "189250                      NaN            NaN          NaN       NaN  ...   \n",
       "189260                      NaN          0.132          NaN       NaN  ...   \n",
       "189262                      NaN          0.133          NaN       NaN  ...   \n",
       "189269                      NaN          0.135          NaN       NaN  ...   \n",
       "189272                      NaN          0.134          NaN       NaN  ...   \n",
       "189345                      NaN          0.120          NaN       NaN  ...   \n",
       "189362                      NaN          0.180          NaN       NaN  ...   \n",
       "189364                      NaN          0.180          NaN       NaN  ...   \n",
       "189379                      NaN          0.149          NaN       NaN  ...   \n",
       "189404                      NaN            NaN          NaN       NaN  ...   \n",
       "189406                      NaN            NaN          NaN       NaN  ...   \n",
       "\n",
       "        vitamin-b6_100g  vitamin-b1_100g  vitamin-b2_100g  vitamin-b9_100g  \\\n",
       "189068              NaN              NaN              NaN              NaN   \n",
       "189103              NaN              NaN              NaN              NaN   \n",
       "189109              NaN              NaN              NaN              NaN   \n",
       "189119              NaN              NaN              NaN              NaN   \n",
       "189152              NaN              NaN              NaN              NaN   \n",
       "189160              NaN              NaN              NaN              NaN   \n",
       "189168              NaN              NaN              NaN              NaN   \n",
       "189248              NaN              NaN              NaN              NaN   \n",
       "189250              NaN              NaN              NaN              NaN   \n",
       "189260              NaN              NaN              NaN              NaN   \n",
       "189262              NaN              NaN              NaN              NaN   \n",
       "189269              NaN              NaN              NaN              NaN   \n",
       "189272              NaN              NaN              NaN              NaN   \n",
       "189345              NaN              NaN              NaN              NaN   \n",
       "189362              NaN              NaN              NaN              NaN   \n",
       "189364              NaN              NaN              NaN              NaN   \n",
       "189379              NaN              NaN              NaN              NaN   \n",
       "189404              NaN              NaN              NaN              NaN   \n",
       "189406              NaN              NaN              NaN              NaN   \n",
       "\n",
       "        calcium_100g  potassium_100g  magnesium_100g  phosphorus_100g  \\\n",
       "189068           NaN             NaN             NaN              NaN   \n",
       "189103           NaN             NaN             NaN              NaN   \n",
       "189109           NaN             NaN             NaN              NaN   \n",
       "189119           NaN             NaN             NaN              NaN   \n",
       "189152           NaN             NaN             NaN              NaN   \n",
       "189160           NaN             NaN             NaN              NaN   \n",
       "189168           NaN             NaN             NaN              NaN   \n",
       "189248           NaN             NaN             NaN              NaN   \n",
       "189250           NaN             NaN             NaN              NaN   \n",
       "189260           NaN             NaN             NaN              NaN   \n",
       "189262           NaN             NaN             NaN              NaN   \n",
       "189269           NaN             NaN             NaN              NaN   \n",
       "189272           NaN             NaN             NaN              NaN   \n",
       "189345           NaN             NaN             NaN              NaN   \n",
       "189362           NaN             NaN             NaN              NaN   \n",
       "189364           NaN             NaN             NaN              NaN   \n",
       "189379           NaN             NaN             NaN              NaN   \n",
       "189404           NaN             NaN             NaN              NaN   \n",
       "189406           NaN             NaN             NaN              NaN   \n",
       "\n",
       "        cholesterol_100g  fiber_100g  \n",
       "189068               NaN         NaN  \n",
       "189103               NaN         NaN  \n",
       "189109               NaN         NaN  \n",
       "189119               NaN         NaN  \n",
       "189152               NaN         NaN  \n",
       "189160               NaN         NaN  \n",
       "189168               NaN         NaN  \n",
       "189248               NaN         NaN  \n",
       "189250               NaN         NaN  \n",
       "189260               NaN         NaN  \n",
       "189262               NaN         NaN  \n",
       "189269               NaN         NaN  \n",
       "189272               NaN         NaN  \n",
       "189345               NaN         NaN  \n",
       "189362               NaN         NaN  \n",
       "189364               NaN         NaN  \n",
       "189379               NaN         NaN  \n",
       "189404               NaN         NaN  \n",
       "189406               NaN         NaN  \n",
       "\n",
       "[19 rows x 25 columns]"
      ]
     },
     "execution_count": 11,
     "metadata": {},
     "output_type": "execute_result"
    }
   ],
   "source": [
    "# Afficher les doublons de la variable \"code\"\n",
    "\n",
    "df_dupl=df.loc[df['code'].duplicated(keep=False), :]\n",
    "df_dupl.head(50)\n"
   ]
  },
  {
   "cell_type": "code",
   "execution_count": 12,
   "metadata": {
    "id": "6XWtmJB5YvqR"
   },
   "outputs": [],
   "source": [
    "# Suppression des lignes erronées\n",
    "\n",
    "erreur = ['Belgique,France', 'France,Suisse', 'France', 'Belgique,France,Suisse']"
   ]
  },
  {
   "cell_type": "code",
   "execution_count": 13,
   "metadata": {
    "colab": {
     "base_uri": "https://localhost:8080/",
     "height": 392
    },
    "id": "qTsaUxfiYvqS",
    "outputId": "a41e4a05-ce3b-4a7f-c84b-9048cffc2e20"
   },
   "outputs": [
    {
     "data": {
      "text/html": [
       "<div>\n",
       "<style scoped>\n",
       "    .dataframe tbody tr th:only-of-type {\n",
       "        vertical-align: middle;\n",
       "    }\n",
       "\n",
       "    .dataframe tbody tr th {\n",
       "        vertical-align: top;\n",
       "    }\n",
       "\n",
       "    .dataframe thead th {\n",
       "        text-align: right;\n",
       "    }\n",
       "</style>\n",
       "<table border=\"1\" class=\"dataframe\">\n",
       "  <thead>\n",
       "    <tr style=\"text-align: right;\">\n",
       "      <th></th>\n",
       "      <th>code</th>\n",
       "      <th>product_name</th>\n",
       "      <th>countries</th>\n",
       "      <th>additives_n</th>\n",
       "      <th>ingredients_from_palm_oil_n</th>\n",
       "      <th>nutrition_grade_fr</th>\n",
       "      <th>nutrition-score-fr_100g</th>\n",
       "      <th>proteins_100g</th>\n",
       "      <th>sugars_100g</th>\n",
       "      <th>fat_100g</th>\n",
       "      <th>...</th>\n",
       "      <th>vitamin-b6_100g</th>\n",
       "      <th>vitamin-b1_100g</th>\n",
       "      <th>vitamin-b2_100g</th>\n",
       "      <th>vitamin-b9_100g</th>\n",
       "      <th>calcium_100g</th>\n",
       "      <th>potassium_100g</th>\n",
       "      <th>magnesium_100g</th>\n",
       "      <th>phosphorus_100g</th>\n",
       "      <th>cholesterol_100g</th>\n",
       "      <th>fiber_100g</th>\n",
       "    </tr>\n",
       "  </thead>\n",
       "  <tbody>\n",
       "    <tr>\n",
       "      <th>0</th>\n",
       "      <td>0000000003087</td>\n",
       "      <td>Farine de blé noir</td>\n",
       "      <td>en:FR</td>\n",
       "      <td>NaN</td>\n",
       "      <td>NaN</td>\n",
       "      <td>NaN</td>\n",
       "      <td>NaN</td>\n",
       "      <td>NaN</td>\n",
       "      <td>NaN</td>\n",
       "      <td>NaN</td>\n",
       "      <td>...</td>\n",
       "      <td>NaN</td>\n",
       "      <td>NaN</td>\n",
       "      <td>NaN</td>\n",
       "      <td>NaN</td>\n",
       "      <td>NaN</td>\n",
       "      <td>NaN</td>\n",
       "      <td>NaN</td>\n",
       "      <td>NaN</td>\n",
       "      <td>NaN</td>\n",
       "      <td>NaN</td>\n",
       "    </tr>\n",
       "    <tr>\n",
       "      <th>1</th>\n",
       "      <td>0000000004530</td>\n",
       "      <td>Banana Chips Sweetened (Whole)</td>\n",
       "      <td>US</td>\n",
       "      <td>0.0</td>\n",
       "      <td>0.0</td>\n",
       "      <td>d</td>\n",
       "      <td>14.0</td>\n",
       "      <td>3.57</td>\n",
       "      <td>14.29</td>\n",
       "      <td>28.57</td>\n",
       "      <td>...</td>\n",
       "      <td>NaN</td>\n",
       "      <td>NaN</td>\n",
       "      <td>NaN</td>\n",
       "      <td>NaN</td>\n",
       "      <td>0.000</td>\n",
       "      <td>NaN</td>\n",
       "      <td>NaN</td>\n",
       "      <td>NaN</td>\n",
       "      <td>0.018</td>\n",
       "      <td>3.6</td>\n",
       "    </tr>\n",
       "    <tr>\n",
       "      <th>2</th>\n",
       "      <td>0000000004559</td>\n",
       "      <td>Peanuts</td>\n",
       "      <td>US</td>\n",
       "      <td>0.0</td>\n",
       "      <td>0.0</td>\n",
       "      <td>b</td>\n",
       "      <td>0.0</td>\n",
       "      <td>17.86</td>\n",
       "      <td>17.86</td>\n",
       "      <td>17.86</td>\n",
       "      <td>...</td>\n",
       "      <td>NaN</td>\n",
       "      <td>NaN</td>\n",
       "      <td>NaN</td>\n",
       "      <td>NaN</td>\n",
       "      <td>0.071</td>\n",
       "      <td>NaN</td>\n",
       "      <td>NaN</td>\n",
       "      <td>NaN</td>\n",
       "      <td>0.000</td>\n",
       "      <td>7.1</td>\n",
       "    </tr>\n",
       "    <tr>\n",
       "      <th>3</th>\n",
       "      <td>0000000016087</td>\n",
       "      <td>Organic Salted Nut Mix</td>\n",
       "      <td>US</td>\n",
       "      <td>0.0</td>\n",
       "      <td>0.0</td>\n",
       "      <td>d</td>\n",
       "      <td>12.0</td>\n",
       "      <td>17.86</td>\n",
       "      <td>3.57</td>\n",
       "      <td>57.14</td>\n",
       "      <td>...</td>\n",
       "      <td>NaN</td>\n",
       "      <td>NaN</td>\n",
       "      <td>NaN</td>\n",
       "      <td>NaN</td>\n",
       "      <td>0.143</td>\n",
       "      <td>NaN</td>\n",
       "      <td>NaN</td>\n",
       "      <td>NaN</td>\n",
       "      <td>NaN</td>\n",
       "      <td>7.1</td>\n",
       "    </tr>\n",
       "    <tr>\n",
       "      <th>4</th>\n",
       "      <td>0000000016094</td>\n",
       "      <td>Organic Polenta</td>\n",
       "      <td>US</td>\n",
       "      <td>0.0</td>\n",
       "      <td>0.0</td>\n",
       "      <td>NaN</td>\n",
       "      <td>NaN</td>\n",
       "      <td>8.57</td>\n",
       "      <td>NaN</td>\n",
       "      <td>1.43</td>\n",
       "      <td>...</td>\n",
       "      <td>NaN</td>\n",
       "      <td>NaN</td>\n",
       "      <td>NaN</td>\n",
       "      <td>NaN</td>\n",
       "      <td>NaN</td>\n",
       "      <td>NaN</td>\n",
       "      <td>NaN</td>\n",
       "      <td>NaN</td>\n",
       "      <td>NaN</td>\n",
       "      <td>5.7</td>\n",
       "    </tr>\n",
       "  </tbody>\n",
       "</table>\n",
       "<p>5 rows × 25 columns</p>\n",
       "</div>"
      ],
      "text/plain": [
       "            code                    product_name countries  additives_n  \\\n",
       "0  0000000003087              Farine de blé noir     en:FR          NaN   \n",
       "1  0000000004530  Banana Chips Sweetened (Whole)        US          0.0   \n",
       "2  0000000004559                         Peanuts        US          0.0   \n",
       "3  0000000016087          Organic Salted Nut Mix        US          0.0   \n",
       "4  0000000016094                 Organic Polenta        US          0.0   \n",
       "\n",
       "   ingredients_from_palm_oil_n nutrition_grade_fr  nutrition-score-fr_100g  \\\n",
       "0                          NaN                NaN                      NaN   \n",
       "1                          0.0                  d                     14.0   \n",
       "2                          0.0                  b                      0.0   \n",
       "3                          0.0                  d                     12.0   \n",
       "4                          0.0                NaN                      NaN   \n",
       "\n",
       "   proteins_100g  sugars_100g  fat_100g  ...  vitamin-b6_100g  \\\n",
       "0            NaN          NaN       NaN  ...              NaN   \n",
       "1           3.57        14.29     28.57  ...              NaN   \n",
       "2          17.86        17.86     17.86  ...              NaN   \n",
       "3          17.86         3.57     57.14  ...              NaN   \n",
       "4           8.57          NaN      1.43  ...              NaN   \n",
       "\n",
       "   vitamin-b1_100g  vitamin-b2_100g  vitamin-b9_100g  calcium_100g  \\\n",
       "0              NaN              NaN              NaN           NaN   \n",
       "1              NaN              NaN              NaN         0.000   \n",
       "2              NaN              NaN              NaN         0.071   \n",
       "3              NaN              NaN              NaN         0.143   \n",
       "4              NaN              NaN              NaN           NaN   \n",
       "\n",
       "   potassium_100g  magnesium_100g  phosphorus_100g  cholesterol_100g  \\\n",
       "0             NaN             NaN              NaN               NaN   \n",
       "1             NaN             NaN              NaN             0.018   \n",
       "2             NaN             NaN              NaN             0.000   \n",
       "3             NaN             NaN              NaN               NaN   \n",
       "4             NaN             NaN              NaN               NaN   \n",
       "\n",
       "   fiber_100g  \n",
       "0         NaN  \n",
       "1         3.6  \n",
       "2         7.1  \n",
       "3         7.1  \n",
       "4         5.7  \n",
       "\n",
       "[5 rows x 25 columns]"
      ]
     },
     "execution_count": 13,
     "metadata": {},
     "output_type": "execute_result"
    }
   ],
   "source": [
    "mask =~df['product_name'].isin(erreur)\n",
    "df=df.loc[mask]\n",
    "df.head()"
   ]
  },
  {
   "cell_type": "code",
   "execution_count": 14,
   "metadata": {
    "id": "oZhrdOhWGy3H"
   },
   "outputs": [],
   "source": [
    "erreur2=[np.nan]"
   ]
  },
  {
   "cell_type": "code",
   "execution_count": 15,
   "metadata": {
    "colab": {
     "base_uri": "https://localhost:8080/",
     "height": 392
    },
    "id": "_2yb9W9_YvqT",
    "outputId": "d9c2720a-43a0-43ed-8297-ac9e8849d424"
   },
   "outputs": [
    {
     "data": {
      "text/html": [
       "<div>\n",
       "<style scoped>\n",
       "    .dataframe tbody tr th:only-of-type {\n",
       "        vertical-align: middle;\n",
       "    }\n",
       "\n",
       "    .dataframe tbody tr th {\n",
       "        vertical-align: top;\n",
       "    }\n",
       "\n",
       "    .dataframe thead th {\n",
       "        text-align: right;\n",
       "    }\n",
       "</style>\n",
       "<table border=\"1\" class=\"dataframe\">\n",
       "  <thead>\n",
       "    <tr style=\"text-align: right;\">\n",
       "      <th></th>\n",
       "      <th>code</th>\n",
       "      <th>product_name</th>\n",
       "      <th>countries</th>\n",
       "      <th>additives_n</th>\n",
       "      <th>ingredients_from_palm_oil_n</th>\n",
       "      <th>nutrition_grade_fr</th>\n",
       "      <th>nutrition-score-fr_100g</th>\n",
       "      <th>proteins_100g</th>\n",
       "      <th>sugars_100g</th>\n",
       "      <th>fat_100g</th>\n",
       "      <th>...</th>\n",
       "      <th>vitamin-b6_100g</th>\n",
       "      <th>vitamin-b1_100g</th>\n",
       "      <th>vitamin-b2_100g</th>\n",
       "      <th>vitamin-b9_100g</th>\n",
       "      <th>calcium_100g</th>\n",
       "      <th>potassium_100g</th>\n",
       "      <th>magnesium_100g</th>\n",
       "      <th>phosphorus_100g</th>\n",
       "      <th>cholesterol_100g</th>\n",
       "      <th>fiber_100g</th>\n",
       "    </tr>\n",
       "  </thead>\n",
       "  <tbody>\n",
       "    <tr>\n",
       "      <th>0</th>\n",
       "      <td>0000000003087</td>\n",
       "      <td>Farine de blé noir</td>\n",
       "      <td>en:FR</td>\n",
       "      <td>NaN</td>\n",
       "      <td>NaN</td>\n",
       "      <td>NaN</td>\n",
       "      <td>NaN</td>\n",
       "      <td>NaN</td>\n",
       "      <td>NaN</td>\n",
       "      <td>NaN</td>\n",
       "      <td>...</td>\n",
       "      <td>NaN</td>\n",
       "      <td>NaN</td>\n",
       "      <td>NaN</td>\n",
       "      <td>NaN</td>\n",
       "      <td>NaN</td>\n",
       "      <td>NaN</td>\n",
       "      <td>NaN</td>\n",
       "      <td>NaN</td>\n",
       "      <td>NaN</td>\n",
       "      <td>NaN</td>\n",
       "    </tr>\n",
       "    <tr>\n",
       "      <th>1</th>\n",
       "      <td>0000000004530</td>\n",
       "      <td>Banana Chips Sweetened (Whole)</td>\n",
       "      <td>US</td>\n",
       "      <td>0.0</td>\n",
       "      <td>0.0</td>\n",
       "      <td>d</td>\n",
       "      <td>14.0</td>\n",
       "      <td>3.57</td>\n",
       "      <td>14.29</td>\n",
       "      <td>28.57</td>\n",
       "      <td>...</td>\n",
       "      <td>NaN</td>\n",
       "      <td>NaN</td>\n",
       "      <td>NaN</td>\n",
       "      <td>NaN</td>\n",
       "      <td>0.000</td>\n",
       "      <td>NaN</td>\n",
       "      <td>NaN</td>\n",
       "      <td>NaN</td>\n",
       "      <td>0.018</td>\n",
       "      <td>3.6</td>\n",
       "    </tr>\n",
       "    <tr>\n",
       "      <th>2</th>\n",
       "      <td>0000000004559</td>\n",
       "      <td>Peanuts</td>\n",
       "      <td>US</td>\n",
       "      <td>0.0</td>\n",
       "      <td>0.0</td>\n",
       "      <td>b</td>\n",
       "      <td>0.0</td>\n",
       "      <td>17.86</td>\n",
       "      <td>17.86</td>\n",
       "      <td>17.86</td>\n",
       "      <td>...</td>\n",
       "      <td>NaN</td>\n",
       "      <td>NaN</td>\n",
       "      <td>NaN</td>\n",
       "      <td>NaN</td>\n",
       "      <td>0.071</td>\n",
       "      <td>NaN</td>\n",
       "      <td>NaN</td>\n",
       "      <td>NaN</td>\n",
       "      <td>0.000</td>\n",
       "      <td>7.1</td>\n",
       "    </tr>\n",
       "    <tr>\n",
       "      <th>3</th>\n",
       "      <td>0000000016087</td>\n",
       "      <td>Organic Salted Nut Mix</td>\n",
       "      <td>US</td>\n",
       "      <td>0.0</td>\n",
       "      <td>0.0</td>\n",
       "      <td>d</td>\n",
       "      <td>12.0</td>\n",
       "      <td>17.86</td>\n",
       "      <td>3.57</td>\n",
       "      <td>57.14</td>\n",
       "      <td>...</td>\n",
       "      <td>NaN</td>\n",
       "      <td>NaN</td>\n",
       "      <td>NaN</td>\n",
       "      <td>NaN</td>\n",
       "      <td>0.143</td>\n",
       "      <td>NaN</td>\n",
       "      <td>NaN</td>\n",
       "      <td>NaN</td>\n",
       "      <td>NaN</td>\n",
       "      <td>7.1</td>\n",
       "    </tr>\n",
       "    <tr>\n",
       "      <th>4</th>\n",
       "      <td>0000000016094</td>\n",
       "      <td>Organic Polenta</td>\n",
       "      <td>US</td>\n",
       "      <td>0.0</td>\n",
       "      <td>0.0</td>\n",
       "      <td>NaN</td>\n",
       "      <td>NaN</td>\n",
       "      <td>8.57</td>\n",
       "      <td>NaN</td>\n",
       "      <td>1.43</td>\n",
       "      <td>...</td>\n",
       "      <td>NaN</td>\n",
       "      <td>NaN</td>\n",
       "      <td>NaN</td>\n",
       "      <td>NaN</td>\n",
       "      <td>NaN</td>\n",
       "      <td>NaN</td>\n",
       "      <td>NaN</td>\n",
       "      <td>NaN</td>\n",
       "      <td>NaN</td>\n",
       "      <td>5.7</td>\n",
       "    </tr>\n",
       "  </tbody>\n",
       "</table>\n",
       "<p>5 rows × 25 columns</p>\n",
       "</div>"
      ],
      "text/plain": [
       "            code                    product_name countries  additives_n  \\\n",
       "0  0000000003087              Farine de blé noir     en:FR          NaN   \n",
       "1  0000000004530  Banana Chips Sweetened (Whole)        US          0.0   \n",
       "2  0000000004559                         Peanuts        US          0.0   \n",
       "3  0000000016087          Organic Salted Nut Mix        US          0.0   \n",
       "4  0000000016094                 Organic Polenta        US          0.0   \n",
       "\n",
       "   ingredients_from_palm_oil_n nutrition_grade_fr  nutrition-score-fr_100g  \\\n",
       "0                          NaN                NaN                      NaN   \n",
       "1                          0.0                  d                     14.0   \n",
       "2                          0.0                  b                      0.0   \n",
       "3                          0.0                  d                     12.0   \n",
       "4                          0.0                NaN                      NaN   \n",
       "\n",
       "   proteins_100g  sugars_100g  fat_100g  ...  vitamin-b6_100g  \\\n",
       "0            NaN          NaN       NaN  ...              NaN   \n",
       "1           3.57        14.29     28.57  ...              NaN   \n",
       "2          17.86        17.86     17.86  ...              NaN   \n",
       "3          17.86         3.57     57.14  ...              NaN   \n",
       "4           8.57          NaN      1.43  ...              NaN   \n",
       "\n",
       "   vitamin-b1_100g  vitamin-b2_100g  vitamin-b9_100g  calcium_100g  \\\n",
       "0              NaN              NaN              NaN           NaN   \n",
       "1              NaN              NaN              NaN         0.000   \n",
       "2              NaN              NaN              NaN         0.071   \n",
       "3              NaN              NaN              NaN         0.143   \n",
       "4              NaN              NaN              NaN           NaN   \n",
       "\n",
       "   potassium_100g  magnesium_100g  phosphorus_100g  cholesterol_100g  \\\n",
       "0             NaN             NaN              NaN               NaN   \n",
       "1             NaN             NaN              NaN             0.018   \n",
       "2             NaN             NaN              NaN             0.000   \n",
       "3             NaN             NaN              NaN               NaN   \n",
       "4             NaN             NaN              NaN               NaN   \n",
       "\n",
       "   fiber_100g  \n",
       "0         NaN  \n",
       "1         3.6  \n",
       "2         7.1  \n",
       "3         7.1  \n",
       "4         5.7  \n",
       "\n",
       "[5 rows x 25 columns]"
      ]
     },
     "execution_count": 15,
     "metadata": {},
     "output_type": "execute_result"
    }
   ],
   "source": [
    "mask =~df['code'].isin(erreur)\n",
    "df=df.loc[mask]\n",
    "df.head()"
   ]
  },
  {
   "cell_type": "code",
   "execution_count": 16,
   "metadata": {
    "id": "pyIheQuNYvqT"
   },
   "outputs": [],
   "source": [
    "# Supprimer les lignes vides\n",
    "\n",
    "df=df.dropna(axis=0, how='all')  "
   ]
  },
  {
   "cell_type": "code",
   "execution_count": 17,
   "metadata": {
    "colab": {
     "base_uri": "https://localhost:8080/"
    },
    "id": "Lj1WSm06YvqT",
    "outputId": "4e851c77-65e7-4d07-ee40-6cb381af570f"
   },
   "outputs": [
    {
     "data": {
      "text/plain": [
       "array([ nan,  14.,   0.,  12.,   7.,  -6.,  15.,  11.,   9.,  16.,  19.,\n",
       "        -1.,   6.,  26.,  13.,  10.,  17.,  22.,  23.,  30.,   8.,  25.,\n",
       "        -2.,   1.,   2.,  18.,  21.,  20.,   3.,   4.,  24.,  27.,  28.,\n",
       "        -3.,  -4.,  -7.,  -5.,   5.,  29.,  31.,  -8.,  -9.,  35.,  33.,\n",
       "        32.,  34., -10.,  40.,  37.,  38., -11.,  36., -13., -12., -14.,\n",
       "       -15.])"
      ]
     },
     "execution_count": 17,
     "metadata": {},
     "output_type": "execute_result"
    }
   ],
   "source": [
    "df['nutrition-score-fr_100g'].unique()"
   ]
  },
  {
   "cell_type": "code",
   "execution_count": 18,
   "metadata": {
    "colab": {
     "base_uri": "https://localhost:8080/"
    },
    "id": "Ev52sUWjYvqT",
    "outputId": "48fe69b9-f939-4f02-a097-f2663938ea78"
   },
   "outputs": [
    {
     "data": {
      "text/plain": [
       "array([nan, 'd', 'b', 'c', 'a', 'e'], dtype=object)"
      ]
     },
     "execution_count": 18,
     "metadata": {},
     "output_type": "execute_result"
    }
   ],
   "source": [
    "df['nutrition_grade_fr'].unique()"
   ]
  },
  {
   "cell_type": "code",
   "execution_count": 19,
   "metadata": {
    "id": "2D4bSWhVT9e0"
   },
   "outputs": [],
   "source": [
    "df=df.dropna(axis=0, subset=['product_name'])"
   ]
  },
  {
   "cell_type": "code",
   "execution_count": 20,
   "metadata": {
    "colab": {
     "base_uri": "https://localhost:8080/"
    },
    "id": "_ExJcX96T9ks",
    "outputId": "2b2986fa-abaf-4b4c-9da8-d31b3c72a7d1"
   },
   "outputs": [
    {
     "name": "stdout",
     "output_type": "stream",
     "text": [
      "<class 'pandas.core.frame.DataFrame'>\n",
      "Int64Index: 302987 entries, 0 to 320771\n",
      "Data columns (total 25 columns):\n",
      " #   Column                       Non-Null Count   Dtype  \n",
      "---  ------                       --------------   -----  \n",
      " 0   code                         302987 non-null  object \n",
      " 1   product_name                 302987 non-null  object \n",
      " 2   countries                    302759 non-null  object \n",
      " 3   additives_n                  247091 non-null  float64\n",
      " 4   ingredients_from_palm_oil_n  247091 non-null  float64\n",
      " 5   nutrition_grade_fr           218463 non-null  object \n",
      " 6   nutrition-score-fr_100g      218463 non-null  float64\n",
      " 7   proteins_100g                256605 non-null  float64\n",
      " 8   sugars_100g                  241910 non-null  float64\n",
      " 9   fat_100g                     240584 non-null  float64\n",
      " 10  saturated-fat_100g           226641 non-null  float64\n",
      " 11  polyunsaturated-fat_100g     22786 non-null   float64\n",
      " 12  vitamin-a_100g               137398 non-null  float64\n",
      " 13  vitamin-c_100g               140655 non-null  float64\n",
      " 14  vitamin-pp_100g              11667 non-null   float64\n",
      " 15  vitamin-b6_100g              6724 non-null    float64\n",
      " 16  vitamin-b1_100g              11088 non-null   float64\n",
      " 17  vitamin-b2_100g              10757 non-null   float64\n",
      " 18  vitamin-b9_100g              5193 non-null    float64\n",
      " 19  calcium_100g                 140837 non-null  float64\n",
      " 20  potassium_100g               24718 non-null   float64\n",
      " 21  magnesium_100g               6205 non-null    float64\n",
      " 22  phosphorus_100g              5814 non-null    float64\n",
      " 23  cholesterol_100g             143950 non-null  float64\n",
      " 24  fiber_100g                   198587 non-null  float64\n",
      "dtypes: float64(21), object(4)\n",
      "memory usage: 60.1+ MB\n"
     ]
    }
   ],
   "source": [
    "df.info()"
   ]
  },
  {
   "cell_type": "code",
   "execution_count": 21,
   "metadata": {
    "colab": {
     "base_uri": "https://localhost:8080/",
     "height": 399
    },
    "id": "3eYcHvzsT9qc",
    "outputId": "8ccdbd58-eb89-41c5-f7e3-68fd7370eeb5"
   },
   "outputs": [
    {
     "data": {
      "text/html": [
       "<div>\n",
       "<style scoped>\n",
       "    .dataframe tbody tr th:only-of-type {\n",
       "        vertical-align: middle;\n",
       "    }\n",
       "\n",
       "    .dataframe tbody tr th {\n",
       "        vertical-align: top;\n",
       "    }\n",
       "\n",
       "    .dataframe thead th {\n",
       "        text-align: right;\n",
       "    }\n",
       "</style>\n",
       "<table border=\"1\" class=\"dataframe\">\n",
       "  <thead>\n",
       "    <tr style=\"text-align: right;\">\n",
       "      <th></th>\n",
       "      <th>additives_n</th>\n",
       "      <th>ingredients_from_palm_oil_n</th>\n",
       "      <th>nutrition-score-fr_100g</th>\n",
       "      <th>proteins_100g</th>\n",
       "      <th>sugars_100g</th>\n",
       "      <th>fat_100g</th>\n",
       "      <th>saturated-fat_100g</th>\n",
       "      <th>polyunsaturated-fat_100g</th>\n",
       "      <th>vitamin-a_100g</th>\n",
       "      <th>vitamin-c_100g</th>\n",
       "      <th>...</th>\n",
       "      <th>vitamin-b6_100g</th>\n",
       "      <th>vitamin-b1_100g</th>\n",
       "      <th>vitamin-b2_100g</th>\n",
       "      <th>vitamin-b9_100g</th>\n",
       "      <th>calcium_100g</th>\n",
       "      <th>potassium_100g</th>\n",
       "      <th>magnesium_100g</th>\n",
       "      <th>phosphorus_100g</th>\n",
       "      <th>cholesterol_100g</th>\n",
       "      <th>fiber_100g</th>\n",
       "    </tr>\n",
       "  </thead>\n",
       "  <tbody>\n",
       "    <tr>\n",
       "      <th>count</th>\n",
       "      <td>247091.000000</td>\n",
       "      <td>247091.000000</td>\n",
       "      <td>218463.000000</td>\n",
       "      <td>256605.000000</td>\n",
       "      <td>241910.000000</td>\n",
       "      <td>240584.000000</td>\n",
       "      <td>226641.000000</td>\n",
       "      <td>22786.000000</td>\n",
       "      <td>137398.000000</td>\n",
       "      <td>140655.00000</td>\n",
       "      <td>...</td>\n",
       "      <td>6724.000000</td>\n",
       "      <td>11088.000000</td>\n",
       "      <td>10757.000000</td>\n",
       "      <td>5193.000000</td>\n",
       "      <td>140837.000000</td>\n",
       "      <td>24718.000000</td>\n",
       "      <td>6205.000000</td>\n",
       "      <td>5814.000000</td>\n",
       "      <td>143950.000000</td>\n",
       "      <td>198587.000000</td>\n",
       "    </tr>\n",
       "    <tr>\n",
       "      <th>mean</th>\n",
       "      <td>1.937748</td>\n",
       "      <td>0.018912</td>\n",
       "      <td>9.151724</td>\n",
       "      <td>7.074330</td>\n",
       "      <td>15.993129</td>\n",
       "      <td>12.701388</td>\n",
       "      <td>5.115709</td>\n",
       "      <td>6.297273</td>\n",
       "      <td>0.000397</td>\n",
       "      <td>0.02335</td>\n",
       "      <td>...</td>\n",
       "      <td>0.022693</td>\n",
       "      <td>0.327350</td>\n",
       "      <td>0.260276</td>\n",
       "      <td>0.006959</td>\n",
       "      <td>0.125119</td>\n",
       "      <td>0.424563</td>\n",
       "      <td>0.537571</td>\n",
       "      <td>0.619346</td>\n",
       "      <td>0.020079</td>\n",
       "      <td>2.863581</td>\n",
       "    </tr>\n",
       "    <tr>\n",
       "      <th>std</th>\n",
       "      <td>2.503582</td>\n",
       "      <td>0.137898</td>\n",
       "      <td>9.052588</td>\n",
       "      <td>8.418758</td>\n",
       "      <td>22.345150</td>\n",
       "      <td>17.574028</td>\n",
       "      <td>8.008095</td>\n",
       "      <td>10.797998</td>\n",
       "      <td>0.073320</td>\n",
       "      <td>2.23813</td>\n",
       "      <td>...</td>\n",
       "      <td>1.211147</td>\n",
       "      <td>2.481523</td>\n",
       "      <td>1.280295</td>\n",
       "      <td>0.336676</td>\n",
       "      <td>3.320757</td>\n",
       "      <td>12.536264</td>\n",
       "      <td>13.550711</td>\n",
       "      <td>12.090154</td>\n",
       "      <td>0.358234</td>\n",
       "      <td>12.933636</td>\n",
       "    </tr>\n",
       "    <tr>\n",
       "      <th>min</th>\n",
       "      <td>0.000000</td>\n",
       "      <td>0.000000</td>\n",
       "      <td>-15.000000</td>\n",
       "      <td>-800.000000</td>\n",
       "      <td>-17.860000</td>\n",
       "      <td>0.000000</td>\n",
       "      <td>0.000000</td>\n",
       "      <td>0.000000</td>\n",
       "      <td>-0.000340</td>\n",
       "      <td>-0.00210</td>\n",
       "      <td>...</td>\n",
       "      <td>0.000000</td>\n",
       "      <td>0.000000</td>\n",
       "      <td>0.000000</td>\n",
       "      <td>0.000000</td>\n",
       "      <td>0.000000</td>\n",
       "      <td>0.000000</td>\n",
       "      <td>0.000000</td>\n",
       "      <td>0.000000</td>\n",
       "      <td>0.000000</td>\n",
       "      <td>-6.700000</td>\n",
       "    </tr>\n",
       "    <tr>\n",
       "      <th>25%</th>\n",
       "      <td>0.000000</td>\n",
       "      <td>0.000000</td>\n",
       "      <td>1.000000</td>\n",
       "      <td>0.700000</td>\n",
       "      <td>1.300000</td>\n",
       "      <td>0.000000</td>\n",
       "      <td>0.000000</td>\n",
       "      <td>0.000000</td>\n",
       "      <td>0.000000</td>\n",
       "      <td>0.00000</td>\n",
       "      <td>...</td>\n",
       "      <td>0.000256</td>\n",
       "      <td>0.004000</td>\n",
       "      <td>0.002833</td>\n",
       "      <td>0.000030</td>\n",
       "      <td>0.000000</td>\n",
       "      <td>0.107000</td>\n",
       "      <td>0.022000</td>\n",
       "      <td>0.096250</td>\n",
       "      <td>0.000000</td>\n",
       "      <td>0.000000</td>\n",
       "    </tr>\n",
       "    <tr>\n",
       "      <th>50%</th>\n",
       "      <td>1.000000</td>\n",
       "      <td>0.000000</td>\n",
       "      <td>10.000000</td>\n",
       "      <td>4.760000</td>\n",
       "      <td>5.710000</td>\n",
       "      <td>5.000000</td>\n",
       "      <td>1.790000</td>\n",
       "      <td>2.220000</td>\n",
       "      <td>0.000000</td>\n",
       "      <td>0.00000</td>\n",
       "      <td>...</td>\n",
       "      <td>0.000700</td>\n",
       "      <td>0.012000</td>\n",
       "      <td>0.014167</td>\n",
       "      <td>0.000051</td>\n",
       "      <td>0.035000</td>\n",
       "      <td>0.180000</td>\n",
       "      <td>0.075000</td>\n",
       "      <td>0.206000</td>\n",
       "      <td>0.000000</td>\n",
       "      <td>1.500000</td>\n",
       "    </tr>\n",
       "    <tr>\n",
       "      <th>75%</th>\n",
       "      <td>3.000000</td>\n",
       "      <td>0.000000</td>\n",
       "      <td>16.000000</td>\n",
       "      <td>10.000000</td>\n",
       "      <td>24.000000</td>\n",
       "      <td>20.000000</td>\n",
       "      <td>7.140000</td>\n",
       "      <td>7.140000</td>\n",
       "      <td>0.000107</td>\n",
       "      <td>0.00370</td>\n",
       "      <td>...</td>\n",
       "      <td>0.001500</td>\n",
       "      <td>0.405000</td>\n",
       "      <td>0.300000</td>\n",
       "      <td>0.000070</td>\n",
       "      <td>0.106000</td>\n",
       "      <td>0.341000</td>\n",
       "      <td>0.141000</td>\n",
       "      <td>0.357000</td>\n",
       "      <td>0.020000</td>\n",
       "      <td>3.600000</td>\n",
       "    </tr>\n",
       "    <tr>\n",
       "      <th>max</th>\n",
       "      <td>31.000000</td>\n",
       "      <td>2.000000</td>\n",
       "      <td>40.000000</td>\n",
       "      <td>430.000000</td>\n",
       "      <td>3520.000000</td>\n",
       "      <td>714.290000</td>\n",
       "      <td>550.000000</td>\n",
       "      <td>98.000000</td>\n",
       "      <td>26.700000</td>\n",
       "      <td>716.98110</td>\n",
       "      <td>...</td>\n",
       "      <td>92.600000</td>\n",
       "      <td>161.000000</td>\n",
       "      <td>42.500000</td>\n",
       "      <td>23.076923</td>\n",
       "      <td>694.737000</td>\n",
       "      <td>1870.370000</td>\n",
       "      <td>657.143000</td>\n",
       "      <td>559.459000</td>\n",
       "      <td>95.238000</td>\n",
       "      <td>5380.000000</td>\n",
       "    </tr>\n",
       "  </tbody>\n",
       "</table>\n",
       "<p>8 rows × 21 columns</p>\n",
       "</div>"
      ],
      "text/plain": [
       "         additives_n  ingredients_from_palm_oil_n  nutrition-score-fr_100g  \\\n",
       "count  247091.000000                247091.000000            218463.000000   \n",
       "mean        1.937748                     0.018912                 9.151724   \n",
       "std         2.503582                     0.137898                 9.052588   \n",
       "min         0.000000                     0.000000               -15.000000   \n",
       "25%         0.000000                     0.000000                 1.000000   \n",
       "50%         1.000000                     0.000000                10.000000   \n",
       "75%         3.000000                     0.000000                16.000000   \n",
       "max        31.000000                     2.000000                40.000000   \n",
       "\n",
       "       proteins_100g    sugars_100g       fat_100g  saturated-fat_100g  \\\n",
       "count  256605.000000  241910.000000  240584.000000       226641.000000   \n",
       "mean        7.074330      15.993129      12.701388            5.115709   \n",
       "std         8.418758      22.345150      17.574028            8.008095   \n",
       "min      -800.000000     -17.860000       0.000000            0.000000   \n",
       "25%         0.700000       1.300000       0.000000            0.000000   \n",
       "50%         4.760000       5.710000       5.000000            1.790000   \n",
       "75%        10.000000      24.000000      20.000000            7.140000   \n",
       "max       430.000000    3520.000000     714.290000          550.000000   \n",
       "\n",
       "       polyunsaturated-fat_100g  vitamin-a_100g  vitamin-c_100g  ...  \\\n",
       "count              22786.000000   137398.000000    140655.00000  ...   \n",
       "mean                   6.297273        0.000397         0.02335  ...   \n",
       "std                   10.797998        0.073320         2.23813  ...   \n",
       "min                    0.000000       -0.000340        -0.00210  ...   \n",
       "25%                    0.000000        0.000000         0.00000  ...   \n",
       "50%                    2.220000        0.000000         0.00000  ...   \n",
       "75%                    7.140000        0.000107         0.00370  ...   \n",
       "max                   98.000000       26.700000       716.98110  ...   \n",
       "\n",
       "       vitamin-b6_100g  vitamin-b1_100g  vitamin-b2_100g  vitamin-b9_100g  \\\n",
       "count      6724.000000     11088.000000     10757.000000      5193.000000   \n",
       "mean          0.022693         0.327350         0.260276         0.006959   \n",
       "std           1.211147         2.481523         1.280295         0.336676   \n",
       "min           0.000000         0.000000         0.000000         0.000000   \n",
       "25%           0.000256         0.004000         0.002833         0.000030   \n",
       "50%           0.000700         0.012000         0.014167         0.000051   \n",
       "75%           0.001500         0.405000         0.300000         0.000070   \n",
       "max          92.600000       161.000000        42.500000        23.076923   \n",
       "\n",
       "        calcium_100g  potassium_100g  magnesium_100g  phosphorus_100g  \\\n",
       "count  140837.000000    24718.000000     6205.000000      5814.000000   \n",
       "mean        0.125119        0.424563        0.537571         0.619346   \n",
       "std         3.320757       12.536264       13.550711        12.090154   \n",
       "min         0.000000        0.000000        0.000000         0.000000   \n",
       "25%         0.000000        0.107000        0.022000         0.096250   \n",
       "50%         0.035000        0.180000        0.075000         0.206000   \n",
       "75%         0.106000        0.341000        0.141000         0.357000   \n",
       "max       694.737000     1870.370000      657.143000       559.459000   \n",
       "\n",
       "       cholesterol_100g     fiber_100g  \n",
       "count     143950.000000  198587.000000  \n",
       "mean           0.020079       2.863581  \n",
       "std            0.358234      12.933636  \n",
       "min            0.000000      -6.700000  \n",
       "25%            0.000000       0.000000  \n",
       "50%            0.000000       1.500000  \n",
       "75%            0.020000       3.600000  \n",
       "max           95.238000    5380.000000  \n",
       "\n",
       "[8 rows x 21 columns]"
      ]
     },
     "execution_count": 21,
     "metadata": {},
     "output_type": "execute_result"
    }
   ],
   "source": [
    "df.describe()"
   ]
  },
  {
   "cell_type": "code",
   "execution_count": 22,
   "metadata": {
    "colab": {
     "base_uri": "https://localhost:8080/",
     "height": 329
    },
    "id": "BAoa69uAHUpa",
    "outputId": "0edccb06-f9f3-469a-e068-6edf780dcfa4"
   },
   "outputs": [
    {
     "data": {
      "text/html": [
       "<div>\n",
       "<style scoped>\n",
       "    .dataframe tbody tr th:only-of-type {\n",
       "        vertical-align: middle;\n",
       "    }\n",
       "\n",
       "    .dataframe tbody tr th {\n",
       "        vertical-align: top;\n",
       "    }\n",
       "\n",
       "    .dataframe thead th {\n",
       "        text-align: right;\n",
       "    }\n",
       "</style>\n",
       "<table border=\"1\" class=\"dataframe\">\n",
       "  <thead>\n",
       "    <tr style=\"text-align: right;\">\n",
       "      <th></th>\n",
       "      <th>code</th>\n",
       "      <th>product_name</th>\n",
       "      <th>countries</th>\n",
       "      <th>additives_n</th>\n",
       "      <th>ingredients_from_palm_oil_n</th>\n",
       "      <th>nutrition_grade_fr</th>\n",
       "      <th>nutrition-score-fr_100g</th>\n",
       "      <th>proteins_100g</th>\n",
       "      <th>sugars_100g</th>\n",
       "      <th>fat_100g</th>\n",
       "      <th>...</th>\n",
       "      <th>vitamin-b6_100g</th>\n",
       "      <th>vitamin-b1_100g</th>\n",
       "      <th>vitamin-b2_100g</th>\n",
       "      <th>vitamin-b9_100g</th>\n",
       "      <th>calcium_100g</th>\n",
       "      <th>potassium_100g</th>\n",
       "      <th>magnesium_100g</th>\n",
       "      <th>phosphorus_100g</th>\n",
       "      <th>cholesterol_100g</th>\n",
       "      <th>fiber_100g</th>\n",
       "    </tr>\n",
       "  </thead>\n",
       "  <tbody>\n",
       "    <tr>\n",
       "      <th>33781</th>\n",
       "      <td>0036800416727</td>\n",
       "      <td>Whole Cashews</td>\n",
       "      <td>US</td>\n",
       "      <td>0.0</td>\n",
       "      <td>0.0</td>\n",
       "      <td>d</td>\n",
       "      <td>14.0</td>\n",
       "      <td>-3.57</td>\n",
       "      <td>3.57</td>\n",
       "      <td>46.43</td>\n",
       "      <td>...</td>\n",
       "      <td>NaN</td>\n",
       "      <td>NaN</td>\n",
       "      <td>NaN</td>\n",
       "      <td>NaN</td>\n",
       "      <td>0.071</td>\n",
       "      <td>NaN</td>\n",
       "      <td>NaN</td>\n",
       "      <td>NaN</td>\n",
       "      <td>0.0</td>\n",
       "      <td>3.6</td>\n",
       "    </tr>\n",
       "    <tr>\n",
       "      <th>115310</th>\n",
       "      <td>04029816</td>\n",
       "      <td>Gourmet Blends, Seasoning, Garlic Pepper</td>\n",
       "      <td>US</td>\n",
       "      <td>0.0</td>\n",
       "      <td>0.0</td>\n",
       "      <td>NaN</td>\n",
       "      <td>NaN</td>\n",
       "      <td>-500.00</td>\n",
       "      <td>NaN</td>\n",
       "      <td>0.00</td>\n",
       "      <td>...</td>\n",
       "      <td>NaN</td>\n",
       "      <td>NaN</td>\n",
       "      <td>NaN</td>\n",
       "      <td>NaN</td>\n",
       "      <td>NaN</td>\n",
       "      <td>NaN</td>\n",
       "      <td>NaN</td>\n",
       "      <td>NaN</td>\n",
       "      <td>NaN</td>\n",
       "      <td>NaN</td>\n",
       "    </tr>\n",
       "    <tr>\n",
       "      <th>169119</th>\n",
       "      <td>0875208001230</td>\n",
       "      <td>Lightly Dried Cilantro</td>\n",
       "      <td>US</td>\n",
       "      <td>0.0</td>\n",
       "      <td>0.0</td>\n",
       "      <td>NaN</td>\n",
       "      <td>NaN</td>\n",
       "      <td>-800.00</td>\n",
       "      <td>0.00</td>\n",
       "      <td>0.00</td>\n",
       "      <td>...</td>\n",
       "      <td>NaN</td>\n",
       "      <td>NaN</td>\n",
       "      <td>NaN</td>\n",
       "      <td>NaN</td>\n",
       "      <td>NaN</td>\n",
       "      <td>NaN</td>\n",
       "      <td>NaN</td>\n",
       "      <td>NaN</td>\n",
       "      <td>NaN</td>\n",
       "      <td>NaN</td>\n",
       "    </tr>\n",
       "  </tbody>\n",
       "</table>\n",
       "<p>3 rows × 25 columns</p>\n",
       "</div>"
      ],
      "text/plain": [
       "                 code                              product_name countries  \\\n",
       "33781   0036800416727                             Whole Cashews        US   \n",
       "115310       04029816  Gourmet Blends, Seasoning, Garlic Pepper        US   \n",
       "169119  0875208001230                    Lightly Dried Cilantro        US   \n",
       "\n",
       "        additives_n  ingredients_from_palm_oil_n nutrition_grade_fr  \\\n",
       "33781           0.0                          0.0                  d   \n",
       "115310          0.0                          0.0                NaN   \n",
       "169119          0.0                          0.0                NaN   \n",
       "\n",
       "        nutrition-score-fr_100g  proteins_100g  sugars_100g  fat_100g  ...  \\\n",
       "33781                      14.0          -3.57         3.57     46.43  ...   \n",
       "115310                      NaN        -500.00          NaN      0.00  ...   \n",
       "169119                      NaN        -800.00         0.00      0.00  ...   \n",
       "\n",
       "        vitamin-b6_100g  vitamin-b1_100g  vitamin-b2_100g  vitamin-b9_100g  \\\n",
       "33781               NaN              NaN              NaN              NaN   \n",
       "115310              NaN              NaN              NaN              NaN   \n",
       "169119              NaN              NaN              NaN              NaN   \n",
       "\n",
       "        calcium_100g  potassium_100g  magnesium_100g  phosphorus_100g  \\\n",
       "33781          0.071             NaN             NaN              NaN   \n",
       "115310           NaN             NaN             NaN              NaN   \n",
       "169119           NaN             NaN             NaN              NaN   \n",
       "\n",
       "        cholesterol_100g  fiber_100g  \n",
       "33781                0.0         3.6  \n",
       "115310               NaN         NaN  \n",
       "169119               NaN         NaN  \n",
       "\n",
       "[3 rows x 25 columns]"
      ]
     },
     "execution_count": 22,
     "metadata": {},
     "output_type": "execute_result"
    }
   ],
   "source": [
    "df1=df[(df['proteins_100g'] <0)]\n",
    "df1.head()"
   ]
  },
  {
   "cell_type": "code",
   "execution_count": 23,
   "metadata": {
    "colab": {
     "base_uri": "https://localhost:8080/",
     "height": 478
    },
    "id": "ANr5C8bfYvqV",
    "outputId": "40aea9c9-82bd-4426-b191-efff7708d21a"
   },
   "outputs": [
    {
     "data": {
      "text/html": [
       "<div>\n",
       "<style scoped>\n",
       "    .dataframe tbody tr th:only-of-type {\n",
       "        vertical-align: middle;\n",
       "    }\n",
       "\n",
       "    .dataframe tbody tr th {\n",
       "        vertical-align: top;\n",
       "    }\n",
       "\n",
       "    .dataframe thead th {\n",
       "        text-align: right;\n",
       "    }\n",
       "</style>\n",
       "<table border=\"1\" class=\"dataframe\">\n",
       "  <thead>\n",
       "    <tr style=\"text-align: right;\">\n",
       "      <th></th>\n",
       "      <th>code</th>\n",
       "      <th>product_name</th>\n",
       "      <th>countries</th>\n",
       "      <th>additives_n</th>\n",
       "      <th>ingredients_from_palm_oil_n</th>\n",
       "      <th>nutrition_grade_fr</th>\n",
       "      <th>nutrition-score-fr_100g</th>\n",
       "      <th>proteins_100g</th>\n",
       "      <th>sugars_100g</th>\n",
       "      <th>fat_100g</th>\n",
       "      <th>...</th>\n",
       "      <th>vitamin-b6_100g</th>\n",
       "      <th>vitamin-b1_100g</th>\n",
       "      <th>vitamin-b2_100g</th>\n",
       "      <th>vitamin-b9_100g</th>\n",
       "      <th>calcium_100g</th>\n",
       "      <th>potassium_100g</th>\n",
       "      <th>magnesium_100g</th>\n",
       "      <th>phosphorus_100g</th>\n",
       "      <th>cholesterol_100g</th>\n",
       "      <th>fiber_100g</th>\n",
       "    </tr>\n",
       "  </thead>\n",
       "  <tbody>\n",
       "    <tr>\n",
       "      <th>8582</th>\n",
       "      <td>0011213420608</td>\n",
       "      <td>Grade A Fancy Chopped Spinach</td>\n",
       "      <td>US</td>\n",
       "      <td>0.0</td>\n",
       "      <td>0.0</td>\n",
       "      <td>a</td>\n",
       "      <td>-1.0</td>\n",
       "      <td>2.41</td>\n",
       "      <td>-1.20</td>\n",
       "      <td>0.00</td>\n",
       "      <td>...</td>\n",
       "      <td>NaN</td>\n",
       "      <td>NaN</td>\n",
       "      <td>NaN</td>\n",
       "      <td>NaN</td>\n",
       "      <td>0.096</td>\n",
       "      <td>NaN</td>\n",
       "      <td>NaN</td>\n",
       "      <td>NaN</td>\n",
       "      <td>0.000</td>\n",
       "      <td>1.2</td>\n",
       "    </tr>\n",
       "    <tr>\n",
       "      <th>18209</th>\n",
       "      <td>0021130493432</td>\n",
       "      <td>Select, Spicy Red Bell Pepper Pasta Sauce</td>\n",
       "      <td>US</td>\n",
       "      <td>0.0</td>\n",
       "      <td>0.0</td>\n",
       "      <td>b</td>\n",
       "      <td>2.0</td>\n",
       "      <td>0.80</td>\n",
       "      <td>-0.80</td>\n",
       "      <td>0.80</td>\n",
       "      <td>...</td>\n",
       "      <td>NaN</td>\n",
       "      <td>NaN</td>\n",
       "      <td>NaN</td>\n",
       "      <td>NaN</td>\n",
       "      <td>NaN</td>\n",
       "      <td>NaN</td>\n",
       "      <td>NaN</td>\n",
       "      <td>NaN</td>\n",
       "      <td>0.000</td>\n",
       "      <td>0.8</td>\n",
       "    </tr>\n",
       "    <tr>\n",
       "      <th>117739</th>\n",
       "      <td>0608866999263</td>\n",
       "      <td>Hummous, Black Truffle</td>\n",
       "      <td>US</td>\n",
       "      <td>1.0</td>\n",
       "      <td>0.0</td>\n",
       "      <td>a</td>\n",
       "      <td>-4.0</td>\n",
       "      <td>7.14</td>\n",
       "      <td>-3.57</td>\n",
       "      <td>3.57</td>\n",
       "      <td>...</td>\n",
       "      <td>NaN</td>\n",
       "      <td>NaN</td>\n",
       "      <td>NaN</td>\n",
       "      <td>NaN</td>\n",
       "      <td>0.071</td>\n",
       "      <td>NaN</td>\n",
       "      <td>NaN</td>\n",
       "      <td>NaN</td>\n",
       "      <td>0.000</td>\n",
       "      <td>3.6</td>\n",
       "    </tr>\n",
       "    <tr>\n",
       "      <th>146284</th>\n",
       "      <td>0789280259062</td>\n",
       "      <td>Crackers</td>\n",
       "      <td>US</td>\n",
       "      <td>1.0</td>\n",
       "      <td>0.0</td>\n",
       "      <td>NaN</td>\n",
       "      <td>NaN</td>\n",
       "      <td>NaN</td>\n",
       "      <td>-6.67</td>\n",
       "      <td>13.33</td>\n",
       "      <td>...</td>\n",
       "      <td>NaN</td>\n",
       "      <td>NaN</td>\n",
       "      <td>NaN</td>\n",
       "      <td>NaN</td>\n",
       "      <td>0.000</td>\n",
       "      <td>NaN</td>\n",
       "      <td>NaN</td>\n",
       "      <td>NaN</td>\n",
       "      <td>0.033</td>\n",
       "      <td>6.7</td>\n",
       "    </tr>\n",
       "    <tr>\n",
       "      <th>150858</th>\n",
       "      <td>0813922021028</td>\n",
       "      <td>Italianavera, Tomato Sauce With Gaeta Olives &amp;...</td>\n",
       "      <td>US</td>\n",
       "      <td>0.0</td>\n",
       "      <td>0.0</td>\n",
       "      <td>c</td>\n",
       "      <td>4.0</td>\n",
       "      <td>1.25</td>\n",
       "      <td>-6.25</td>\n",
       "      <td>6.25</td>\n",
       "      <td>...</td>\n",
       "      <td>NaN</td>\n",
       "      <td>NaN</td>\n",
       "      <td>NaN</td>\n",
       "      <td>NaN</td>\n",
       "      <td>0.050</td>\n",
       "      <td>NaN</td>\n",
       "      <td>NaN</td>\n",
       "      <td>NaN</td>\n",
       "      <td>0.000</td>\n",
       "      <td>1.2</td>\n",
       "    </tr>\n",
       "  </tbody>\n",
       "</table>\n",
       "<p>5 rows × 25 columns</p>\n",
       "</div>"
      ],
      "text/plain": [
       "                 code                                       product_name  \\\n",
       "8582    0011213420608                      Grade A Fancy Chopped Spinach   \n",
       "18209   0021130493432          Select, Spicy Red Bell Pepper Pasta Sauce   \n",
       "117739  0608866999263                             Hummous, Black Truffle   \n",
       "146284  0789280259062                                           Crackers   \n",
       "150858  0813922021028  Italianavera, Tomato Sauce With Gaeta Olives &...   \n",
       "\n",
       "       countries  additives_n  ingredients_from_palm_oil_n nutrition_grade_fr  \\\n",
       "8582          US          0.0                          0.0                  a   \n",
       "18209         US          0.0                          0.0                  b   \n",
       "117739        US          1.0                          0.0                  a   \n",
       "146284        US          1.0                          0.0                NaN   \n",
       "150858        US          0.0                          0.0                  c   \n",
       "\n",
       "        nutrition-score-fr_100g  proteins_100g  sugars_100g  fat_100g  ...  \\\n",
       "8582                       -1.0           2.41        -1.20      0.00  ...   \n",
       "18209                       2.0           0.80        -0.80      0.80  ...   \n",
       "117739                     -4.0           7.14        -3.57      3.57  ...   \n",
       "146284                      NaN            NaN        -6.67     13.33  ...   \n",
       "150858                      4.0           1.25        -6.25      6.25  ...   \n",
       "\n",
       "        vitamin-b6_100g  vitamin-b1_100g  vitamin-b2_100g  vitamin-b9_100g  \\\n",
       "8582                NaN              NaN              NaN              NaN   \n",
       "18209               NaN              NaN              NaN              NaN   \n",
       "117739              NaN              NaN              NaN              NaN   \n",
       "146284              NaN              NaN              NaN              NaN   \n",
       "150858              NaN              NaN              NaN              NaN   \n",
       "\n",
       "        calcium_100g  potassium_100g  magnesium_100g  phosphorus_100g  \\\n",
       "8582           0.096             NaN             NaN              NaN   \n",
       "18209            NaN             NaN             NaN              NaN   \n",
       "117739         0.071             NaN             NaN              NaN   \n",
       "146284         0.000             NaN             NaN              NaN   \n",
       "150858         0.050             NaN             NaN              NaN   \n",
       "\n",
       "        cholesterol_100g  fiber_100g  \n",
       "8582               0.000         1.2  \n",
       "18209              0.000         0.8  \n",
       "117739             0.000         3.6  \n",
       "146284             0.033         6.7  \n",
       "150858             0.000         1.2  \n",
       "\n",
       "[5 rows x 25 columns]"
      ]
     },
     "execution_count": 23,
     "metadata": {},
     "output_type": "execute_result"
    }
   ],
   "source": [
    "df2=df[(df['sugars_100g'] <0)]\n",
    "df2.head()"
   ]
  },
  {
   "cell_type": "code",
   "execution_count": 24,
   "metadata": {
    "id": "Xm1GcMQ4YvqV"
   },
   "outputs": [],
   "source": [
    "# Il y a des valeurs négatives dans la base de données qui sont clairement une erreur. Changer leurs valeurs en NaN\n",
    "\n",
    "df['proteins_100g'][df['proteins_100g'] < 0] = np.nan\n",
    "df['sugars_100g'][df['sugars_100g'] < 0] = np.nan\n",
    "df['vitamin-a_100g'][df['vitamin-a_100g'] < 0] = np.nan\n",
    "df['fiber_100g'][df['fiber_100g'] < 0] = np.nan\n",
    "df['vitamin-c_100g'][df['vitamin-c_100g'] < 0] = np.nan"
   ]
  },
  {
   "cell_type": "code",
   "execution_count": 25,
   "metadata": {
    "colab": {
     "base_uri": "https://localhost:8080/"
    },
    "id": "MJGTmSciPJjh",
    "outputId": "877030b7-471a-4c5a-8616-e56163a86fa1"
   },
   "outputs": [
    {
     "name": "stderr",
     "output_type": "stream",
     "text": [
      "<ipython-input-25-7471eae7f141>:3: SettingWithCopyWarning: \n",
      "A value is trying to be set on a copy of a slice from a DataFrame\n",
      "\n",
      "See the caveats in the documentation: https://pandas.pydata.org/pandas-docs/stable/user_guide/indexing.html#returning-a-view-versus-a-copy\n",
      "  df['proteins_100g'][df['proteins_100g'] > 100] = np.nan\n",
      "<ipython-input-25-7471eae7f141>:4: SettingWithCopyWarning: \n",
      "A value is trying to be set on a copy of a slice from a DataFrame\n",
      "\n",
      "See the caveats in the documentation: https://pandas.pydata.org/pandas-docs/stable/user_guide/indexing.html#returning-a-view-versus-a-copy\n",
      "  df['sugars_100g'][df['sugars_100g'] > 100] = np.nan\n",
      "<ipython-input-25-7471eae7f141>:7: SettingWithCopyWarning: \n",
      "A value is trying to be set on a copy of a slice from a DataFrame\n",
      "\n",
      "See the caveats in the documentation: https://pandas.pydata.org/pandas-docs/stable/user_guide/indexing.html#returning-a-view-versus-a-copy\n",
      "  df['vitamin-a_100g'][df['vitamin-a_100g'] > 0.030] = np.nan\n",
      "<ipython-input-25-7471eae7f141>:15: SettingWithCopyWarning: \n",
      "A value is trying to be set on a copy of a slice from a DataFrame\n",
      "\n",
      "See the caveats in the documentation: https://pandas.pydata.org/pandas-docs/stable/user_guide/indexing.html#returning-a-view-versus-a-copy\n",
      "  df['fiber_100g'][df['fiber_100g'] > 100] = np.nan\n",
      "<ipython-input-25-7471eae7f141>:16: SettingWithCopyWarning: \n",
      "A value is trying to be set on a copy of a slice from a DataFrame\n",
      "\n",
      "See the caveats in the documentation: https://pandas.pydata.org/pandas-docs/stable/user_guide/indexing.html#returning-a-view-versus-a-copy\n",
      "  df['vitamin-c_100g'][df['vitamin-c_100g'] > 1] = np.nan\n"
     ]
    }
   ],
   "source": [
    "# Il y a aussi des valeurs aberrante. On les remplace aussi par NaN\n",
    "\n",
    "df['proteins_100g'][df['proteins_100g'] > 100] = np.nan\n",
    "df['sugars_100g'][df['sugars_100g'] > 100] = np.nan\n",
    "df['fat_100g'][df['fat_100g'] > 100] = np.nan\n",
    "df['saturated-fat_100g'][df['saturated-fat_100g'] > 100] = np.nan\n",
    "df['vitamin-a_100g'][df['vitamin-a_100g'] > 0.030] = np.nan\n",
    "df['vitamin-b2_100g'][df['vitamin-b2_100g'] > 3] = np.nan\n",
    "df['vitamin-b9_100g'][df['vitamin-b9_100g'] > 3] = np.nan\n",
    "df['calcium_100g'][df['calcium_100g'] > 5] = np.nan\n",
    "df['magnesium_100g'][df['magnesium_100g'] > 3] = np.nan\n",
    "df['phosphorus_100g'][df['phosphorus_100g'] > 2] = np.nan\n",
    "df['cholesterol_100g'][df['cholesterol_100g'] > 3] = np.nan\n",
    "df['potassium_100g'][df['potassium_100g'] > 5] = np.nan\n",
    "df['fiber_100g'][df['fiber_100g'] > 100] = np.nan\n",
    "df['vitamin-c_100g'][df['vitamin-c_100g'] > 1] = np.nan\n",
    "df['vitamin-b6_100g'][df['vitamin-b6_100g'] > 3] = np.nan\n",
    "df['vitamin-b1_100g'][df['vitamin-b1_100g'] > 2] = np.nan\n",
    "df['vitamin-pp_100g'][df['vitamin-pp_100g'] > 0.2] = np.nan"
   ]
  },
  {
   "cell_type": "code",
   "execution_count": 26,
   "metadata": {
    "colab": {
     "base_uri": "https://localhost:8080/",
     "height": 399
    },
    "id": "sKSNyrETPJji",
    "outputId": "eadcf9f6-e6dc-450e-c456-2e3b08b4d545"
   },
   "outputs": [
    {
     "data": {
      "text/html": [
       "<div>\n",
       "<style scoped>\n",
       "    .dataframe tbody tr th:only-of-type {\n",
       "        vertical-align: middle;\n",
       "    }\n",
       "\n",
       "    .dataframe tbody tr th {\n",
       "        vertical-align: top;\n",
       "    }\n",
       "\n",
       "    .dataframe thead th {\n",
       "        text-align: right;\n",
       "    }\n",
       "</style>\n",
       "<table border=\"1\" class=\"dataframe\">\n",
       "  <thead>\n",
       "    <tr style=\"text-align: right;\">\n",
       "      <th></th>\n",
       "      <th>additives_n</th>\n",
       "      <th>ingredients_from_palm_oil_n</th>\n",
       "      <th>nutrition-score-fr_100g</th>\n",
       "      <th>proteins_100g</th>\n",
       "      <th>sugars_100g</th>\n",
       "      <th>fat_100g</th>\n",
       "      <th>saturated-fat_100g</th>\n",
       "      <th>polyunsaturated-fat_100g</th>\n",
       "      <th>vitamin-a_100g</th>\n",
       "      <th>vitamin-c_100g</th>\n",
       "      <th>...</th>\n",
       "      <th>vitamin-b6_100g</th>\n",
       "      <th>vitamin-b1_100g</th>\n",
       "      <th>vitamin-b2_100g</th>\n",
       "      <th>vitamin-b9_100g</th>\n",
       "      <th>calcium_100g</th>\n",
       "      <th>potassium_100g</th>\n",
       "      <th>magnesium_100g</th>\n",
       "      <th>phosphorus_100g</th>\n",
       "      <th>cholesterol_100g</th>\n",
       "      <th>fiber_100g</th>\n",
       "    </tr>\n",
       "  </thead>\n",
       "  <tbody>\n",
       "    <tr>\n",
       "      <th>count</th>\n",
       "      <td>247091.000000</td>\n",
       "      <td>247091.000000</td>\n",
       "      <td>218463.000000</td>\n",
       "      <td>256601.000000</td>\n",
       "      <td>241892.000000</td>\n",
       "      <td>240580.000000</td>\n",
       "      <td>226638.000000</td>\n",
       "      <td>22786.000000</td>\n",
       "      <td>137382.000000</td>\n",
       "      <td>140496.000000</td>\n",
       "      <td>...</td>\n",
       "      <td>6722.000000</td>\n",
       "      <td>10995.000000</td>\n",
       "      <td>10715.000000</td>\n",
       "      <td>5190.000000</td>\n",
       "      <td>140791.000000</td>\n",
       "      <td>24669.000000</td>\n",
       "      <td>6184.000000</td>\n",
       "      <td>5795.000000</td>\n",
       "      <td>143945.000000</td>\n",
       "      <td>198582.000000</td>\n",
       "    </tr>\n",
       "    <tr>\n",
       "      <th>mean</th>\n",
       "      <td>1.937748</td>\n",
       "      <td>0.018912</td>\n",
       "      <td>9.151724</td>\n",
       "      <td>7.077845</td>\n",
       "      <td>15.975216</td>\n",
       "      <td>12.696195</td>\n",
       "      <td>5.111649</td>\n",
       "      <td>6.297273</td>\n",
       "      <td>0.000155</td>\n",
       "      <td>0.007567</td>\n",
       "      <td>...</td>\n",
       "      <td>0.003613</td>\n",
       "      <td>0.228523</td>\n",
       "      <td>0.207718</td>\n",
       "      <td>0.000542</td>\n",
       "      <td>0.096102</td>\n",
       "      <td>0.290481</td>\n",
       "      <td>0.105571</td>\n",
       "      <td>0.251293</td>\n",
       "      <td>0.018321</td>\n",
       "      <td>2.833600</td>\n",
       "    </tr>\n",
       "    <tr>\n",
       "      <th>std</th>\n",
       "      <td>2.503582</td>\n",
       "      <td>0.137898</td>\n",
       "      <td>9.052588</td>\n",
       "      <td>8.163246</td>\n",
       "      <td>21.169760</td>\n",
       "      <td>17.497914</td>\n",
       "      <td>7.906154</td>\n",
       "      <td>10.797998</td>\n",
       "      <td>0.000647</td>\n",
       "      <td>0.033208</td>\n",
       "      <td>...</td>\n",
       "      <td>0.048702</td>\n",
       "      <td>0.346971</td>\n",
       "      <td>0.373235</td>\n",
       "      <td>0.014963</td>\n",
       "      <td>0.194791</td>\n",
       "      <td>0.337943</td>\n",
       "      <td>0.142728</td>\n",
       "      <td>0.216601</td>\n",
       "      <td>0.038483</td>\n",
       "      <td>4.591686</td>\n",
       "    </tr>\n",
       "    <tr>\n",
       "      <th>min</th>\n",
       "      <td>0.000000</td>\n",
       "      <td>0.000000</td>\n",
       "      <td>-15.000000</td>\n",
       "      <td>0.000000</td>\n",
       "      <td>0.000000</td>\n",
       "      <td>0.000000</td>\n",
       "      <td>0.000000</td>\n",
       "      <td>0.000000</td>\n",
       "      <td>0.000000</td>\n",
       "      <td>0.000000</td>\n",
       "      <td>...</td>\n",
       "      <td>0.000000</td>\n",
       "      <td>0.000000</td>\n",
       "      <td>0.000000</td>\n",
       "      <td>0.000000</td>\n",
       "      <td>0.000000</td>\n",
       "      <td>0.000000</td>\n",
       "      <td>0.000000</td>\n",
       "      <td>0.000000</td>\n",
       "      <td>0.000000</td>\n",
       "      <td>0.000000</td>\n",
       "    </tr>\n",
       "    <tr>\n",
       "      <th>25%</th>\n",
       "      <td>0.000000</td>\n",
       "      <td>0.000000</td>\n",
       "      <td>1.000000</td>\n",
       "      <td>0.700000</td>\n",
       "      <td>1.300000</td>\n",
       "      <td>0.000000</td>\n",
       "      <td>0.000000</td>\n",
       "      <td>0.000000</td>\n",
       "      <td>0.000000</td>\n",
       "      <td>0.000000</td>\n",
       "      <td>...</td>\n",
       "      <td>0.000256</td>\n",
       "      <td>0.004000</td>\n",
       "      <td>0.002787</td>\n",
       "      <td>0.000030</td>\n",
       "      <td>0.000000</td>\n",
       "      <td>0.107000</td>\n",
       "      <td>0.021000</td>\n",
       "      <td>0.094500</td>\n",
       "      <td>0.000000</td>\n",
       "      <td>0.000000</td>\n",
       "    </tr>\n",
       "    <tr>\n",
       "      <th>50%</th>\n",
       "      <td>1.000000</td>\n",
       "      <td>0.000000</td>\n",
       "      <td>10.000000</td>\n",
       "      <td>4.760000</td>\n",
       "      <td>5.710000</td>\n",
       "      <td>5.000000</td>\n",
       "      <td>1.790000</td>\n",
       "      <td>2.220000</td>\n",
       "      <td>0.000000</td>\n",
       "      <td>0.000000</td>\n",
       "      <td>...</td>\n",
       "      <td>0.000700</td>\n",
       "      <td>0.012000</td>\n",
       "      <td>0.014167</td>\n",
       "      <td>0.000051</td>\n",
       "      <td>0.035000</td>\n",
       "      <td>0.180000</td>\n",
       "      <td>0.074750</td>\n",
       "      <td>0.204000</td>\n",
       "      <td>0.000000</td>\n",
       "      <td>1.500000</td>\n",
       "    </tr>\n",
       "    <tr>\n",
       "      <th>75%</th>\n",
       "      <td>3.000000</td>\n",
       "      <td>0.000000</td>\n",
       "      <td>16.000000</td>\n",
       "      <td>10.000000</td>\n",
       "      <td>24.000000</td>\n",
       "      <td>20.000000</td>\n",
       "      <td>7.140000</td>\n",
       "      <td>7.140000</td>\n",
       "      <td>0.000107</td>\n",
       "      <td>0.003600</td>\n",
       "      <td>...</td>\n",
       "      <td>0.001500</td>\n",
       "      <td>0.395000</td>\n",
       "      <td>0.299824</td>\n",
       "      <td>0.000070</td>\n",
       "      <td>0.106000</td>\n",
       "      <td>0.339000</td>\n",
       "      <td>0.140000</td>\n",
       "      <td>0.357000</td>\n",
       "      <td>0.020000</td>\n",
       "      <td>3.600000</td>\n",
       "    </tr>\n",
       "    <tr>\n",
       "      <th>max</th>\n",
       "      <td>31.000000</td>\n",
       "      <td>2.000000</td>\n",
       "      <td>40.000000</td>\n",
       "      <td>100.000000</td>\n",
       "      <td>100.000000</td>\n",
       "      <td>100.000000</td>\n",
       "      <td>100.000000</td>\n",
       "      <td>98.000000</td>\n",
       "      <td>0.030000</td>\n",
       "      <td>1.000000</td>\n",
       "      <td>...</td>\n",
       "      <td>1.700000</td>\n",
       "      <td>2.000000</td>\n",
       "      <td>2.833333</td>\n",
       "      <td>0.700000</td>\n",
       "      <td>5.000000</td>\n",
       "      <td>4.867000</td>\n",
       "      <td>2.857000</td>\n",
       "      <td>2.000000</td>\n",
       "      <td>1.580000</td>\n",
       "      <td>100.000000</td>\n",
       "    </tr>\n",
       "  </tbody>\n",
       "</table>\n",
       "<p>8 rows × 21 columns</p>\n",
       "</div>"
      ],
      "text/plain": [
       "         additives_n  ingredients_from_palm_oil_n  nutrition-score-fr_100g  \\\n",
       "count  247091.000000                247091.000000            218463.000000   \n",
       "mean        1.937748                     0.018912                 9.151724   \n",
       "std         2.503582                     0.137898                 9.052588   \n",
       "min         0.000000                     0.000000               -15.000000   \n",
       "25%         0.000000                     0.000000                 1.000000   \n",
       "50%         1.000000                     0.000000                10.000000   \n",
       "75%         3.000000                     0.000000                16.000000   \n",
       "max        31.000000                     2.000000                40.000000   \n",
       "\n",
       "       proteins_100g    sugars_100g       fat_100g  saturated-fat_100g  \\\n",
       "count  256601.000000  241892.000000  240580.000000       226638.000000   \n",
       "mean        7.077845      15.975216      12.696195            5.111649   \n",
       "std         8.163246      21.169760      17.497914            7.906154   \n",
       "min         0.000000       0.000000       0.000000            0.000000   \n",
       "25%         0.700000       1.300000       0.000000            0.000000   \n",
       "50%         4.760000       5.710000       5.000000            1.790000   \n",
       "75%        10.000000      24.000000      20.000000            7.140000   \n",
       "max       100.000000     100.000000     100.000000          100.000000   \n",
       "\n",
       "       polyunsaturated-fat_100g  vitamin-a_100g  vitamin-c_100g  ...  \\\n",
       "count              22786.000000   137382.000000   140496.000000  ...   \n",
       "mean                   6.297273        0.000155        0.007567  ...   \n",
       "std                   10.797998        0.000647        0.033208  ...   \n",
       "min                    0.000000        0.000000        0.000000  ...   \n",
       "25%                    0.000000        0.000000        0.000000  ...   \n",
       "50%                    2.220000        0.000000        0.000000  ...   \n",
       "75%                    7.140000        0.000107        0.003600  ...   \n",
       "max                   98.000000        0.030000        1.000000  ...   \n",
       "\n",
       "       vitamin-b6_100g  vitamin-b1_100g  vitamin-b2_100g  vitamin-b9_100g  \\\n",
       "count      6722.000000     10995.000000     10715.000000      5190.000000   \n",
       "mean          0.003613         0.228523         0.207718         0.000542   \n",
       "std           0.048702         0.346971         0.373235         0.014963   \n",
       "min           0.000000         0.000000         0.000000         0.000000   \n",
       "25%           0.000256         0.004000         0.002787         0.000030   \n",
       "50%           0.000700         0.012000         0.014167         0.000051   \n",
       "75%           0.001500         0.395000         0.299824         0.000070   \n",
       "max           1.700000         2.000000         2.833333         0.700000   \n",
       "\n",
       "        calcium_100g  potassium_100g  magnesium_100g  phosphorus_100g  \\\n",
       "count  140791.000000    24669.000000     6184.000000      5795.000000   \n",
       "mean        0.096102        0.290481        0.105571         0.251293   \n",
       "std         0.194791        0.337943        0.142728         0.216601   \n",
       "min         0.000000        0.000000        0.000000         0.000000   \n",
       "25%         0.000000        0.107000        0.021000         0.094500   \n",
       "50%         0.035000        0.180000        0.074750         0.204000   \n",
       "75%         0.106000        0.339000        0.140000         0.357000   \n",
       "max         5.000000        4.867000        2.857000         2.000000   \n",
       "\n",
       "       cholesterol_100g     fiber_100g  \n",
       "count     143945.000000  198582.000000  \n",
       "mean           0.018321       2.833600  \n",
       "std            0.038483       4.591686  \n",
       "min            0.000000       0.000000  \n",
       "25%            0.000000       0.000000  \n",
       "50%            0.000000       1.500000  \n",
       "75%            0.020000       3.600000  \n",
       "max            1.580000     100.000000  \n",
       "\n",
       "[8 rows x 21 columns]"
      ]
     },
     "execution_count": 26,
     "metadata": {},
     "output_type": "execute_result"
    }
   ],
   "source": [
    "df.describe()"
   ]
  },
  {
   "cell_type": "code",
   "execution_count": 27,
   "metadata": {
    "colab": {
     "base_uri": "https://localhost:8080/"
    },
    "id": "WGSBFSbFPJji",
    "outputId": "b1010285-3fd3-4f84-b3d6-f4d1a5429ea4"
   },
   "outputs": [
    {
     "name": "stdout",
     "output_type": "stream",
     "text": [
      "<class 'pandas.core.frame.DataFrame'>\n",
      "Int64Index: 302987 entries, 0 to 320771\n",
      "Data columns (total 25 columns):\n",
      " #   Column                       Non-Null Count   Dtype  \n",
      "---  ------                       --------------   -----  \n",
      " 0   code                         302987 non-null  object \n",
      " 1   product_name                 302987 non-null  object \n",
      " 2   countries                    302759 non-null  object \n",
      " 3   additives_n                  247091 non-null  float64\n",
      " 4   ingredients_from_palm_oil_n  247091 non-null  float64\n",
      " 5   nutrition_grade_fr           218463 non-null  object \n",
      " 6   nutrition-score-fr_100g      218463 non-null  float64\n",
      " 7   proteins_100g                256601 non-null  float64\n",
      " 8   sugars_100g                  241892 non-null  float64\n",
      " 9   fat_100g                     240580 non-null  float64\n",
      " 10  saturated-fat_100g           226638 non-null  float64\n",
      " 11  polyunsaturated-fat_100g     22786 non-null   float64\n",
      " 12  vitamin-a_100g               137382 non-null  float64\n",
      " 13  vitamin-c_100g               140496 non-null  float64\n",
      " 14  vitamin-pp_100g              11642 non-null   float64\n",
      " 15  vitamin-b6_100g              6722 non-null    float64\n",
      " 16  vitamin-b1_100g              10995 non-null   float64\n",
      " 17  vitamin-b2_100g              10715 non-null   float64\n",
      " 18  vitamin-b9_100g              5190 non-null    float64\n",
      " 19  calcium_100g                 140791 non-null  float64\n",
      " 20  potassium_100g               24669 non-null   float64\n",
      " 21  magnesium_100g               6184 non-null    float64\n",
      " 22  phosphorus_100g              5795 non-null    float64\n",
      " 23  cholesterol_100g             143945 non-null  float64\n",
      " 24  fiber_100g                   198582 non-null  float64\n",
      "dtypes: float64(21), object(4)\n",
      "memory usage: 60.1+ MB\n"
     ]
    }
   ],
   "source": [
    "df.info()"
   ]
  },
  {
   "cell_type": "markdown",
   "metadata": {
    "id": "OTsk35sPPJjj"
   },
   "source": [
    "La meilleure manière de repérer les valeurs aberrantes est de tracer une boite à moustache pour chaque variable. En effet, sur les boites à moustaches sont représentés la médiane, les quartiles 25% et 75% ainsi les valeurs les plus extrêmes dans la limite de 1.5 fois la hauteur de la boîte. Il est alors assez aisé d'indentifier les valeurs qui sortent 'totalement' de ces limites."
   ]
  },
  {
   "cell_type": "code",
   "execution_count": 28,
   "metadata": {
    "id": "mCmEhhaxPJjl"
   },
   "outputs": [],
   "source": [
    "# Remplacer les valeurs manquantes par la moyenne\n",
    "\n",
    "df_new=df\n",
    "\n",
    "df_new['countries']=df_new['countries'].fillna(df_new['countries'].mode()[0])\n",
    "df_new['nutrition_grade_fr'] = df_new['nutrition_grade_fr'].fillna(df_new['nutrition_grade_fr'].mode()[0])\n",
    "\n",
    "num_vars_name =['additives_n', 'ingredients_from_palm_oil_n',\n",
    "    'nutrition-score-fr_100g', 'proteins_100g', 'sugars_100g','fat_100g', \n",
    "    'saturated-fat_100g', 'polyunsaturated-fat_100g','vitamin-a_100g', \n",
    "    'vitamin-c_100g', 'vitamin-pp_100g', 'vitamin-b6_100g', 'vitamin-b1_100g',\n",
    "    'vitamin-b2_100g', 'vitamin-b9_100g', 'calcium_100g','potassium_100g', \n",
    "    'magnesium_100g', 'phosphorus_100g', 'cholesterol_100g', 'fiber_100g']\n",
    "\n",
    "df_new = df_new.fillna(df_new[num_vars_name].mean())"
   ]
  },
  {
   "cell_type": "code",
   "execution_count": 29,
   "metadata": {
    "colab": {
     "base_uri": "https://localhost:8080/"
    },
    "id": "rF1g7dfMPJjl",
    "outputId": "b8cc999c-e187-4ee9-afee-36964263aaff"
   },
   "outputs": [
    {
     "name": "stdout",
     "output_type": "stream",
     "text": [
      "<class 'pandas.core.frame.DataFrame'>\n",
      "Int64Index: 302987 entries, 0 to 320771\n",
      "Data columns (total 25 columns):\n",
      " #   Column                       Non-Null Count   Dtype  \n",
      "---  ------                       --------------   -----  \n",
      " 0   code                         302987 non-null  object \n",
      " 1   product_name                 302987 non-null  object \n",
      " 2   countries                    302987 non-null  object \n",
      " 3   additives_n                  302987 non-null  float64\n",
      " 4   ingredients_from_palm_oil_n  302987 non-null  float64\n",
      " 5   nutrition_grade_fr           302987 non-null  object \n",
      " 6   nutrition-score-fr_100g      302987 non-null  float64\n",
      " 7   proteins_100g                302987 non-null  float64\n",
      " 8   sugars_100g                  302987 non-null  float64\n",
      " 9   fat_100g                     302987 non-null  float64\n",
      " 10  saturated-fat_100g           302987 non-null  float64\n",
      " 11  polyunsaturated-fat_100g     302987 non-null  float64\n",
      " 12  vitamin-a_100g               302987 non-null  float64\n",
      " 13  vitamin-c_100g               302987 non-null  float64\n",
      " 14  vitamin-pp_100g              302987 non-null  float64\n",
      " 15  vitamin-b6_100g              302987 non-null  float64\n",
      " 16  vitamin-b1_100g              302987 non-null  float64\n",
      " 17  vitamin-b2_100g              302987 non-null  float64\n",
      " 18  vitamin-b9_100g              302987 non-null  float64\n",
      " 19  calcium_100g                 302987 non-null  float64\n",
      " 20  potassium_100g               302987 non-null  float64\n",
      " 21  magnesium_100g               302987 non-null  float64\n",
      " 22  phosphorus_100g              302987 non-null  float64\n",
      " 23  cholesterol_100g             302987 non-null  float64\n",
      " 24  fiber_100g                   302987 non-null  float64\n",
      "dtypes: float64(21), object(4)\n",
      "memory usage: 60.1+ MB\n"
     ]
    }
   ],
   "source": [
    "df_new.info()"
   ]
  },
  {
   "cell_type": "code",
   "execution_count": 30,
   "metadata": {
    "colab": {
     "base_uri": "https://localhost:8080/",
     "height": 693
    },
    "id": "UfJuWCRvPJjm",
    "outputId": "4885e9d8-9b35-4c63-8858-b3b77f8a4816"
   },
   "outputs": [
    {
     "data": {
      "image/png": "[encoded data removed]",
      "text/plain": [
       "<Figure size 1440x720 with 1 Axes>"
      ]
     },
     "metadata": {
      "needs_background": "light"
     },
     "output_type": "display_data"
    }
   ],
   "source": [
    "# •Représenter visuellement et comparer la distribution des variables, à l'aide par exemple d'un boxplot.\n",
    "\n",
    "df_2=df_new.drop(['code', 'product_name', 'countries', 'nutrition_grade_fr', 'nutrition-score-fr_100g'], axis=1)\n",
    "\n",
    "ls_features = list(df_2.keys())\n",
    "plt.figure(figsize=(20, 10))\n",
    "plt.title('Diagrammes en boîte correspondants aux variables explicatives')\n",
    "plt.boxplot(df_2.values, 0, 'rD', labels = ls_features)\n",
    "plt.xticks(rotation=50)\n",
    "plt.show()"
   ]
  },
  {
   "cell_type": "code",
   "execution_count": 31,
   "metadata": {
    "colab": {
     "base_uri": "https://localhost:8080/"
    },
    "id": "IsOZiU2hPJjn",
    "outputId": "7fa16ba8-5d71-4ff6-acef-38b72b66d262"
   },
   "outputs": [
    {
     "name": "stderr",
     "output_type": "stream",
     "text": [
      "<ipython-input-31-9f4eeab472a8>:1: SettingWithCopyWarning: \n",
      "A value is trying to be set on a copy of a slice from a DataFrame\n",
      "\n",
      "See the caveats in the documentation: https://pandas.pydata.org/pandas-docs/stable/user_guide/indexing.html#returning-a-view-versus-a-copy\n",
      "  df['polyunsaturated-fat_100g'][df['polyunsaturated-fat_100g'] > 90] = np.nan\n"
     ]
    }
   ],
   "source": [
    "df['polyunsaturated-fat_100g'][df['polyunsaturated-fat_100g'] > 90] = np.nan"
   ]
  },
  {
   "cell_type": "code",
   "execution_count": 32,
   "metadata": {
    "colab": {
     "base_uri": "https://localhost:8080/"
    },
    "id": "9RCp7374PJjo",
    "outputId": "58d392bb-134b-4c72-ad5b-2c46fc7419e0"
   },
   "outputs": [
    {
     "name": "stdout",
     "output_type": "stream",
     "text": [
      "<class 'pandas.core.frame.DataFrame'>\n",
      "Int64Index: 302987 entries, 0 to 320771\n",
      "Data columns (total 20 columns):\n",
      " #   Column                       Non-Null Count   Dtype  \n",
      "---  ------                       --------------   -----  \n",
      " 0   additives_n                  302987 non-null  float64\n",
      " 1   ingredients_from_palm_oil_n  302987 non-null  float64\n",
      " 2   proteins_100g                302987 non-null  float64\n",
      " 3   sugars_100g                  302987 non-null  float64\n",
      " 4   fat_100g                     302987 non-null  float64\n",
      " 5   saturated-fat_100g           302987 non-null  float64\n",
      " 6   polyunsaturated-fat_100g     302987 non-null  float64\n",
      " 7   vitamin-a_100g               302987 non-null  float64\n",
      " 8   vitamin-c_100g               302987 non-null  float64\n",
      " 9   vitamin-pp_100g              302987 non-null  float64\n",
      " 10  vitamin-b6_100g              302987 non-null  float64\n",
      " 11  vitamin-b1_100g              302987 non-null  float64\n",
      " 12  vitamin-b2_100g              302987 non-null  float64\n",
      " 13  vitamin-b9_100g              302987 non-null  float64\n",
      " 14  calcium_100g                 302987 non-null  float64\n",
      " 15  potassium_100g               302987 non-null  float64\n",
      " 16  magnesium_100g               302987 non-null  float64\n",
      " 17  phosphorus_100g              302987 non-null  float64\n",
      " 18  cholesterol_100g             302987 non-null  float64\n",
      " 19  fiber_100g                   302987 non-null  float64\n",
      "dtypes: float64(20)\n",
      "memory usage: 48.5 MB\n"
     ]
    }
   ],
   "source": [
    "df_2.info()"
   ]
  },
  {
   "cell_type": "code",
   "execution_count": 33,
   "metadata": {
    "colab": {
     "base_uri": "https://localhost:8080/",
     "height": 660
    },
    "id": "2Af44cUcPJjp",
    "outputId": "43c44ef5-2bfb-46bc-baeb-e6689c7170cc"
   },
   "outputs": [
    {
     "data": {
      "image/png": "[encoded data removed]",
      "text/plain": [
       "<Figure size 1440x720 with 1 Axes>"
      ]
     },
     "metadata": {
      "needs_background": "light"
     },
     "output_type": "display_data"
    }
   ],
   "source": [
    "df_2=df_2.drop(['polyunsaturated-fat_100g', 'additives_n', 'ingredients_from_palm_oil_n', 'sugars_100g', 'fat_100g',\n",
    "                'saturated-fat_100g', 'fiber_100g', 'proteins_100g'], axis=1)\n",
    "\n",
    "ls_features = list(df_2.keys())\n",
    "plt.figure(figsize=(20, 10))\n",
    "plt.title('Diagrammes en boîte correspondants aux variables explicatives')\n",
    "plt.boxplot(df_2.values, 0, 'rD', labels = ls_features)\n",
    "plt.xticks(rotation=50)\n",
    "plt.show()"
   ]
  },
  {
   "cell_type": "code",
   "execution_count": 34,
   "metadata": {
    "colab": {
     "base_uri": "https://localhost:8080/"
    },
    "id": "U2fHDtabPJjp",
    "outputId": "3b8c5716-624d-4fc6-df18-cd112b7fc6cd"
   },
   "outputs": [
    {
     "name": "stdout",
     "output_type": "stream",
     "text": [
      "<class 'pandas.core.frame.DataFrame'>\n",
      "Int64Index: 302987 entries, 0 to 320771\n",
      "Data columns (total 25 columns):\n",
      " #   Column                       Non-Null Count   Dtype  \n",
      "---  ------                       --------------   -----  \n",
      " 0   code                         302987 non-null  object \n",
      " 1   product_name                 302987 non-null  object \n",
      " 2   countries                    302987 non-null  object \n",
      " 3   additives_n                  247091 non-null  float64\n",
      " 4   ingredients_from_palm_oil_n  247091 non-null  float64\n",
      " 5   nutrition_grade_fr           302987 non-null  object \n",
      " 6   nutrition-score-fr_100g      218463 non-null  float64\n",
      " 7   proteins_100g                256601 non-null  float64\n",
      " 8   sugars_100g                  241892 non-null  float64\n",
      " 9   fat_100g                     240580 non-null  float64\n",
      " 10  saturated-fat_100g           226638 non-null  float64\n",
      " 11  polyunsaturated-fat_100g     22782 non-null   float64\n",
      " 12  vitamin-a_100g               137382 non-null  float64\n",
      " 13  vitamin-c_100g               140496 non-null  float64\n",
      " 14  vitamin-pp_100g              11642 non-null   float64\n",
      " 15  vitamin-b6_100g              6722 non-null    float64\n",
      " 16  vitamin-b1_100g              10995 non-null   float64\n",
      " 17  vitamin-b2_100g              10715 non-null   float64\n",
      " 18  vitamin-b9_100g              5190 non-null    float64\n",
      " 19  calcium_100g                 140791 non-null  float64\n",
      " 20  potassium_100g               24669 non-null   float64\n",
      " 21  magnesium_100g               6184 non-null    float64\n",
      " 22  phosphorus_100g              5795 non-null    float64\n",
      " 23  cholesterol_100g             143945 non-null  float64\n",
      " 24  fiber_100g                   198582 non-null  float64\n",
      "dtypes: float64(21), object(4)\n",
      "memory usage: 60.1+ MB\n"
     ]
    }
   ],
   "source": [
    "df.info()"
   ]
  },
  {
   "cell_type": "code",
   "execution_count": 35,
   "metadata": {
    "id": "r_4xfGZ1PJjq"
   },
   "outputs": [],
   "source": [
    "# Pour une analyse efficace, nous changeons le type de la variable 'nutrition_grade_fr'\n",
    "\n",
    "df['nutrition_grade_fr']=df['nutrition_grade_fr'].astype('category')\n",
    "df['nutrition_grade_fr']=df['nutrition_grade_fr'].cat.codes"
   ]
  },
  {
   "cell_type": "code",
   "execution_count": null,
   "metadata": {
    "id": "_GCZjWIKPJjr"
   },
   "outputs": [],
   "source": []
  },
  {
   "cell_type": "code",
   "execution_count": null,
   "metadata": {
    "id": "hbbFxn6eHYWS"
   },
   "outputs": [],
   "source": []
  },
  {
   "cell_type": "markdown",
   "metadata": {
    "id": "arqdpYQbHctS"
   },
   "source": [
    "+ Pour trouver les valeurs manquantes des variables, j'aimerais appliquer des méthodes d'apprentissage automatique - KNN.\n",
    "\n",
    "+ Pour appliquer la méthode KNN, nous devons avoir toutes les valeurs des variables. Je vais essayer de remplacer toutes les valeurs manquantes par 0 et voir le résultat.\n"
   ]
  },
  {
   "cell_type": "code",
   "execution_count": null,
   "metadata": {
    "id": "h_hVNpFOT9wq"
   },
   "outputs": [],
   "source": [
    "df_0=df.replace(to_replace= np.nan, value =0)"
   ]
  },
  {
   "cell_type": "code",
   "execution_count": null,
   "metadata": {
    "colab": {
     "base_uri": "https://localhost:8080/"
    },
    "id": "ul7VaR-SHr-N",
    "outputId": "d80ab967-9be2-4fbc-cc7f-74139c7db17d"
   },
   "outputs": [
    {
     "name": "stdout",
     "output_type": "stream",
     "text": [
      "<class 'pandas.core.frame.DataFrame'>\n",
      "Int64Index: 302987 entries, 0 to 320771\n",
      "Data columns (total 25 columns):\n",
      " #   Column                       Non-Null Count   Dtype  \n",
      "---  ------                       --------------   -----  \n",
      " 0   code                         302987 non-null  object \n",
      " 1   product_name                 302987 non-null  object \n",
      " 2   countries                    302987 non-null  object \n",
      " 3   additives_n                  302987 non-null  float64\n",
      " 4   ingredients_from_palm_oil_n  302987 non-null  float64\n",
      " 5   nutrition_grade_fr           302987 non-null  int8   \n",
      " 6   nutrition-score-fr_100g      302987 non-null  float64\n",
      " 7   proteins_100g                302987 non-null  float64\n",
      " 8   sugars_100g                  302987 non-null  float64\n",
      " 9   fat_100g                     302987 non-null  float64\n",
      " 10  saturated-fat_100g           302987 non-null  float64\n",
      " 11  polyunsaturated-fat_100g     302987 non-null  float64\n",
      " 12  vitamin-a_100g               302987 non-null  float64\n",
      " 13  vitamin-c_100g               302987 non-null  float64\n",
      " 14  vitamin-pp_100g              302987 non-null  float64\n",
      " 15  vitamin-b6_100g              302987 non-null  float64\n",
      " 16  vitamin-b1_100g              302987 non-null  float64\n",
      " 17  vitamin-b2_100g              302987 non-null  float64\n",
      " 18  vitamin-b9_100g              302987 non-null  float64\n",
      " 19  calcium_100g                 302987 non-null  float64\n",
      " 20  potassium_100g               302987 non-null  float64\n",
      " 21  magnesium_100g               302987 non-null  float64\n",
      " 22  phosphorus_100g              302987 non-null  float64\n",
      " 23  cholesterol_100g             302987 non-null  float64\n",
      " 24  fiber_100g                   302987 non-null  float64\n",
      "dtypes: float64(21), int8(1), object(3)\n",
      "memory usage: 58.1+ MB\n"
     ]
    }
   ],
   "source": [
    "df_0.info()"
   ]
  },
  {
   "cell_type": "code",
   "execution_count": null,
   "metadata": {
    "colab": {
     "base_uri": "https://localhost:8080/",
     "height": 1000
    },
    "id": "-p_sZVjxPJjs",
    "outputId": "fe248b30-3ef0-4d85-fd55-2794e6547f7a"
   },
   "outputs": [
    {
     "data": {
      "image/png": "[encoded data removed]",
      "text/plain": [
       "<Figure size 1440x1440 with 2 Axes>"
      ]
     },
     "metadata": {
      "needs_background": "light"
     },
     "output_type": "display_data"
    }
   ],
   "source": [
    "# Création d'une matrice de corrélation variable\n",
    "\n",
    "cor = df_0.corr()\n",
    "plt.figure(figsize = (20,20))\n",
    "sns.heatmap(cor, annot=True,  cmap = 'coolwarm');\n"
   ]
  },
  {
   "cell_type": "code",
   "execution_count": null,
   "metadata": {
    "id": "5xNMwsr5U5qm"
   },
   "outputs": [],
   "source": [
    "# Application de la méthode KNN\n",
    "\n",
    "data=df_0.drop(['nutrition_grade_fr', 'countries', 'code', 'product_name'], axis=1)\n",
    "\n",
    "target=df_0['nutrition_grade_fr']"
   ]
  },
  {
   "cell_type": "code",
   "execution_count": null,
   "metadata": {
    "colab": {
     "base_uri": "https://localhost:8080/"
    },
    "id": "HELd7uxOH3rl",
    "outputId": "fb45f3e7-e2e2-4b32-dee1-a7bc6a39e3d5"
   },
   "outputs": [
    {
     "name": "stdout",
     "output_type": "stream",
     "text": [
      "<class 'pandas.core.frame.DataFrame'>\n",
      "Int64Index: 302987 entries, 0 to 320771\n",
      "Data columns (total 21 columns):\n",
      " #   Column                       Non-Null Count   Dtype  \n",
      "---  ------                       --------------   -----  \n",
      " 0   additives_n                  302987 non-null  float64\n",
      " 1   ingredients_from_palm_oil_n  302987 non-null  float64\n",
      " 2   nutrition-score-fr_100g      302987 non-null  float64\n",
      " 3   proteins_100g                302987 non-null  float64\n",
      " 4   sugars_100g                  302987 non-null  float64\n",
      " 5   fat_100g                     302987 non-null  float64\n",
      " 6   saturated-fat_100g           302987 non-null  float64\n",
      " 7   polyunsaturated-fat_100g     302987 non-null  float64\n",
      " 8   vitamin-a_100g               302987 non-null  float64\n",
      " 9   vitamin-c_100g               302987 non-null  float64\n",
      " 10  vitamin-pp_100g              302987 non-null  float64\n",
      " 11  vitamin-b6_100g              302987 non-null  float64\n",
      " 12  vitamin-b1_100g              302987 non-null  float64\n",
      " 13  vitamin-b2_100g              302987 non-null  float64\n",
      " 14  vitamin-b9_100g              302987 non-null  float64\n",
      " 15  calcium_100g                 302987 non-null  float64\n",
      " 16  potassium_100g               302987 non-null  float64\n",
      " 17  magnesium_100g               302987 non-null  float64\n",
      " 18  phosphorus_100g              302987 non-null  float64\n",
      " 19  cholesterol_100g             302987 non-null  float64\n",
      " 20  fiber_100g                   302987 non-null  float64\n",
      "dtypes: float64(21)\n",
      "memory usage: 50.9 MB\n"
     ]
    }
   ],
   "source": [
    "data.info()"
   ]
  },
  {
   "cell_type": "code",
   "execution_count": null,
   "metadata": {
    "colab": {
     "base_uri": "https://localhost:8080/"
    },
    "id": "B2b22cfIIHdM",
    "outputId": "539dc782-728c-40cb-9621-089c6f4db8ea"
   },
   "outputs": [
    {
     "name": "stdout",
     "output_type": "stream",
     "text": [
      "(302987, 21)\n",
      "(302987,)\n"
     ]
    }
   ],
   "source": [
    "print(data.shape)\n",
    "print(target.shape)"
   ]
  },
  {
   "cell_type": "code",
   "execution_count": null,
   "metadata": {
    "id": "R-qoV3fuU5wF"
   },
   "outputs": [],
   "source": [
    "X_train, X_test, y_train, y_test = train_test_split(data, target, test_size = 0.2)"
   ]
  },
  {
   "cell_type": "code",
   "execution_count": null,
   "metadata": {
    "colab": {
     "base_uri": "https://localhost:8080/"
    },
    "id": "8z4iS1lNU508",
    "outputId": "2554cfec-8e5d-41c5-e6d1-e4c105507d67"
   },
   "outputs": [
    {
     "name": "stdout",
     "output_type": "stream",
     "text": [
      "[-3.99551856e-17 -1.14911466e-17 -1.26050842e-17 -1.35343428e-16\n",
      "  1.26930267e-16 -2.60895930e-18  8.15812778e-17 -5.80420158e-17\n",
      "  4.38539675e-17 -4.16847204e-17 -6.80674549e-17 -2.25718950e-18\n",
      "  1.96844513e-17 -2.71595594e-17 -4.23589459e-18 -1.43639332e-17\n",
      " -3.81083942e-18  1.71780915e-17  5.23843850e-17 -6.41393589e-17\n",
      "  9.26327121e-18]\n",
      "[1. 1. 1. 1. 1. 1. 1. 1. 1. 1. 1. 1. 1. 1. 1. 1. 1. 1. 1. 1. 1.]\n"
     ]
    }
   ],
   "source": [
    "scaler = preprocessing.StandardScaler().fit(X_train)\n",
    "\n",
    "X_train_scaled = scaler.transform(X_train)\n",
    "print(X_train_scaled.mean(axis=0))\n",
    "print(X_train_scaled.std(axis=0))"
   ]
  },
  {
   "cell_type": "code",
   "execution_count": null,
   "metadata": {
    "colab": {
     "base_uri": "https://localhost:8080/"
    },
    "id": "8h5g3EEeT93V",
    "outputId": "07776758-079e-4231-8c4b-37b3ea6562d8"
   },
   "outputs": [
    {
     "name": "stdout",
     "output_type": "stream",
     "text": [
      "[ 0.00070971  0.00838613 -0.01004941  0.00156841 -0.00840812 -0.00644796\n",
      " -0.00825388  0.00376543 -0.0057995   0.00108175  0.00037479 -0.00474429\n",
      "  0.00059429  0.00031993 -0.00185675 -0.00648346 -0.00268036 -0.00449632\n",
      " -0.00626776  0.00395749 -0.00420964]\n",
      "[0.99516798 1.03172405 0.99610547 1.00005705 0.99212045 0.99403446\n",
      " 0.98381233 1.0270014  0.92342979 1.01715658 1.02920093 0.64218155\n",
      " 1.00153008 1.01925151 0.37221868 0.96802248 0.9728532  0.97412974\n",
      " 0.94643792 1.02897661 0.96275998]\n"
     ]
    }
   ],
   "source": [
    "X_test_scaled = scaler.transform(X_test)\n",
    "\n",
    "print(X_test_scaled.mean(axis=0))\n",
    "print(X_test_scaled.std(axis=0))"
   ]
  },
  {
   "cell_type": "code",
   "execution_count": null,
   "metadata": {
    "colab": {
     "base_uri": "https://localhost:8080/"
    },
    "id": "Pg41RtjlIatK",
    "outputId": "6ea1104e-d15b-4ceb-8c8f-b9ba6e281b6c"
   },
   "outputs": [
    {
     "data": {
      "text/plain": [
       "KNeighborsClassifier(n_neighbors=300)"
      ]
     },
     "execution_count": 45,
     "metadata": {},
     "output_type": "execute_result"
    }
   ],
   "source": [
    "knn_300 = neighbors.KNeighborsClassifier(n_neighbors=300) \n",
    "knn_300.fit(X_train_scaled, y_train)"
   ]
  },
  {
   "cell_type": "code",
   "execution_count": null,
   "metadata": {
    "colab": {
     "base_uri": "https://localhost:8080/"
    },
    "id": "3ULIj96jIty-",
    "outputId": "350cea44-2233-40eb-91e6-3ef99e2aed19"
   },
   "outputs": [
    {
     "data": {
      "text/plain": [
       "0.8363147298590713"
      ]
     },
     "execution_count": 46,
     "metadata": {},
     "output_type": "execute_result"
    }
   ],
   "source": [
    "score_300 = knn_300.score(X_test_scaled, y_test)\n",
    "score_300"
   ]
  },
  {
   "cell_type": "code",
   "execution_count": null,
   "metadata": {
    "colab": {
     "base_uri": "https://localhost:8080/"
    },
    "id": "mbCwxS9zI1St",
    "outputId": "a13773d4-0df4-442d-dc36-9b1ce90cf95b"
   },
   "outputs": [
    {
     "data": {
      "text/plain": [
       "KNeighborsClassifier(n_neighbors=1000)"
      ]
     },
     "execution_count": 47,
     "metadata": {},
     "output_type": "execute_result"
    }
   ],
   "source": [
    "knn_1000 = neighbors.KNeighborsClassifier(n_neighbors=1000) \n",
    "knn_1000.fit(X_train_scaled, y_train)\n"
   ]
  },
  {
   "cell_type": "code",
   "execution_count": null,
   "metadata": {
    "colab": {
     "base_uri": "https://localhost:8080/"
    },
    "id": "RTP34Tv7I9WE",
    "outputId": "75ea0d39-f463-4c10-daaa-cf1e5af3ca3e"
   },
   "outputs": [
    {
     "data": {
      "text/plain": [
       "0.7991682893824879"
      ]
     },
     "execution_count": 48,
     "metadata": {},
     "output_type": "execute_result"
    }
   ],
   "source": [
    "score_1000 = knn_1000.score(X_test_scaled, y_test)\n",
    "score_1000"
   ]
  },
  {
   "cell_type": "code",
   "execution_count": null,
   "metadata": {
    "colab": {
     "base_uri": "https://localhost:8080/"
    },
    "id": "omoNVhOqJU9u",
    "outputId": "b3efede8-5bd3-4b53-a952-ee726ac7a11c"
   },
   "outputs": [
    {
     "data": {
      "text/plain": [
       "KNeighborsClassifier(n_neighbors=3000)"
      ]
     },
     "execution_count": 49,
     "metadata": {},
     "output_type": "execute_result"
    }
   ],
   "source": [
    "knn_3000 = neighbors.KNeighborsClassifier(n_neighbors=3000)\n",
    "knn_3000.fit(X_train_scaled, y_train)"
   ]
  },
  {
   "cell_type": "code",
   "execution_count": null,
   "metadata": {
    "colab": {
     "base_uri": "https://localhost:8080/"
    },
    "id": "cH8DA2VpJz5l",
    "outputId": "157b0249-295d-4005-c0f4-1306e0a23b59"
   },
   "outputs": [
    {
     "data": {
      "text/plain": [
       "0.7523680649526387"
      ]
     },
     "execution_count": 50,
     "metadata": {},
     "output_type": "execute_result"
    }
   ],
   "source": [
    "score_3000 = knn_3000.score(X_test_scaled, y_test)\n",
    "score_3000"
   ]
  },
  {
   "cell_type": "code",
   "execution_count": null,
   "metadata": {
    "colab": {
     "base_uri": "https://localhost:8080/"
    },
    "id": "FlFMISYHVfPc",
    "outputId": "3d4b34e8-1fc9-4590-b84c-7513a2cb5d33"
   },
   "outputs": [
    {
     "data": {
      "text/plain": [
       "KNeighborsClassifier(n_neighbors=10000)"
      ]
     },
     "execution_count": 51,
     "metadata": {},
     "output_type": "execute_result"
    }
   ],
   "source": [
    "knn_10000 = neighbors.KNeighborsClassifier(n_neighbors=10000)\n",
    "knn_10000.fit(X_train_scaled, y_train)\n"
   ]
  },
  {
   "cell_type": "code",
   "execution_count": null,
   "metadata": {
    "colab": {
     "base_uri": "https://localhost:8080/"
    },
    "id": "GJPIW5BRVfUo",
    "outputId": "d8009fcc-e21c-4da1-d2d1-74b400906ae8"
   },
   "outputs": [
    {
     "data": {
      "text/plain": [
       "0.7032410310571306"
      ]
     },
     "execution_count": 53,
     "metadata": {},
     "output_type": "execute_result"
    }
   ],
   "source": [
    "score_10000 = knn_10000.score(X_test_scaled, y_test)\n",
    "score_10000"
   ]
  },
  {
   "cell_type": "code",
   "execution_count": null,
   "metadata": {
    "colab": {
     "base_uri": "https://localhost:8080/"
    },
    "id": "_h2aGBrxVfX_",
    "outputId": "c76e6fd6-11e9-4853-c0f6-5f0050a7417d"
   },
   "outputs": [
    {
     "data": {
      "text/plain": [
       "KNeighborsClassifier(n_neighbors=20000)"
      ]
     },
     "execution_count": 54,
     "metadata": {},
     "output_type": "execute_result"
    }
   ],
   "source": [
    "knn_20000 = neighbors.KNeighborsClassifier(n_neighbors=20000)\n",
    "knn_20000.fit(X_train_scaled, y_train)"
   ]
  },
  {
   "cell_type": "code",
   "execution_count": null,
   "metadata": {
    "id": "FDSf-oRWRsbh"
   },
   "outputs": [],
   "source": [
    "score_20000 = knn_20000.score(X_test_scaled, y_test)\n",
    "score_20000\n",
    "# Je n'ai pas reçu de résultat en raison de la grande quantité de données."
   ]
  },
  {
   "cell_type": "markdown",
   "metadata": {
    "id": "p-dfqXkTQJo3"
   },
   "source": [
    "+ On remarque une tendance : avec une augmentation du nombre de voisins (n_neighbors), la valeur de score  diminue. \n",
    "+ Règle empirique : k est généralement inférieur à la racine carrée du nombre d'échantillons d'apprentissage. Dans notre cas, le nombre de voisins devrait être inférieur 553. Je vais essayer de trouver la valeur optimale."
   ]
  },
  {
   "cell_type": "code",
   "execution_count": null,
   "metadata": {
    "colab": {
     "base_uri": "https://localhost:8080/"
    },
    "id": "5riviwXVOBV5",
    "outputId": "3a2642b0-f3c3-4ed0-8dcf-e1b18da62f72"
   },
   "outputs": [
    {
     "data": {
      "text/plain": [
       "KNeighborsClassifier(n_neighbors=400)"
      ]
     },
     "execution_count": 55,
     "metadata": {},
     "output_type": "execute_result"
    }
   ],
   "source": [
    "knn_400 = neighbors.KNeighborsClassifier(n_neighbors=400)\n",
    "knn_400.fit(X_train_scaled, y_train)"
   ]
  },
  {
   "cell_type": "code",
   "execution_count": null,
   "metadata": {
    "colab": {
     "base_uri": "https://localhost:8080/"
    },
    "id": "Pe3jvqIeRd4Q",
    "outputId": "66f75828-b55a-4678-c06c-5cda105c49b9"
   },
   "outputs": [
    {
     "data": {
      "text/plain": [
       "0.8265289283474702"
      ]
     },
     "execution_count": 56,
     "metadata": {},
     "output_type": "execute_result"
    }
   ],
   "source": [
    "score_400 = knn_400.score(X_test_scaled, y_test)\n",
    "score_400"
   ]
  },
  {
   "cell_type": "code",
   "execution_count": null,
   "metadata": {
    "colab": {
     "base_uri": "https://localhost:8080/"
    },
    "id": "jvp8QKH-SIOU",
    "outputId": "067286bb-c8fb-4ac7-f728-e22e9b2eb0e5"
   },
   "outputs": [
    {
     "data": {
      "text/plain": [
       "KNeighborsClassifier(n_neighbors=200)"
      ]
     },
     "execution_count": 57,
     "metadata": {},
     "output_type": "execute_result"
    }
   ],
   "source": [
    "knn_200 = neighbors.KNeighborsClassifier(n_neighbors=200)\n",
    "knn_200.fit(X_train_scaled, y_train)"
   ]
  },
  {
   "cell_type": "code",
   "execution_count": null,
   "metadata": {
    "colab": {
     "base_uri": "https://localhost:8080/"
    },
    "id": "PE6CrCCgTf7H",
    "outputId": "a69b535d-dff9-4433-bf86-8553ec63ea51"
   },
   "outputs": [
    {
     "data": {
      "text/plain": [
       "0.8469586454998514"
      ]
     },
     "execution_count": 58,
     "metadata": {},
     "output_type": "execute_result"
    }
   ],
   "source": [
    "score_200 = knn_200.score(X_test_scaled, y_test)\n",
    "score_200"
   ]
  },
  {
   "cell_type": "code",
   "execution_count": null,
   "metadata": {
    "colab": {
     "base_uri": "https://localhost:8080/"
    },
    "id": "4DLG6caXTkO1",
    "outputId": "88f0ea83-2d18-4813-9592-ffdf82b02a4b"
   },
   "outputs": [
    {
     "data": {
      "text/plain": [
       "KNeighborsClassifier(n_neighbors=100)"
      ]
     },
     "execution_count": 59,
     "metadata": {},
     "output_type": "execute_result"
    }
   ],
   "source": [
    "knn_100 = neighbors.KNeighborsClassifier(n_neighbors=100)\n",
    "knn_100.fit(X_train_scaled, y_train)"
   ]
  },
  {
   "cell_type": "code",
   "execution_count": null,
   "metadata": {
    "colab": {
     "base_uri": "https://localhost:8080/"
    },
    "id": "IF7a3p7bWR9o",
    "outputId": "862be0fb-76ab-4a61-efac-166f6272b097"
   },
   "outputs": [
    {
     "data": {
      "text/plain": [
       "0.8661837024324235"
      ]
     },
     "execution_count": 60,
     "metadata": {},
     "output_type": "execute_result"
    }
   ],
   "source": [
    "score_100 = knn_100.score(X_test_scaled, y_test)\n",
    "score_100"
   ]
  },
  {
   "cell_type": "code",
   "execution_count": null,
   "metadata": {
    "colab": {
     "base_uri": "https://localhost:8080/"
    },
    "id": "WYiVflpZZsZp",
    "outputId": "b5bcec9b-d9e6-4d54-923a-7455a8fe580a"
   },
   "outputs": [
    {
     "data": {
      "text/plain": [
       "KNeighborsClassifier()"
      ]
     },
     "execution_count": 61,
     "metadata": {},
     "output_type": "execute_result"
    }
   ],
   "source": [
    "knn_50 = neighbors.KNeighborsClassifier()\n",
    "knn_50.fit(X_train_scaled, y_train)"
   ]
  },
  {
   "cell_type": "code",
   "execution_count": null,
   "metadata": {
    "colab": {
     "base_uri": "https://localhost:8080/"
    },
    "id": "4d2Ls-WvZzOM",
    "outputId": "9cde80b6-445c-41a7-fd4c-ca351232e294"
   },
   "outputs": [
    {
     "data": {
      "text/plain": [
       "0.9135450014851976"
      ]
     },
     "execution_count": 62,
     "metadata": {},
     "output_type": "execute_result"
    }
   ],
   "source": [
    "score_50 = knn_50.score(X_test_scaled, y_test)\n",
    "score_50"
   ]
  },
  {
   "cell_type": "code",
   "execution_count": null,
   "metadata": {
    "colab": {
     "base_uri": "https://localhost:8080/"
    },
    "id": "fYkaisQrvY5m",
    "outputId": "4a63ee8f-0997-40f2-d426-0e487523f7bb"
   },
   "outputs": [
    {
     "data": {
      "text/plain": [
       "KNeighborsClassifier(n_neighbors=10)"
      ]
     },
     "execution_count": 63,
     "metadata": {},
     "output_type": "execute_result"
    }
   ],
   "source": [
    "knn_10 = neighbors.KNeighborsClassifier(n_neighbors=10)\n",
    "knn_10.fit(X_train_scaled, y_train)"
   ]
  },
  {
   "cell_type": "code",
   "execution_count": null,
   "metadata": {
    "colab": {
     "base_uri": "https://localhost:8080/"
    },
    "id": "o3qr9-3m3P4E",
    "outputId": "a346990a-2a7a-458a-c64a-5f75ff967551"
   },
   "outputs": [
    {
     "data": {
      "text/plain": [
       "0.9064985643090531"
      ]
     },
     "execution_count": 64,
     "metadata": {},
     "output_type": "execute_result"
    }
   ],
   "source": [
    "score_10 = knn_10.score(X_test_scaled, y_test)\n",
    "score_10"
   ]
  },
  {
   "cell_type": "code",
   "execution_count": null,
   "metadata": {
    "colab": {
     "base_uri": "https://localhost:8080/"
    },
    "id": "440eahHaPJj3",
    "outputId": "57d25107-bcc5-4bdc-df01-7e1f52fae6f5"
   },
   "outputs": [
    {
     "data": {
      "text/plain": [
       "KNeighborsClassifier()"
      ]
     },
     "execution_count": 65,
     "metadata": {},
     "output_type": "execute_result"
    }
   ],
   "source": [
    "knn_5 = neighbors.KNeighborsClassifier()\n",
    "knn_5.fit(X_train_scaled, y_train)"
   ]
  },
  {
   "cell_type": "code",
   "execution_count": null,
   "metadata": {
    "colab": {
     "base_uri": "https://localhost:8080/"
    },
    "id": "EyoA1yRxPJj4",
    "outputId": "d145def2-4457-4078-ff39-b0dcf87ed64f"
   },
   "outputs": [
    {
     "data": {
      "text/plain": [
       "0.9064985643090531"
      ]
     },
     "execution_count": 66,
     "metadata": {},
     "output_type": "execute_result"
    }
   ],
   "source": [
    "score_5 = knn_5.score(X_test_scaled, y_test)\n",
    "score_10"
   ]
  },
  {
   "cell_type": "code",
   "execution_count": null,
   "metadata": {
    "id": "-r9m5Ggb3UoH"
   },
   "outputs": [],
   "source": []
  },
  {
   "cell_type": "markdown",
   "metadata": {
    "id": "Rju5t_-PdEUp"
   },
   "source": [
    "Si vous regardez tous les résultats obtenus, à mon avis le meilleur - \n",
    "+ n_neighbors=50, score = 0.913545001485197.\n"
   ]
  },
  {
   "cell_type": "markdown",
   "metadata": {
    "id": "07K4MOy4oiH-"
   },
   "source": [
    "Dans le cas suivant, nous supprimons toutes les valeurs de variables existantes."
   ]
  },
  {
   "cell_type": "code",
   "execution_count": 36,
   "metadata": {
    "colab": {
     "base_uri": "https://localhost:8080/"
    },
    "id": "0S2giHBKoiH-",
    "outputId": "1258b940-bced-48f6-b8c0-62d0f4fb1a88"
   },
   "outputs": [
    {
     "name": "stdout",
     "output_type": "stream",
     "text": [
      "<class 'pandas.core.frame.DataFrame'>\n",
      "Int64Index: 302987 entries, 0 to 320771\n",
      "Data columns (total 25 columns):\n",
      " #   Column                       Non-Null Count   Dtype  \n",
      "---  ------                       --------------   -----  \n",
      " 0   code                         302987 non-null  object \n",
      " 1   product_name                 302987 non-null  object \n",
      " 2   countries                    302987 non-null  object \n",
      " 3   additives_n                  247091 non-null  float64\n",
      " 4   ingredients_from_palm_oil_n  247091 non-null  float64\n",
      " 5   nutrition_grade_fr           302987 non-null  int8   \n",
      " 6   nutrition-score-fr_100g      218463 non-null  float64\n",
      " 7   proteins_100g                256601 non-null  float64\n",
      " 8   sugars_100g                  241892 non-null  float64\n",
      " 9   fat_100g                     240580 non-null  float64\n",
      " 10  saturated-fat_100g           226638 non-null  float64\n",
      " 11  polyunsaturated-fat_100g     22782 non-null   float64\n",
      " 12  vitamin-a_100g               137382 non-null  float64\n",
      " 13  vitamin-c_100g               140496 non-null  float64\n",
      " 14  vitamin-pp_100g              11642 non-null   float64\n",
      " 15  vitamin-b6_100g              6722 non-null    float64\n",
      " 16  vitamin-b1_100g              10995 non-null   float64\n",
      " 17  vitamin-b2_100g              10715 non-null   float64\n",
      " 18  vitamin-b9_100g              5190 non-null    float64\n",
      " 19  calcium_100g                 140791 non-null  float64\n",
      " 20  potassium_100g               24669 non-null   float64\n",
      " 21  magnesium_100g               6184 non-null    float64\n",
      " 22  phosphorus_100g              5795 non-null    float64\n",
      " 23  cholesterol_100g             143945 non-null  float64\n",
      " 24  fiber_100g                   198582 non-null  float64\n",
      "dtypes: float64(21), int8(1), object(3)\n",
      "memory usage: 58.1+ MB\n"
     ]
    }
   ],
   "source": [
    "df.info()"
   ]
  },
  {
   "cell_type": "code",
   "execution_count": 37,
   "metadata": {
    "id": "xXYMtPKjoiH-"
   },
   "outputs": [],
   "source": [
    "df_no_nan=df.dropna(axis=0, subset=['proteins_100g'])\n",
    "df_no_nan=df_no_nan.dropna(axis=0, subset=['additives_n'])\n",
    "df_no_nan=df_no_nan.dropna(axis=0, subset=['ingredients_from_palm_oil_n'])"
   ]
  },
  {
   "cell_type": "code",
   "execution_count": 38,
   "metadata": {
    "colab": {
     "base_uri": "https://localhost:8080/"
    },
    "id": "IauupV3YoiH_",
    "outputId": "9f9fbb25-a5f1-481a-8b25-87efc2a3dc8d"
   },
   "outputs": [
    {
     "name": "stdout",
     "output_type": "stream",
     "text": [
      "<class 'pandas.core.frame.DataFrame'>\n",
      "Int64Index: 231584 entries, 1 to 320771\n",
      "Data columns (total 25 columns):\n",
      " #   Column                       Non-Null Count   Dtype  \n",
      "---  ------                       --------------   -----  \n",
      " 0   code                         231584 non-null  object \n",
      " 1   product_name                 231584 non-null  object \n",
      " 2   countries                    231584 non-null  object \n",
      " 3   additives_n                  231584 non-null  float64\n",
      " 4   ingredients_from_palm_oil_n  231584 non-null  float64\n",
      " 5   nutrition_grade_fr           231584 non-null  int8   \n",
      " 6   nutrition-score-fr_100g      194742 non-null  float64\n",
      " 7   proteins_100g                231584 non-null  float64\n",
      " 8   sugars_100g                  216876 non-null  float64\n",
      " 9   fat_100g                     230382 non-null  float64\n",
      " 10  saturated-fat_100g           201870 non-null  float64\n",
      " 11  polyunsaturated-fat_100g     22439 non-null   float64\n",
      " 12  vitamin-a_100g               136536 non-null  float64\n",
      " 13  vitamin-c_100g               139471 non-null  float64\n",
      " 14  vitamin-pp_100g              11388 non-null   float64\n",
      " 15  vitamin-b6_100g              6461 non-null    float64\n",
      " 16  vitamin-b1_100g              10737 non-null   float64\n",
      " 17  vitamin-b2_100g              10489 non-null   float64\n",
      " 18  vitamin-b9_100g              5005 non-null    float64\n",
      " 19  calcium_100g                 139510 non-null  float64\n",
      " 20  potassium_100g               24330 non-null   float64\n",
      " 21  magnesium_100g               5790 non-null    float64\n",
      " 22  phosphorus_100g              5633 non-null    float64\n",
      " 23  cholesterol_100g             143094 non-null  float64\n",
      " 24  fiber_100g                   176365 non-null  float64\n",
      "dtypes: float64(21), int8(1), object(3)\n",
      "memory usage: 44.4+ MB\n"
     ]
    }
   ],
   "source": [
    "df_no_nan.info()"
   ]
  },
  {
   "cell_type": "code",
   "execution_count": 39,
   "metadata": {
    "id": "04sSl7AGoiH_"
   },
   "outputs": [],
   "source": [
    "df_no_nan=df_no_nan.dropna(axis=0, subset=['fat_100g'])\n",
    "df_no_nan=df_no_nan.dropna(axis=0, subset=['sugars_100g'])"
   ]
  },
  {
   "cell_type": "code",
   "execution_count": 40,
   "metadata": {
    "colab": {
     "base_uri": "https://localhost:8080/"
    },
    "id": "o7zwTBs9oiH_",
    "outputId": "3c7f04f8-6112-47e0-a8c7-971d8b92a00a"
   },
   "outputs": [
    {
     "name": "stdout",
     "output_type": "stream",
     "text": [
      "<class 'pandas.core.frame.DataFrame'>\n",
      "Int64Index: 215795 entries, 1 to 320771\n",
      "Data columns (total 25 columns):\n",
      " #   Column                       Non-Null Count   Dtype  \n",
      "---  ------                       --------------   -----  \n",
      " 0   code                         215795 non-null  object \n",
      " 1   product_name                 215795 non-null  object \n",
      " 2   countries                    215795 non-null  object \n",
      " 3   additives_n                  215795 non-null  float64\n",
      " 4   ingredients_from_palm_oil_n  215795 non-null  float64\n",
      " 5   nutrition_grade_fr           215795 non-null  int8   \n",
      " 6   nutrition-score-fr_100g      193841 non-null  float64\n",
      " 7   proteins_100g                215795 non-null  float64\n",
      " 8   sugars_100g                  215795 non-null  float64\n",
      " 9   fat_100g                     215795 non-null  float64\n",
      " 10  saturated-fat_100g           195112 non-null  float64\n",
      " 11  polyunsaturated-fat_100g     19973 non-null   float64\n",
      " 12  vitamin-a_100g               134540 non-null  float64\n",
      " 13  vitamin-c_100g               137856 non-null  float64\n",
      " 14  vitamin-pp_100g              10993 non-null   float64\n",
      " 15  vitamin-b6_100g              6148 non-null    float64\n",
      " 16  vitamin-b1_100g              10511 non-null   float64\n",
      " 17  vitamin-b2_100g              10269 non-null   float64\n",
      " 18  vitamin-b9_100g              4921 non-null    float64\n",
      " 19  calcium_100g                 137672 non-null  float64\n",
      " 20  potassium_100g               23747 non-null   float64\n",
      " 21  magnesium_100g               5646 non-null    float64\n",
      " 22  phosphorus_100g              5472 non-null    float64\n",
      " 23  cholesterol_100g             138062 non-null  float64\n",
      " 24  fiber_100g                   173817 non-null  float64\n",
      "dtypes: float64(21), int8(1), object(3)\n",
      "memory usage: 41.4+ MB\n"
     ]
    }
   ],
   "source": [
    "df_no_nan.info()"
   ]
  },
  {
   "cell_type": "code",
   "execution_count": 41,
   "metadata": {
    "id": "uIcSNLWXoiH_"
   },
   "outputs": [],
   "source": [
    "df_no_nan=df_no_nan.dropna(axis=0, subset=['saturated-fat_100g'])\n",
    "df_no_nan=df_no_nan.dropna(axis=0, subset=['nutrition-score-fr_100g'])\n",
    "df_no_nan=df_no_nan.dropna(axis=0, subset=['fiber_100g'])\n",
    "df_no_nan=df_no_nan.drop(['vitamin-b9_100g','magnesium_100g', 'phosphorus_100g', 'vitamin-b6_100g'], axis=1)"
   ]
  },
  {
   "cell_type": "code",
   "execution_count": 42,
   "metadata": {
    "colab": {
     "base_uri": "https://localhost:8080/"
    },
    "id": "F-mrcsP4oiH_",
    "outputId": "3bbde8d4-0db8-4779-bf59-e14cdf808673"
   },
   "outputs": [
    {
     "name": "stdout",
     "output_type": "stream",
     "text": [
      "<class 'pandas.core.frame.DataFrame'>\n",
      "Int64Index: 169692 entries, 1 to 320768\n",
      "Data columns (total 21 columns):\n",
      " #   Column                       Non-Null Count   Dtype  \n",
      "---  ------                       --------------   -----  \n",
      " 0   code                         169692 non-null  object \n",
      " 1   product_name                 169692 non-null  object \n",
      " 2   countries                    169692 non-null  object \n",
      " 3   additives_n                  169692 non-null  float64\n",
      " 4   ingredients_from_palm_oil_n  169692 non-null  float64\n",
      " 5   nutrition_grade_fr           169692 non-null  int8   \n",
      " 6   nutrition-score-fr_100g      169692 non-null  float64\n",
      " 7   proteins_100g                169692 non-null  float64\n",
      " 8   sugars_100g                  169692 non-null  float64\n",
      " 9   fat_100g                     169692 non-null  float64\n",
      " 10  saturated-fat_100g           169692 non-null  float64\n",
      " 11  polyunsaturated-fat_100g     19398 non-null   float64\n",
      " 12  vitamin-a_100g               130036 non-null  float64\n",
      " 13  vitamin-c_100g               130595 non-null  float64\n",
      " 14  vitamin-pp_100g              9954 non-null    float64\n",
      " 15  vitamin-b1_100g              9923 non-null    float64\n",
      " 16  vitamin-b2_100g              9805 non-null    float64\n",
      " 17  calcium_100g                 132195 non-null  float64\n",
      " 18  potassium_100g               21023 non-null   float64\n",
      " 19  cholesterol_100g             134081 non-null  float64\n",
      " 20  fiber_100g                   169692 non-null  float64\n",
      "dtypes: float64(17), int8(1), object(3)\n",
      "memory usage: 27.3+ MB\n"
     ]
    }
   ],
   "source": [
    "df_no_nan.info()"
   ]
  },
  {
   "cell_type": "code",
   "execution_count": 43,
   "metadata": {
    "id": "qZ50aJCFoiIA"
   },
   "outputs": [],
   "source": [
    "df_no_nan=df_no_nan.dropna(axis=0, subset=['cholesterol_100g'])\n",
    "df_no_nan=df_no_nan.dropna(axis=0, subset=['calcium_100g'])\n",
    "df_no_nan=df_no_nan.dropna(axis=0, subset=['vitamin-a_100g'])\n",
    "df_no_nan=df_no_nan.dropna(axis=0, subset=['vitamin-c_100g'])\n"
   ]
  },
  {
   "cell_type": "code",
   "execution_count": 44,
   "metadata": {
    "id": "oCBQWjb4oiIA"
   },
   "outputs": [],
   "source": [
    "df_no_nan=df_no_nan.drop(['polyunsaturated-fat_100g', 'vitamin-pp_100g', 'vitamin-b1_100g', 'vitamin-b2_100g','potassium_100g'],\n",
    "                  axis=1)"
   ]
  },
  {
   "cell_type": "code",
   "execution_count": 45,
   "metadata": {
    "colab": {
     "base_uri": "https://localhost:8080/"
    },
    "id": "r8w7QK4EoiIA",
    "outputId": "37cd922c-3171-43b7-854c-fcda3a8c9d3e"
   },
   "outputs": [
    {
     "name": "stdout",
     "output_type": "stream",
     "text": [
      "<class 'pandas.core.frame.DataFrame'>\n",
      "Int64Index: 128557 entries, 1 to 320768\n",
      "Data columns (total 16 columns):\n",
      " #   Column                       Non-Null Count   Dtype  \n",
      "---  ------                       --------------   -----  \n",
      " 0   code                         128557 non-null  object \n",
      " 1   product_name                 128557 non-null  object \n",
      " 2   countries                    128557 non-null  object \n",
      " 3   additives_n                  128557 non-null  float64\n",
      " 4   ingredients_from_palm_oil_n  128557 non-null  float64\n",
      " 5   nutrition_grade_fr           128557 non-null  int8   \n",
      " 6   nutrition-score-fr_100g      128557 non-null  float64\n",
      " 7   proteins_100g                128557 non-null  float64\n",
      " 8   sugars_100g                  128557 non-null  float64\n",
      " 9   fat_100g                     128557 non-null  float64\n",
      " 10  saturated-fat_100g           128557 non-null  float64\n",
      " 11  vitamin-a_100g               128557 non-null  float64\n",
      " 12  vitamin-c_100g               128557 non-null  float64\n",
      " 13  calcium_100g                 128557 non-null  float64\n",
      " 14  cholesterol_100g             128557 non-null  float64\n",
      " 15  fiber_100g                   128557 non-null  float64\n",
      "dtypes: float64(12), int8(1), object(3)\n",
      "memory usage: 15.8+ MB\n"
     ]
    }
   ],
   "source": [
    "df_no_nan.info()"
   ]
  },
  {
   "cell_type": "code",
   "execution_count": 46,
   "metadata": {
    "id": "zw1adi7qoiIA"
   },
   "outputs": [],
   "source": [
    "df_1=df_no_nan.drop(['code', 'product_name', 'countries'], axis=1)"
   ]
  },
  {
   "cell_type": "code",
   "execution_count": 47,
   "metadata": {
    "colab": {
     "base_uri": "https://localhost:8080/"
    },
    "id": "udz1f9CeoiIA",
    "outputId": "4c494978-c0ce-48ac-e15b-0a3b1379058c"
   },
   "outputs": [
    {
     "name": "stdout",
     "output_type": "stream",
     "text": [
      "<class 'pandas.core.frame.DataFrame'>\n",
      "Int64Index: 128557 entries, 1 to 320768\n",
      "Data columns (total 13 columns):\n",
      " #   Column                       Non-Null Count   Dtype  \n",
      "---  ------                       --------------   -----  \n",
      " 0   additives_n                  128557 non-null  float64\n",
      " 1   ingredients_from_palm_oil_n  128557 non-null  float64\n",
      " 2   nutrition_grade_fr           128557 non-null  int8   \n",
      " 3   nutrition-score-fr_100g      128557 non-null  float64\n",
      " 4   proteins_100g                128557 non-null  float64\n",
      " 5   sugars_100g                  128557 non-null  float64\n",
      " 6   fat_100g                     128557 non-null  float64\n",
      " 7   saturated-fat_100g           128557 non-null  float64\n",
      " 8   vitamin-a_100g               128557 non-null  float64\n",
      " 9   vitamin-c_100g               128557 non-null  float64\n",
      " 10  calcium_100g                 128557 non-null  float64\n",
      " 11  cholesterol_100g             128557 non-null  float64\n",
      " 12  fiber_100g                   128557 non-null  float64\n",
      "dtypes: float64(12), int8(1)\n",
      "memory usage: 12.9 MB\n"
     ]
    }
   ],
   "source": [
    "df_1.info()"
   ]
  },
  {
   "cell_type": "code",
   "execution_count": 48,
   "metadata": {
    "colab": {
     "base_uri": "https://localhost:8080/"
    },
    "id": "_fiLsX4boiIA",
    "outputId": "790f694f-bbc2-4d33-b926-a8457fe772f9"
   },
   "outputs": [
    {
     "data": {
      "text/plain": [
       "array([3, 1, 2, 4, 0], dtype=int8)"
      ]
     },
     "execution_count": 48,
     "metadata": {},
     "output_type": "execute_result"
    }
   ],
   "source": [
    "df_1['nutrition_grade_fr'].unique()"
   ]
  },
  {
   "cell_type": "code",
   "execution_count": 49,
   "metadata": {
    "colab": {
     "base_uri": "https://localhost:8080/",
     "height": 1000
    },
    "id": "Iu9F_6CDoiIB",
    "outputId": "45607d6a-0c56-4337-fb28-ef7961bc3bf5"
   },
   "outputs": [
    {
     "data": {
      "image/png": "[encoded data removed]",
      "text/plain": [
       "<Figure size 1440x1440 with 2 Axes>"
      ]
     },
     "metadata": {
      "needs_background": "light"
     },
     "output_type": "display_data"
    }
   ],
   "source": [
    "# Création d'une matrice de corrélation variable\n",
    "\n",
    "cor = df_1.corr()\n",
    "plt.figure(figsize = (20,20))\n",
    "sns.heatmap(cor, annot=True,  cmap = 'coolwarm');\n"
   ]
  },
  {
   "cell_type": "code",
   "execution_count": 50,
   "metadata": {
    "id": "bsE2CFMCoiIB"
   },
   "outputs": [],
   "source": [
    "# Application de la méthode KNN\n",
    "\n",
    "data=df_1.drop('nutrition_grade_fr', axis=1)\n",
    "\n",
    "target=df_1['nutrition_grade_fr']"
   ]
  },
  {
   "cell_type": "code",
   "execution_count": 51,
   "metadata": {
    "colab": {
     "base_uri": "https://localhost:8080/"
    },
    "id": "ka3Y7EJMoiIB",
    "outputId": "2a691f52-3dd3-4ad7-e2d7-8db758e4b0ac"
   },
   "outputs": [
    {
     "name": "stdout",
     "output_type": "stream",
     "text": [
      "<class 'pandas.core.frame.DataFrame'>\n",
      "Int64Index: 128557 entries, 1 to 320768\n",
      "Data columns (total 12 columns):\n",
      " #   Column                       Non-Null Count   Dtype  \n",
      "---  ------                       --------------   -----  \n",
      " 0   additives_n                  128557 non-null  float64\n",
      " 1   ingredients_from_palm_oil_n  128557 non-null  float64\n",
      " 2   nutrition-score-fr_100g      128557 non-null  float64\n",
      " 3   proteins_100g                128557 non-null  float64\n",
      " 4   sugars_100g                  128557 non-null  float64\n",
      " 5   fat_100g                     128557 non-null  float64\n",
      " 6   saturated-fat_100g           128557 non-null  float64\n",
      " 7   vitamin-a_100g               128557 non-null  float64\n",
      " 8   vitamin-c_100g               128557 non-null  float64\n",
      " 9   calcium_100g                 128557 non-null  float64\n",
      " 10  cholesterol_100g             128557 non-null  float64\n",
      " 11  fiber_100g                   128557 non-null  float64\n",
      "dtypes: float64(12)\n",
      "memory usage: 12.8 MB\n"
     ]
    }
   ],
   "source": [
    "data.info()"
   ]
  },
  {
   "cell_type": "code",
   "execution_count": 52,
   "metadata": {
    "colab": {
     "base_uri": "https://localhost:8080/"
    },
    "id": "EESEmWI3oiIB",
    "outputId": "fa298636-22ed-4c07-da30-f0c27a910b01"
   },
   "outputs": [
    {
     "name": "stdout",
     "output_type": "stream",
     "text": [
      "(128557, 12)\n",
      "(128557,)\n"
     ]
    }
   ],
   "source": [
    "print(data.shape)\n",
    "print(target.shape)"
   ]
  },
  {
   "cell_type": "code",
   "execution_count": 53,
   "metadata": {
    "id": "jgIMxBE-oiIB"
   },
   "outputs": [],
   "source": [
    "X_train, X_test, y_train, y_test = train_test_split(data, target, test_size = 0.2)"
   ]
  },
  {
   "cell_type": "code",
   "execution_count": 54,
   "metadata": {
    "colab": {
     "base_uri": "https://localhost:8080/"
    },
    "id": "0voF5ROWoiIB",
    "outputId": "3787024c-d0e4-4715-ef48-f280b549b046"
   },
   "outputs": [
    {
     "name": "stdout",
     "output_type": "stream",
     "text": [
      "[ 4.29731714e-17 -3.73078980e-18  5.33364764e-17  1.85848603e-16\n",
      "  4.72566708e-17 -8.80190039e-17  2.76354800e-17  4.25586392e-17\n",
      "  1.86539490e-18 -4.69803160e-18  5.84490403e-17 -2.12793196e-17]\n",
      "[1. 1. 1. 1. 1. 1. 1. 1. 1. 1. 1. 1.]\n"
     ]
    }
   ],
   "source": [
    "scaler = StandardScaler().fit(X_train)\n",
    "\n",
    "X_train_scaled = scaler.transform(X_train)\n",
    "print(X_train_scaled.mean(axis=0))\n",
    "print(X_train_scaled.std(axis=0))"
   ]
  },
  {
   "cell_type": "code",
   "execution_count": 55,
   "metadata": {
    "colab": {
     "base_uri": "https://localhost:8080/"
    },
    "id": "3G9xPbmnoiIC",
    "outputId": "8d5e3ab8-f9f8-4594-945d-0c4eeb3ccf00"
   },
   "outputs": [
    {
     "name": "stdout",
     "output_type": "stream",
     "text": [
      "[ 0.00319749  0.01166747 -0.00160185 -0.00304902 -0.00481235  0.00320364\n",
      "  0.0001048   0.0022574  -0.00200175  0.00397621 -0.00567157  0.00645247]\n",
      "[1.00053294 1.41409667 1.00443652 0.99107071 0.99427816 1.00642287\n",
      " 0.99356521 1.1205096  1.0007867  0.99036824 0.97617755 1.03209064]\n"
     ]
    }
   ],
   "source": [
    "X_test_scaled = scaler.transform(X_test)\n",
    "\n",
    "print(X_test_scaled.mean(axis=0))\n",
    "print(X_test_scaled.std(axis=0))"
   ]
  },
  {
   "cell_type": "code",
   "execution_count": 56,
   "metadata": {
    "colab": {
     "base_uri": "https://localhost:8080/"
    },
    "id": "wMZMU3WWoiIC",
    "outputId": "eb2c7755-1dfd-4b7f-dedc-0a1d7e27b3b3"
   },
   "outputs": [
    {
     "data": {
      "text/plain": [
       "KNeighborsClassifier(n_neighbors=10000)"
      ]
     },
     "execution_count": 56,
     "metadata": {},
     "output_type": "execute_result"
    }
   ],
   "source": [
    "knn_10000 = KNeighborsClassifier(n_neighbors=10000)\n",
    "knn_10000.fit(X_train_scaled, y_train)"
   ]
  },
  {
   "cell_type": "code",
   "execution_count": 57,
   "metadata": {
    "colab": {
     "base_uri": "https://localhost:8080/"
    },
    "id": "2STdJIo5oiIC",
    "outputId": "fb0d205a-495d-4fbd-a792-57b5c6f5bf25"
   },
   "outputs": [
    {
     "data": {
      "text/plain": [
       "0.6746655258245178"
      ]
     },
     "execution_count": 57,
     "metadata": {},
     "output_type": "execute_result"
    }
   ],
   "source": [
    "score_10000 = knn_10000.score(X_test_scaled, y_test)\n",
    "score_10000"
   ]
  },
  {
   "cell_type": "code",
   "execution_count": 58,
   "metadata": {
    "colab": {
     "base_uri": "https://localhost:8080/"
    },
    "id": "2KZsfxI_pBTK",
    "outputId": "3d79e682-cc12-4e5e-9060-7af08ef8053a"
   },
   "outputs": [
    {
     "data": {
      "text/plain": [
       "KNeighborsClassifier(n_neighbors=3000)"
      ]
     },
     "execution_count": 58,
     "metadata": {},
     "output_type": "execute_result"
    }
   ],
   "source": [
    "knn_3000 = KNeighborsClassifier(n_neighbors=3000)\n",
    "knn_3000.fit(X_train_scaled, y_train)"
   ]
  },
  {
   "cell_type": "code",
   "execution_count": 59,
   "metadata": {
    "colab": {
     "base_uri": "https://localhost:8080/"
    },
    "id": "HTULtMSapBbI",
    "outputId": "943a6223-dd49-4ecb-bbd2-ad735c66c782"
   },
   "outputs": [
    {
     "data": {
      "text/plain": [
       "0.7407825140012445"
      ]
     },
     "execution_count": 59,
     "metadata": {},
     "output_type": "execute_result"
    }
   ],
   "source": [
    "score_3000 = knn_3000.score(X_test_scaled, y_test)\n",
    "score_3000"
   ]
  },
  {
   "cell_type": "code",
   "execution_count": 60,
   "metadata": {
    "colab": {
     "base_uri": "https://localhost:8080/"
    },
    "id": "Ui4uWkappBhC",
    "outputId": "34c265ab-d714-4bb2-bd61-6d2f316c78b8"
   },
   "outputs": [
    {
     "data": {
      "text/plain": [
       "KNeighborsClassifier(n_neighbors=1000)"
      ]
     },
     "execution_count": 60,
     "metadata": {},
     "output_type": "execute_result"
    }
   ],
   "source": [
    "knn_1000 = KNeighborsClassifier(n_neighbors=1000)\n",
    "knn_1000.fit(X_train_scaled, y_train)"
   ]
  },
  {
   "cell_type": "code",
   "execution_count": 61,
   "metadata": {
    "colab": {
     "base_uri": "https://localhost:8080/"
    },
    "id": "48yj_YhhpBmy",
    "outputId": "0253d9f9-16a3-4be8-a6f5-b88daae5d632"
   },
   "outputs": [
    {
     "data": {
      "text/plain": [
       "0.7935205351586808"
      ]
     },
     "execution_count": 61,
     "metadata": {},
     "output_type": "execute_result"
    }
   ],
   "source": [
    "score_1000 = knn_1000.score(X_test_scaled, y_test)\n",
    "score_1000"
   ]
  },
  {
   "cell_type": "code",
   "execution_count": 62,
   "metadata": {
    "colab": {
     "base_uri": "https://localhost:8080/"
    },
    "id": "uFBbbL3cpBsu",
    "outputId": "43161687-9b69-4276-b0e3-e379e955b4a2"
   },
   "outputs": [
    {
     "data": {
      "text/plain": [
       "KNeighborsClassifier(n_neighbors=500)"
      ]
     },
     "execution_count": 62,
     "metadata": {},
     "output_type": "execute_result"
    }
   ],
   "source": [
    "knn_500 = KNeighborsClassifier(n_neighbors=500)\n",
    "knn_500.fit(X_train_scaled, y_train)"
   ]
  },
  {
   "cell_type": "code",
   "execution_count": 63,
   "metadata": {
    "colab": {
     "base_uri": "https://localhost:8080/"
    },
    "id": "HFkPUJ9qpByS",
    "outputId": "8254d2a8-8dcd-4a81-8075-19230bb50ff7"
   },
   "outputs": [
    {
     "data": {
      "text/plain": [
       "0.8243621655258245"
      ]
     },
     "execution_count": 63,
     "metadata": {},
     "output_type": "execute_result"
    }
   ],
   "source": [
    "score_500 = knn_500.score(X_test_scaled, y_test)\n",
    "score_500"
   ]
  },
  {
   "cell_type": "code",
   "execution_count": 64,
   "metadata": {
    "colab": {
     "base_uri": "https://localhost:8080/"
    },
    "id": "njQQRWoIoiIC",
    "outputId": "f13d41e1-e02b-4531-ae90-ed8e2f960933"
   },
   "outputs": [
    {
     "data": {
      "text/plain": [
       "KNeighborsClassifier(n_neighbors=300)"
      ]
     },
     "execution_count": 64,
     "metadata": {},
     "output_type": "execute_result"
    }
   ],
   "source": [
    "knn_300 = KNeighborsClassifier(n_neighbors=300)\n",
    "knn_300.fit(X_train_scaled, y_train)"
   ]
  },
  {
   "cell_type": "code",
   "execution_count": 65,
   "metadata": {
    "colab": {
     "base_uri": "https://localhost:8080/"
    },
    "id": "YL9PGwtHpK-Y",
    "outputId": "11f03c21-650f-4d86-c90b-9fbd3b2b3e9a"
   },
   "outputs": [
    {
     "data": {
      "text/plain": [
       "0.8400357809583074"
      ]
     },
     "execution_count": 65,
     "metadata": {},
     "output_type": "execute_result"
    }
   ],
   "source": [
    "score_300 = knn_300.score(X_test_scaled, y_test)\n",
    "score_300"
   ]
  },
  {
   "cell_type": "code",
   "execution_count": 66,
   "metadata": {
    "colab": {
     "base_uri": "https://localhost:8080/"
    },
    "id": "BUxfSHB-pLEA",
    "outputId": "4414d191-a163-49ed-f989-ed5cc60cf92d"
   },
   "outputs": [
    {
     "data": {
      "text/plain": [
       "KNeighborsClassifier(n_neighbors=100)"
      ]
     },
     "execution_count": 66,
     "metadata": {},
     "output_type": "execute_result"
    }
   ],
   "source": [
    "knn_100 = KNeighborsClassifier(n_neighbors=100)\n",
    "knn_100.fit(X_train_scaled, y_train)"
   ]
  },
  {
   "cell_type": "code",
   "execution_count": 67,
   "metadata": {
    "colab": {
     "base_uri": "https://localhost:8080/"
    },
    "id": "bAEfvQpUpLIR",
    "outputId": "e12f01cf-4226-4a71-8d43-926c436127f3"
   },
   "outputs": [
    {
     "data": {
      "text/plain": [
       "0.8748444306160548"
      ]
     },
     "execution_count": 67,
     "metadata": {},
     "output_type": "execute_result"
    }
   ],
   "source": [
    "score_100 = knn_100.score(X_test_scaled, y_test)\n",
    "score_100"
   ]
  },
  {
   "cell_type": "code",
   "execution_count": 68,
   "metadata": {
    "colab": {
     "base_uri": "https://localhost:8080/"
    },
    "id": "1-A5ciokpLMq",
    "outputId": "b47c55d6-adae-4494-8186-2305dcc1bb77"
   },
   "outputs": [
    {
     "data": {
      "text/plain": [
       "KNeighborsClassifier(n_neighbors=50)"
      ]
     },
     "execution_count": 68,
     "metadata": {},
     "output_type": "execute_result"
    }
   ],
   "source": [
    "knn_50 = KNeighborsClassifier(n_neighbors=50)\n",
    "knn_50.fit(X_train_scaled, y_train)"
   ]
  },
  {
   "cell_type": "code",
   "execution_count": 69,
   "metadata": {
    "colab": {
     "base_uri": "https://localhost:8080/"
    },
    "id": "YSZrJh9spM_d",
    "outputId": "13ff8ee8-132b-4e01-90dd-e327ad2b5eba"
   },
   "outputs": [
    {
     "data": {
      "text/plain": [
       "0.8913347853142501"
      ]
     },
     "execution_count": 69,
     "metadata": {},
     "output_type": "execute_result"
    }
   ],
   "source": [
    "score_50 = knn_50.score(X_test_scaled, y_test)\n",
    "score_50"
   ]
  },
  {
   "cell_type": "code",
   "execution_count": 70,
   "metadata": {
    "colab": {
     "base_uri": "https://localhost:8080/"
    },
    "id": "IErQbFKipNFk",
    "outputId": "8b0b03c5-ae9e-4e02-dc08-f5d364930f4a"
   },
   "outputs": [
    {
     "data": {
      "text/plain": [
       "KNeighborsClassifier(n_neighbors=30)"
      ]
     },
     "execution_count": 70,
     "metadata": {},
     "output_type": "execute_result"
    }
   ],
   "source": [
    "knn_30 = KNeighborsClassifier(n_neighbors=30)\n",
    "knn_30.fit(X_train_scaled, y_train)"
   ]
  },
  {
   "cell_type": "code",
   "execution_count": 71,
   "metadata": {
    "colab": {
     "base_uri": "https://localhost:8080/"
    },
    "id": "dvntsNBapNKx",
    "outputId": "3566db64-4f98-42bb-8dbe-1c2b03cf71f0"
   },
   "outputs": [
    {
     "data": {
      "text/plain": [
       "0.8999688861232109"
      ]
     },
     "execution_count": 71,
     "metadata": {},
     "output_type": "execute_result"
    }
   ],
   "source": [
    "score_30 = knn_30.score(X_test_scaled, y_test)\n",
    "score_30"
   ]
  },
  {
   "cell_type": "code",
   "execution_count": 73,
   "metadata": {
    "colab": {
     "base_uri": "https://localhost:8080/"
    },
    "id": "0ImfKouipNQP",
    "outputId": "5474c937-f004-413d-9bf9-48669f2878ef"
   },
   "outputs": [
    {
     "data": {
      "text/plain": [
       "KNeighborsClassifier(n_neighbors=10)"
      ]
     },
     "execution_count": 73,
     "metadata": {},
     "output_type": "execute_result"
    }
   ],
   "source": [
    "knn_10 = KNeighborsClassifier(n_neighbors=10)\n",
    "knn_10.fit(X_train_scaled, y_train)"
   ]
  },
  {
   "cell_type": "code",
   "execution_count": 74,
   "metadata": {
    "colab": {
     "base_uri": "https://localhost:8080/"
    },
    "id": "kDlKX872qNiU",
    "outputId": "bc57479e-4024-4525-ba8a-708500d5701f"
   },
   "outputs": [
    {
     "data": {
      "text/plain": [
       "0.9129978220286248"
      ]
     },
     "execution_count": 74,
     "metadata": {},
     "output_type": "execute_result"
    }
   ],
   "source": [
    "score_10 = knn_10.score(X_test_scaled, y_test)\n",
    "score_10"
   ]
  },
  {
   "cell_type": "code",
   "execution_count": 76,
   "metadata": {
    "colab": {
     "base_uri": "https://localhost:8080/"
    },
    "id": "OdnX7H6dqNp6",
    "outputId": "f25a3220-4cfa-4781-f795-b3648f670ef6"
   },
   "outputs": [
    {
     "name": "stdout",
     "output_type": "stream",
     "text": [
      "{'n_neighbors': 3}\n"
     ]
    }
   ],
   "source": [
    "from sklearn.model_selection import GridSearchCV\n",
    "clf_knn = KNeighborsClassifier()\n",
    "parametres_knn = {'n_neighbors' :[(i) for i in range (2,10)]} \n",
    "grid_clf_knn = GridSearchCV(estimator=clf_knn, param_grid=parametres_knn)\n",
    "grille1 = grid_clf_knn.fit(X_train_scaled,y_train)\n",
    "pd.DataFrame(grille1.cv_results_)[['params', 'mean_test_score', 'std_test_score']]\n",
    "print(grille1.best_params_)"
   ]
  },
  {
   "cell_type": "code",
   "execution_count": 77,
   "metadata": {
    "colab": {
     "base_uri": "https://localhost:8080/"
    },
    "id": "EOfqatqfpLQ9",
    "outputId": "0c063342-9f5f-469e-aaf4-925d78823bb7"
   },
   "outputs": [
    {
     "data": {
      "text/plain": [
       "KNeighborsClassifier()"
      ]
     },
     "execution_count": 77,
     "metadata": {},
     "output_type": "execute_result"
    }
   ],
   "source": [
    "knn_5 = KNeighborsClassifier()\n",
    "knn_5.fit(X_train_scaled, y_train)"
   ]
  },
  {
   "cell_type": "code",
   "execution_count": 78,
   "metadata": {
    "colab": {
     "base_uri": "https://localhost:8080/"
    },
    "id": "A5iUzZ4RpLVa",
    "outputId": "159036c8-ca35-4193-bffd-9ca90b14e624"
   },
   "outputs": [
    {
     "data": {
      "text/plain": [
       "0.9195317361543248"
      ]
     },
     "execution_count": 78,
     "metadata": {},
     "output_type": "execute_result"
    }
   ],
   "source": [
    "score_5 = knn_5.score(X_test_scaled, y_test)\n",
    "score_5"
   ]
  },
  {
   "cell_type": "code",
   "execution_count": 79,
   "metadata": {
    "colab": {
     "base_uri": "https://localhost:8080/"
    },
    "id": "qJuDbYe-uotE",
    "outputId": "f69f27a3-c0a1-4ba5-da72-2c2251c34514"
   },
   "outputs": [
    {
     "data": {
      "text/plain": [
       "KNeighborsClassifier(n_neighbors=3)"
      ]
     },
     "execution_count": 79,
     "metadata": {},
     "output_type": "execute_result"
    }
   ],
   "source": [
    "knn_3 = KNeighborsClassifier(n_neighbors=3)\n",
    "knn_3.fit(X_train_scaled, y_train)"
   ]
  },
  {
   "cell_type": "code",
   "execution_count": 80,
   "metadata": {
    "colab": {
     "base_uri": "https://localhost:8080/"
    },
    "id": "L95oqF3joiIC",
    "outputId": "6bc924ec-9a97-4188-bda7-e9d179eefee2"
   },
   "outputs": [
    {
     "data": {
      "text/plain": [
       "0.9220208462974486"
      ]
     },
     "execution_count": 80,
     "metadata": {},
     "output_type": "execute_result"
    }
   ],
   "source": [
    "score_3 = knn_3.score(X_test_scaled, y_test)\n",
    "score_3"
   ]
  },
  {
   "cell_type": "markdown",
   "metadata": {
    "id": "4F_mSisiuywY"
   },
   "source": [
    "+ Meilleur knn avec n_neighbors = 3 et score = 0.9220208462974486.\n",
    "+ Essayons de récupérer nos données en utilisant knn."
   ]
  },
  {
   "cell_type": "code",
   "execution_count": 36,
   "metadata": {},
   "outputs": [],
   "source": [
    "df_2=df.drop(['product_name', 'countries', 'code'], axis=1)"
   ]
  },
  {
   "cell_type": "code",
   "execution_count": 37,
   "metadata": {},
   "outputs": [
    {
     "name": "stdout",
     "output_type": "stream",
     "text": [
      "<class 'pandas.core.frame.DataFrame'>\n",
      "Int64Index: 302987 entries, 0 to 320771\n",
      "Data columns (total 22 columns):\n",
      " #   Column                       Non-Null Count   Dtype  \n",
      "---  ------                       --------------   -----  \n",
      " 0   additives_n                  247091 non-null  float64\n",
      " 1   ingredients_from_palm_oil_n  247091 non-null  float64\n",
      " 2   nutrition_grade_fr           302987 non-null  int8   \n",
      " 3   nutrition-score-fr_100g      218463 non-null  float64\n",
      " 4   proteins_100g                256601 non-null  float64\n",
      " 5   sugars_100g                  241892 non-null  float64\n",
      " 6   fat_100g                     240580 non-null  float64\n",
      " 7   saturated-fat_100g           226638 non-null  float64\n",
      " 8   polyunsaturated-fat_100g     22782 non-null   float64\n",
      " 9   vitamin-a_100g               137382 non-null  float64\n",
      " 10  vitamin-c_100g               140496 non-null  float64\n",
      " 11  vitamin-pp_100g              11642 non-null   float64\n",
      " 12  vitamin-b6_100g              6722 non-null    float64\n",
      " 13  vitamin-b1_100g              10995 non-null   float64\n",
      " 14  vitamin-b2_100g              10715 non-null   float64\n",
      " 15  vitamin-b9_100g              5190 non-null    float64\n",
      " 16  calcium_100g                 140791 non-null  float64\n",
      " 17  potassium_100g               24669 non-null   float64\n",
      " 18  magnesium_100g               6184 non-null    float64\n",
      " 19  phosphorus_100g              5795 non-null    float64\n",
      " 20  cholesterol_100g             143945 non-null  float64\n",
      " 21  fiber_100g                   198582 non-null  float64\n",
      "dtypes: float64(21), int8(1)\n",
      "memory usage: 51.1 MB\n"
     ]
    }
   ],
   "source": [
    "df_2.info()"
   ]
  },
  {
   "cell_type": "code",
   "execution_count": 39,
   "metadata": {},
   "outputs": [
    {
     "ename": "KeyboardInterrupt",
     "evalue": "",
     "output_type": "error",
     "traceback": [
      "\u001b[1;31m---------------------------------------------------------------------------\u001b[0m",
      "\u001b[1;31mKeyboardInterrupt\u001b[0m                         Traceback (most recent call last)",
      "\u001b[1;32m<ipython-input-39-cb0625e8f932>\u001b[0m in \u001b[0;36m<module>\u001b[1;34m\u001b[0m\n\u001b[0;32m      1\u001b[0m \u001b[1;32mfrom\u001b[0m \u001b[0msklearn\u001b[0m\u001b[1;33m.\u001b[0m\u001b[0mimpute\u001b[0m \u001b[1;32mimport\u001b[0m \u001b[0mKNNImputer\u001b[0m\u001b[1;33m\u001b[0m\u001b[1;33m\u001b[0m\u001b[0m\n\u001b[0;32m      2\u001b[0m \u001b[0mimputer\u001b[0m \u001b[1;33m=\u001b[0m \u001b[0mKNNImputer\u001b[0m\u001b[1;33m(\u001b[0m\u001b[0mn_neighbors\u001b[0m\u001b[1;33m=\u001b[0m\u001b[1;36m3\u001b[0m\u001b[1;33m)\u001b[0m\u001b[1;33m\u001b[0m\u001b[1;33m\u001b[0m\u001b[0m\n\u001b[1;32m----> 3\u001b[1;33m \u001b[0mimputed\u001b[0m \u001b[1;33m=\u001b[0m \u001b[0mimputer\u001b[0m\u001b[1;33m.\u001b[0m\u001b[0mfit_transform\u001b[0m\u001b[1;33m(\u001b[0m\u001b[0mdf_2\u001b[0m\u001b[1;33m)\u001b[0m\u001b[1;33m\u001b[0m\u001b[1;33m\u001b[0m\u001b[0m\n\u001b[0m\u001b[0;32m      4\u001b[0m \u001b[0mdf_imputed\u001b[0m \u001b[1;33m=\u001b[0m \u001b[0mpd\u001b[0m\u001b[1;33m.\u001b[0m\u001b[0mDataFrame\u001b[0m\u001b[1;33m(\u001b[0m\u001b[0mimputed\u001b[0m\u001b[1;33m,\u001b[0m \u001b[0mcolumns\u001b[0m\u001b[1;33m=\u001b[0m\u001b[0mdf_2\u001b[0m\u001b[1;33m)\u001b[0m\u001b[1;33m\u001b[0m\u001b[1;33m\u001b[0m\u001b[0m\n",
      "\u001b[1;32m~\\anaconda3\\lib\\site-packages\\sklearn\\base.py\u001b[0m in \u001b[0;36mfit_transform\u001b[1;34m(self, X, y, **fit_params)\u001b[0m\n\u001b[0;32m    697\u001b[0m         \u001b[1;32mif\u001b[0m \u001b[0my\u001b[0m \u001b[1;32mis\u001b[0m \u001b[1;32mNone\u001b[0m\u001b[1;33m:\u001b[0m\u001b[1;33m\u001b[0m\u001b[1;33m\u001b[0m\u001b[0m\n\u001b[0;32m    698\u001b[0m             \u001b[1;31m# fit method of arity 1 (unsupervised transformation)\u001b[0m\u001b[1;33m\u001b[0m\u001b[1;33m\u001b[0m\u001b[1;33m\u001b[0m\u001b[0m\n\u001b[1;32m--> 699\u001b[1;33m             \u001b[1;32mreturn\u001b[0m \u001b[0mself\u001b[0m\u001b[1;33m.\u001b[0m\u001b[0mfit\u001b[0m\u001b[1;33m(\u001b[0m\u001b[0mX\u001b[0m\u001b[1;33m,\u001b[0m \u001b[1;33m**\u001b[0m\u001b[0mfit_params\u001b[0m\u001b[1;33m)\u001b[0m\u001b[1;33m.\u001b[0m\u001b[0mtransform\u001b[0m\u001b[1;33m(\u001b[0m\u001b[0mX\u001b[0m\u001b[1;33m)\u001b[0m\u001b[1;33m\u001b[0m\u001b[1;33m\u001b[0m\u001b[0m\n\u001b[0m\u001b[0;32m    700\u001b[0m         \u001b[1;32melse\u001b[0m\u001b[1;33m:\u001b[0m\u001b[1;33m\u001b[0m\u001b[1;33m\u001b[0m\u001b[0m\n\u001b[0;32m    701\u001b[0m             \u001b[1;31m# fit method of arity 2 (supervised transformation)\u001b[0m\u001b[1;33m\u001b[0m\u001b[1;33m\u001b[0m\u001b[1;33m\u001b[0m\u001b[0m\n",
      "\u001b[1;32m~\\anaconda3\\lib\\site-packages\\sklearn\\impute\\_knn.py\u001b[0m in \u001b[0;36mtransform\u001b[1;34m(self, X)\u001b[0m\n\u001b[0;32m    295\u001b[0m             \u001b[0mforce_all_finite\u001b[0m\u001b[1;33m=\u001b[0m\u001b[0mforce_all_finite\u001b[0m\u001b[1;33m,\u001b[0m\u001b[1;33m\u001b[0m\u001b[1;33m\u001b[0m\u001b[0m\n\u001b[0;32m    296\u001b[0m             reduce_func=process_chunk)\n\u001b[1;32m--> 297\u001b[1;33m         \u001b[1;32mfor\u001b[0m \u001b[0mchunk\u001b[0m \u001b[1;32min\u001b[0m \u001b[0mgen\u001b[0m\u001b[1;33m:\u001b[0m\u001b[1;33m\u001b[0m\u001b[1;33m\u001b[0m\u001b[0m\n\u001b[0m\u001b[0;32m    298\u001b[0m             \u001b[1;31m# process_chunk modifies X in place. No return value.\u001b[0m\u001b[1;33m\u001b[0m\u001b[1;33m\u001b[0m\u001b[1;33m\u001b[0m\u001b[0m\n\u001b[0;32m    299\u001b[0m             \u001b[1;32mpass\u001b[0m\u001b[1;33m\u001b[0m\u001b[1;33m\u001b[0m\u001b[0m\n",
      "\u001b[1;32m~\\anaconda3\\lib\\site-packages\\sklearn\\metrics\\pairwise.py\u001b[0m in \u001b[0;36mpairwise_distances_chunked\u001b[1;34m(X, Y, reduce_func, metric, n_jobs, working_memory, **kwds)\u001b[0m\n\u001b[0;32m   1631\u001b[0m         \u001b[1;32mif\u001b[0m \u001b[0mreduce_func\u001b[0m \u001b[1;32mis\u001b[0m \u001b[1;32mnot\u001b[0m \u001b[1;32mNone\u001b[0m\u001b[1;33m:\u001b[0m\u001b[1;33m\u001b[0m\u001b[1;33m\u001b[0m\u001b[0m\n\u001b[0;32m   1632\u001b[0m             \u001b[0mchunk_size\u001b[0m \u001b[1;33m=\u001b[0m \u001b[0mD_chunk\u001b[0m\u001b[1;33m.\u001b[0m\u001b[0mshape\u001b[0m\u001b[1;33m[\u001b[0m\u001b[1;36m0\u001b[0m\u001b[1;33m]\u001b[0m\u001b[1;33m\u001b[0m\u001b[1;33m\u001b[0m\u001b[0m\n\u001b[1;32m-> 1633\u001b[1;33m             \u001b[0mD_chunk\u001b[0m \u001b[1;33m=\u001b[0m \u001b[0mreduce_func\u001b[0m\u001b[1;33m(\u001b[0m\u001b[0mD_chunk\u001b[0m\u001b[1;33m,\u001b[0m \u001b[0msl\u001b[0m\u001b[1;33m.\u001b[0m\u001b[0mstart\u001b[0m\u001b[1;33m)\u001b[0m\u001b[1;33m\u001b[0m\u001b[1;33m\u001b[0m\u001b[0m\n\u001b[0m\u001b[0;32m   1634\u001b[0m             \u001b[0m_check_chunk_size\u001b[0m\u001b[1;33m(\u001b[0m\u001b[0mD_chunk\u001b[0m\u001b[1;33m,\u001b[0m \u001b[0mchunk_size\u001b[0m\u001b[1;33m)\u001b[0m\u001b[1;33m\u001b[0m\u001b[1;33m\u001b[0m\u001b[0m\n\u001b[0;32m   1635\u001b[0m         \u001b[1;32myield\u001b[0m \u001b[0mD_chunk\u001b[0m\u001b[1;33m\u001b[0m\u001b[1;33m\u001b[0m\u001b[0m\n",
      "\u001b[1;32m~\\anaconda3\\lib\\site-packages\\sklearn\\impute\\_knn.py\u001b[0m in \u001b[0;36mprocess_chunk\u001b[1;34m(dist_chunk, start)\u001b[0m\n\u001b[0;32m    257\u001b[0m \u001b[1;33m\u001b[0m\u001b[0m\n\u001b[0;32m    258\u001b[0m                 \u001b[1;31m# distances for samples that needed imputation for column\u001b[0m\u001b[1;33m\u001b[0m\u001b[1;33m\u001b[0m\u001b[1;33m\u001b[0m\u001b[0m\n\u001b[1;32m--> 259\u001b[1;33m                 dist_subset = (dist_chunk[dist_idx_map[receivers_idx] - start]\n\u001b[0m\u001b[0;32m    260\u001b[0m                                [:, potential_donors_idx])\n\u001b[0;32m    261\u001b[0m \u001b[1;33m\u001b[0m\u001b[0m\n",
      "\u001b[1;31mKeyboardInterrupt\u001b[0m: "
     ]
    }
   ],
   "source": [
    "from sklearn.impute import KNNImputer\n",
    "imputer = KNNImputer(n_neighbors=3)\n",
    "imputed = imputer.fit_transform(df_2)\n",
    "df_imputed = pd.DataFrame(imputed, columns=df_2)"
   ]
  },
  {
   "cell_type": "markdown",
   "metadata": {},
   "source": [
    "En raison du fait que nous avons une grande quantité de données, ce code prend beaucoup de temps à traiter. Par conséquent, pour une analyse plus approfondie, je remplacerai toutes les valeurs manquantes par la valeur moyenne ou le mode sur la colonne."
   ]
  }
 ],
 "metadata": {
  "colab": {
   "collapsed_sections": [],
   "machine_shape": "hm",
   "name": "KNN,_K_Means_для_восстановления_NaN(1).ipynb",
   "provenance": []
  },
  "kernelspec": {
   "display_name": "Python 3",
   "language": "python",
   "name": "python3"
  },
  "language_info": {
   "codemirror_mode": {
    "name": "ipython",
    "version": 3
   },
   "file_extension": ".py",
   "mimetype": "text/x-python",
   "name": "python",
   "nbconvert_exporter": "python",
   "pygments_lexer": "ipython3",
   "version": "3.8.5"
  }
 },
 "nbformat": 4,
 "nbformat_minor": 1
}
